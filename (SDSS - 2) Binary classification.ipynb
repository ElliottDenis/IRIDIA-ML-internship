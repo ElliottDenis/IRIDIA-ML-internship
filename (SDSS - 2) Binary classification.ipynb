{
 "cells": [
  {
   "cell_type": "markdown",
   "metadata": {},
   "source": [
    "## Preparing binary classifier\n",
    "\n",
    "Let's try to create and train classifier to identify GALAXIES."
   ]
  },
  {
   "cell_type": "code",
   "execution_count": 1,
   "metadata": {},
   "outputs": [],
   "source": [
    "# basics\n",
    "import pandas as pd\n",
    "import numpy as np\n",
    "import random\n",
    "import matplotlib as mpl\n",
    "import matplotlib.pyplot as plt\n",
    "import seaborn as sns\n",
    "import warnings\n",
    "warnings.simplefilter(action='ignore', category=FutureWarning)\n",
    "import time\n",
    "\n",
    "# creating train and test sets\n",
    "from sklearn.model_selection import StratifiedShuffleSplit\n",
    "from sklearn.preprocessing import StandardScaler\n",
    "\n",
    "# classifiers\n",
    "from sklearn.svm import SVC\n",
    "from sklearn.svm import LinearSVC\n",
    "from sklearn.linear_model import SGDClassifier\n",
    "from sklearn.ensemble import RandomForestClassifier\n",
    "from sklearn.neighbors import KNeighborsClassifier\n",
    "from sklearn.tree import DecisionTreeClassifier\n",
    "from sklearn.gaussian_process import GaussianProcessClassifier\n",
    "\n",
    "# evaluating models\n",
    "from sklearn.model_selection import cross_val_score\n",
    "from sklearn.metrics import f1_score\n",
    "from sklearn.model_selection import cross_val_predict\n",
    "from sklearn.metrics import precision_score, recall_score, accuracy_score\n",
    "from sklearn.metrics import precision_recall_curve\n",
    "from sklearn.metrics import confusion_matrix\n",
    "from pandas.plotting import scatter_matrix\n",
    "from sklearn.metrics import roc_curve\n",
    "from sklearn.metrics import mean_squared_error\n",
    "\n",
    "# regressors\n",
    "from sklearn.linear_model import LinearRegression\n",
    "from sklearn.tree import DecisionTreeRegressor\n",
    "from sklearn.ensemble import RandomForestRegressor\n",
    "from sklearn.svm import SVR\n",
    "from sklearn.linear_model import SGDRegressor\n",
    "from sklearn.neighbors import KNeighborsRegressor\n",
    "from sklearn.ensemble import GradientBoostingRegressor\n",
    "from sklearn.linear_model import BayesianRidge\n",
    "from sklearn.kernel_ridge import KernelRidge\n",
    "\n",
    "# optimising models and fine tuning\n",
    "from sklearn.model_selection import GridSearchCV\n",
    "from sklearn.model_selection import RandomizedSearchCV"
   ]
  },
  {
   "cell_type": "code",
   "execution_count": 2,
   "metadata": {},
   "outputs": [],
   "source": [
    "def get_train_test():\n",
    "    \n",
    "    '''GET DATASET FROM CSV FILE, REMOVE OUTLIERS AND DROP USELESS COLUMNS,\n",
    "    ONLY KEEP FILTERS AND REDSHIFTS'''\n",
    "    \n",
    "    # load\n",
    "    df = pd.read_csv(\"star_classification.csv\")\n",
    "    # remove outliers (we noticed some objects had values for u/z/g/redshift below zero)\n",
    "    outliers = df[(df[\"u\"] <= 0)  \n",
    "                | (df[\"z\"] <= 0) \n",
    "                | (df[\"g\"] <= 0)]\n",
    "\n",
    "    # drop the row corresponding to the outlier\n",
    "    df = df.drop(outliers.index, axis=0)\n",
    "    \n",
    "    # we drop the data we are not interested in and which won't be useful\n",
    "    df = df.drop(\n",
    "        columns=[\"alpha\", \"delta\", \"obj_ID\", \"fiber_ID\", \"MJD\", \"plate\", \"spec_obj_ID\", \n",
    "                 \"field_ID\", \"cam_col\", \"rerun_ID\", \"run_ID\"], axis=1)\n",
    "    \n",
    "    # stratified split (where split is made using the distribution of classes)\n",
    "    split = StratifiedShuffleSplit(n_splits=1, test_size=0.2, random_state=42)\n",
    "    for train_index, test_index in split.split(df, df[\"class\"]):\n",
    "        strat_train_set = df.loc[train_index]\n",
    "        strat_test_set = df.loc[test_index]\n",
    "        \n",
    "    # return stratified test and train sets\n",
    "    return strat_train_set, strat_test_set"
   ]
  },
  {
   "cell_type": "code",
   "execution_count": 3,
   "metadata": {},
   "outputs": [],
   "source": [
    "# store sets in variables and reset indices \n",
    "train, test = get_train_test()\n",
    "train = train.reset_index(drop=True)\n",
    "test = test.reset_index(drop=True)\n",
    "\n",
    "# seperate measurements (x) with class(y)\n",
    "x_train = train.drop(columns=[\"class\"], axis=1)\n",
    "y_train = train[\"class\"]\n",
    "\n",
    "# replace all infinite values with NaN\n",
    "x_train = x_train.replace([np.inf, -np.inf], np.nan)\n",
    "y_train = y_train.replace([np.inf, -np.inf], np.nan)\n",
    "\n",
    "# drop all the rows with NaN\n",
    "x_train = x_train.dropna(axis=0)\n",
    "y_train = y_train.dropna(axis=0)\n",
    "\n",
    "# seperate measurements (x) with class(y)\n",
    "x_test = test.drop(columns=[\"class\"], axis=1)\n",
    "y_test = test[\"class\"]\n",
    "\n",
    "# replace all infinite values with NaN\n",
    "x_test = x_test.replace([np.inf, -np.inf], np.nan)\n",
    "y_test = y_test.replace([np.inf, -np.inf], np.nan)\n",
    "\n",
    "# drop all the rows with NaN\n",
    "x_test = x_test.dropna(axis=0)\n",
    "y_test = y_test.dropna(axis=0)\n",
    "\n",
    "# reset indices\n",
    "x_train = x_train.reset_index(drop=True)\n",
    "y_train = y_train.reset_index(drop=True)\n",
    "\n",
    "# array of true/false to find galaxies \n",
    "y_train_galaxy = (y_train == \"GALAXY\")\n",
    "y_test_galaxy = (y_test == \"GALAXY\")\n",
    "\n",
    "# scale inputs to be used to improve models below\n",
    "x_train_scaled = StandardScaler().fit_transform(x_train)\n",
    "x_test_scaled = StandardScaler().fit_transform(x_test)"
   ]
  },
  {
   "cell_type": "markdown",
   "metadata": {},
   "source": [
    "## Confusion matrix with star binary classifier\n",
    "\n",
    "we're not using the test set, we will use the cross_val_predict function (cross_val_predict() performs K-fold cross-validation, but instead of returning the evaluation scores, it returns the predictions made on each test fold)\n",
    "\n",
    "**Confusion matrix**\n",
    "- each column = predicted class\n",
    "- each row = actual class\n",
    "\n",
    "Calculating:\n",
    "1. Precision:\n",
    "$$precision = \\frac{TP}{TP+FP}$$\n",
    "2. Recall:\n",
    "$$recall = \\frac{TP}{TP+FN}$$\n",
    "3. F1 score:\n",
    "$$F1 = \\frac{2}{\\frac{1}{precision} + \\frac{1}{recall}}$$\n",
    "\n",
    "## Trying new classifier: SGD"
   ]
  },
  {
   "cell_type": "code",
   "execution_count": 10,
   "metadata": {},
   "outputs": [
    {
     "name": "stdout",
     "output_type": "stream",
     "text": [
      "F1 score of the model 0.8609407372458922\n"
     ]
    }
   ],
   "source": [
    "# introduce default SGD classifier\n",
    "sgd_clf = SGDClassifier(random_state=42)\n",
    "# cross validation\n",
    "y_train_pred = cross_val_predict(sgd_clf, x_train_scaled, y_train_galaxy, cv=3)\n",
    "confusion_matrix(y_train_galaxy, y_train_pred)\n",
    "print(\"F1 score of the model\", f1_score(y_train_galaxy, y_train_pred))"
   ]
  },
  {
   "cell_type": "markdown",
   "metadata": {},
   "source": [
    "We will try to fine-tune the model: vary the threshold of the decision function to optimise the F1 score of our binary model."
   ]
  },
  {
   "cell_type": "code",
   "execution_count": 11,
   "metadata": {},
   "outputs": [
    {
     "name": "stderr",
     "output_type": "stream",
     "text": [
      "C:\\Users\\ellio\\Anaconda3\\lib\\site-packages\\IPython\\core\\pylabtools.py:128: UserWarning: Creating legend with loc=\"best\" can be slow with large amounts of data.\n",
      "  fig.canvas.print_figure(bytes_io, **kw)\n"
     ]
    },
    {
     "data": {
      "image/png": "[encoded data removed]",
      "text/plain": [
       "<Figure size 432x288 with 1 Axes>"
      ]
     },
     "metadata": {
      "needs_background": "light"
     },
     "output_type": "display_data"
    }
   ],
   "source": [
    "# why cross validation here?\n",
    "y_scores_SGD = cross_val_predict(SGDClassifier(random_state=42), x_train_scaled, \n",
    "                                 y_train_galaxy, cv=3, \n",
    "                                 method=\"decision_function\")\n",
    "\n",
    "precisions, recalls, thresholds = precision_recall_curve(y_train_galaxy, y_scores_SGD)\n",
    "\n",
    "def plot_precision_recall_vs_threshold(precisions, recalls, thresholds):\n",
    "    plt.plot(thresholds, precisions[:-1], \"b--\", label=\"Precision\")\n",
    "    plt.plot(thresholds, recalls[:-1], \"g-\", label=\"Recall\")\n",
    "    f1_score = 2/(1/precisions[:-1] + 1/recalls[:-1])\n",
    "    plt.plot(thresholds, f1_score, \"r-\", label=\"f1 score\")\n",
    "    plt.axvline(x = 0)\n",
    "    #plt.xlim(thresholds.min(), thresholds.max())\n",
    "    plt.legend()\n",
    "    plt.xlabel(\"Threshold\")\n",
    "    # highlight the threshold and add the legend, axis label, and grid\n",
    "\n",
    "plot_precision_recall_vs_threshold(precisions, recalls, thresholds)\n",
    "plt.show()"
   ]
  },
  {
   "cell_type": "code",
   "execution_count": 62,
   "metadata": {
    "collapsed": true,
    "jupyter": {
     "outputs_hidden": true
    }
   },
   "outputs": [
    {
     "name": "stdout",
     "output_type": "stream",
     "text": [
      "The maximum f1 score is: 0.9100350512787226 which happens at a threshold of: -0.18510799824701563\n"
     ]
    }
   ],
   "source": [
    "f1_score_array = 2/(1/precisions[:-1] + 1/recalls[:-1])\n",
    "max_f1 = np.max(f1_score_array)\n",
    "max_f1_threshold = thresholds[np.argmax(f1_score_array)]\n",
    "print(\"The maximum f1 score is:\", max_f1, \"which happens at a threshold of:\", max_f1_threshold)"
   ]
  },
  {
   "cell_type": "code",
   "execution_count": 63,
   "metadata": {
    "collapsed": true,
    "jupyter": {
     "outputs_hidden": true
    }
   },
   "outputs": [
    {
     "name": "stdout",
     "output_type": "stream",
     "text": [
      "[[12744  6034]\n",
      " [ 1590 38554]]\n",
      "Precision of the model: 0.8646721090876469\n",
      "Recall of the model: 0.9603925866879235\n",
      "Accuracy of the model: 0.8706086012015886\n",
      "F1 score of the model 0.9100221876032668\n"
     ]
    }
   ],
   "source": [
    "# only take scores above threshold to be True\n",
    "y_train_pred_new = (y_scores_SGD > max_f1_threshold)\n",
    "    \n",
    "print(confusion_matrix(y_train_galaxy, y_train_pred_new))\n",
    "\n",
    "print(\"Precision of the model:\", precision_score(y_train_galaxy, y_train_pred_new))\n",
    "print(\"Recall of the model:\", recall_score(y_train_galaxy, y_train_pred_new))\n",
    "print(\"Accuracy of the model:\", accuracy_score(y_train_galaxy, y_train_pred_new))\n",
    "print(\"F1 score of the model\", f1_score(y_train_galaxy, y_train_pred_new))"
   ]
  },
  {
   "cell_type": "markdown",
   "metadata": {},
   "source": [
    "## Trying new classifier: Random Forest\n"
   ]
  },
  {
   "cell_type": "code",
   "execution_count": 4,
   "metadata": {},
   "outputs": [],
   "source": [
    "# introducing default Random Forest classifier\n",
    "forest_clf = RandomForestClassifier(random_state=42)\n",
    "# cross validation of training set (outputs True/False of being galaxy)\n",
    "y_scores_RF = cross_val_predict(forest_clf, x_train_scaled, y_train_galaxy, cv=3,)"
   ]
  },
  {
   "cell_type": "markdown",
   "metadata": {},
   "source": [
    "## Trying new classifier: Nearest Neighbours"
   ]
  },
  {
   "cell_type": "code",
   "execution_count": 65,
   "metadata": {},
   "outputs": [
    {
     "data": {
      "image/png": "[encoded data removed]",
      "text/plain": [
       "<Figure size 432x288 with 1 Axes>"
      ]
     },
     "metadata": {
      "needs_background": "light"
     },
     "output_type": "display_data"
    }
   ],
   "source": [
    "# check how changing the number of neighbors affects the f1 score of the classifier\n",
    "neighbours = range(1,21)\n",
    "\n",
    "for n in neighbours:\n",
    "    # p=1 and leaf_size=1 are fine-tuned hyperparameters, see later\n",
    "    neigh = KNeighborsClassifier(p=1, leaf_size=1,n_neighbors = n)\n",
    "    # cross-validation \n",
    "    y_train_pred_neigh = cross_val_predict(neigh, x_train_scaled, y_train_galaxy, cv=3)\n",
    "    # plot f1 score as function of number of neighbors\n",
    "    plt.plot(n, f1_score(y_train_galaxy, y_train_pred_neigh), '.');"
   ]
  },
  {
   "cell_type": "code",
   "execution_count": 5,
   "metadata": {},
   "outputs": [
    {
     "name": "stdout",
     "output_type": "stream",
     "text": [
      "--- 3.6601808071136475 seconds ---\n",
      "f1 score: 0.9650655021834061\n"
     ]
    }
   ],
   "source": [
    "start_time = time.time()\n",
    "neigh = KNeighborsClassifier(n_neighbors=4)\n",
    "# we'll be using k=4 later on which is why we define it as y_scores_KNN\n",
    "y_scores_KNN = cross_val_predict(neigh, x_train_scaled, y_train_galaxy, cv=3)\n",
    "print(\"--- %s seconds ---\" % (time.time() - start_time))\n",
    "print(\"f1 score:\", f1_score(y_train_galaxy, y_scores_KNN))"
   ]
  },
  {
   "cell_type": "markdown",
   "metadata": {},
   "source": [
    "## Trying new classifier: Decision Tree"
   ]
  },
  {
   "cell_type": "code",
   "execution_count": 6,
   "metadata": {},
   "outputs": [],
   "source": [
    "# introduce default Decision Tree classifier \n",
    "DT_clf = DecisionTreeClassifier(random_state=42)\n",
    "# cross-validation\n",
    "y_scores_DT = cross_val_predict(DT_clf, x_train_scaled, y_train_galaxy, cv=3)"
   ]
  },
  {
   "cell_type": "markdown",
   "metadata": {},
   "source": [
    "## Trying new classifier: Linear SVC"
   ]
  },
  {
   "cell_type": "code",
   "execution_count": 7,
   "metadata": {},
   "outputs": [
    {
     "name": "stderr",
     "output_type": "stream",
     "text": [
      "C:\\Users\\ellio\\Anaconda3\\lib\\site-packages\\sklearn\\svm\\base.py:929: ConvergenceWarning: Liblinear failed to converge, increase the number of iterations.\n",
      "  \"the number of iterations.\", ConvergenceWarning)\n",
      "C:\\Users\\ellio\\Anaconda3\\lib\\site-packages\\sklearn\\svm\\base.py:929: ConvergenceWarning: Liblinear failed to converge, increase the number of iterations.\n",
      "  \"the number of iterations.\", ConvergenceWarning)\n",
      "C:\\Users\\ellio\\Anaconda3\\lib\\site-packages\\sklearn\\svm\\base.py:929: ConvergenceWarning: Liblinear failed to converge, increase the number of iterations.\n",
      "  \"the number of iterations.\", ConvergenceWarning)\n"
     ]
    }
   ],
   "source": [
    "# introduce default Linear SVC classifier\n",
    "linsvc_clf = LinearSVC(random_state=42)\n",
    "# cross-validation\n",
    "y_scores_LinSVC = cross_val_predict(linsvc_clf, x_train_scaled, y_train_galaxy, cv=3)"
   ]
  },
  {
   "cell_type": "markdown",
   "metadata": {},
   "source": [
    "## Comparing SGD, KNN, RF, DT, SVM with ROC curves"
   ]
  },
  {
   "cell_type": "code",
   "execution_count": 8,
   "metadata": {},
   "outputs": [],
   "source": [
    "def plot_roc_curve(fpr, tpr, label=None):\n",
    "    \n",
    "    '''FUNCTION THAT WILL PLOT ROC CURVE WHEN GIVEN ARRAY OF\n",
    "    FALSE POSITIVE AND TRUE POSITIVE RATES'''\n",
    "    \n",
    "    plt.plot(fpr, tpr, linewidth=2, label=label)\n",
    "    # plot diagonal line (y=x)\n",
    "    plt.plot([0, 1], [0, 1], 'k--')\n",
    "    plt.xlabel(\"FPR\")\n",
    "    # True Positive Rate equivalent to Recall!!\n",
    "    plt.ylabel(\"TPR = Recall\")"
   ]
  },
  {
   "cell_type": "code",
   "execution_count": 12,
   "metadata": {},
   "outputs": [],
   "source": [
    "# tpr and fpr for various threshold values and different models\n",
    "fpr_SGD, tpr_SGD, thresholds_SGD = roc_curve(y_train_galaxy, y_scores_SGD)\n",
    "fpr_RF, tpr_RF, thresholds_RF = roc_curve(y_train_galaxy,y_scores_RF)\n",
    "fpr_KNN, tpr_KNN, thresholds_KNN = roc_curve(y_train_galaxy,y_scores_KNN)\n",
    "fpr_DT, tpr_DT, thresholds_DT = roc_curve(y_train_galaxy,y_scores_DT)\n",
    "fpr_LinSVC, tpr_LinSVC, thresholds_LinSVC = roc_curve(y_train_galaxy,y_scores_LinSVC)"
   ]
  },
  {
   "cell_type": "code",
   "execution_count": 13,
   "metadata": {},
   "outputs": [
    {
     "data": {
      "image/png": "[encoded data removed]",
      "text/plain": [
       "<Figure size 432x288 with 1 Axes>"
      ]
     },
     "metadata": {
      "needs_background": "light"
     },
     "output_type": "display_data"
    },
    {
     "name": "stdout",
     "output_type": "stream",
     "text": [
      "Area under the curve of (SGD classifier): 0.8518488179848949\n",
      "Area under the curve of (RF classifier): 0.9745209980902626\n",
      "Area under the curve of (KNN classifier): 0.9601290723535308\n",
      "Area under the curve of (DT classifier): 0.9629018034211542\n",
      "Area under the curve of (LinSVC classifier): 0.8104416865534426\n"
     ]
    }
   ],
   "source": [
    "# call roc function once to have diagonal line and axis labels\n",
    "plot_roc_curve(fpr_RF, tpr_RF, \"Random Forest\")\n",
    "# then simple plot fpr as function of tpr for remaining models\n",
    "plt.plot(fpr_SGD, tpr_SGD, \"b:\", label=\"SGD\")\n",
    "plt.plot(fpr_KNN, tpr_KNN, \"r:\", label=\"KNN\")\n",
    "plt.plot(fpr_DT, tpr_DT, \"g:\", label=\"DT\")\n",
    "plt.plot(fpr_LinSVC, tpr_LinSVC, \"c:\", label=\"Linear SVC\")\n",
    "\n",
    "plt.legend(loc=\"lower right\")\n",
    "plt.show()\n",
    "\n",
    "# Can also measure the area under the curve AUC\n",
    "from sklearn.metrics import roc_auc_score\n",
    "print(\"Area under the curve of (SGD classifier):\", roc_auc_score(y_train_galaxy, y_scores_SGD))\n",
    "print(\"Area under the curve of (RF classifier):\", roc_auc_score(y_train_galaxy, y_scores_RF))\n",
    "print(\"Area under the curve of (KNN classifier):\", roc_auc_score(y_train_galaxy, y_scores_KNN))\n",
    "print(\"Area under the curve of (DT classifier):\", roc_auc_score(y_train_galaxy, y_scores_DT))\n",
    "print(\"Area under the curve of (LinSVC classifier):\", roc_auc_score(y_train_galaxy, y_scores_LinSVC))"
   ]
  },
  {
   "cell_type": "markdown",
   "metadata": {},
   "source": [
    "### Testing the models on testing set using f1 score"
   ]
  },
  {
   "cell_type": "code",
   "execution_count": 14,
   "metadata": {},
   "outputs": [
    {
     "name": "stdout",
     "output_type": "stream",
     "text": [
      "F1 score of random forest: 0.9783082077051927\n",
      "F1 score of KNN: 0.9667400135409614\n",
      "F1 score of decision tree: 0.9698494569547532\n"
     ]
    },
    {
     "name": "stderr",
     "output_type": "stream",
     "text": [
      "C:\\Users\\ellio\\Anaconda3\\lib\\site-packages\\sklearn\\svm\\base.py:929: ConvergenceWarning: Liblinear failed to converge, increase the number of iterations.\n",
      "  \"the number of iterations.\", ConvergenceWarning)\n"
     ]
    },
    {
     "name": "stdout",
     "output_type": "stream",
     "text": [
      "F1 score of Linear SVC: 0.8481602043759529\n",
      "F1 score of SGD: 0.8646644419725621\n"
     ]
    }
   ],
   "source": [
    "# Random Forest on test set\n",
    "forest_clf = RandomForestClassifier(random_state=42)\n",
    "forest_clf.fit(x_train_scaled, y_train_galaxy)\n",
    "y_test_pred = forest_clf.predict(x_test_scaled)\n",
    "print(\"F1 score of random forest:\", f1_score(y_test_galaxy, y_test_pred))\n",
    "\n",
    "# KNN on test set\n",
    "neigh = KNeighborsClassifier(n_neighbors=4)\n",
    "neigh.fit(x_train_scaled, y_train_galaxy)\n",
    "y_test_pred = neigh.predict(x_test_scaled)\n",
    "print(\"F1 score of KNN:\", f1_score(y_test_galaxy, y_test_pred))\n",
    "\n",
    "# Decision Tree on test set\n",
    "DT_clf = DecisionTreeClassifier(random_state=42)\n",
    "DT_clf.fit(x_train_scaled, y_train_galaxy)\n",
    "y_test_pred = DT_clf.predict(x_test_scaled)\n",
    "print(\"F1 score of decision tree:\", f1_score(y_test_galaxy, y_test_pred))\n",
    "\n",
    "# Linear SVC on test set\n",
    "linsvc_clf = LinearSVC(random_state=42)\n",
    "linsvc_clf.fit(x_train_scaled, y_train_galaxy)\n",
    "y_test_pred = linsvc_clf.predict(x_test_scaled)\n",
    "print(\"F1 score of Linear SVC:\", f1_score(y_test_galaxy, y_test_pred))\n",
    "\n",
    "# SGD on test set\n",
    "sgd_clf = SGDClassifier(random_state=42)\n",
    "sgd_clf.fit(x_train_scaled, y_train_galaxy)\n",
    "y_test_pred = sgd_clf.predict(x_test_scaled)\n",
    "print(\"F1 score of SGD:\", f1_score(y_test_galaxy, y_test_pred))"
   ]
  },
  {
   "cell_type": "markdown",
   "metadata": {},
   "source": [
    "## Fine tuning classifiers and optimising hyperparameters\n",
    "\n",
    "Random forest hyperparameters: https://medium.com/analytics-vidhya/random-forest-classifier-and-its-hyperparameters-8467bec755f6\n",
    "\n",
    "We select the best three models: 1. Random Forest, 2. Decision Tree, 3. K-Nearest Neighbours.\n",
    "\n",
    "### 1. Random Forest"
   ]
  },
  {
   "cell_type": "code",
   "execution_count": 44,
   "metadata": {},
   "outputs": [
    {
     "name": "stdout",
     "output_type": "stream",
     "text": [
      "{'n_estimators': 47, 'min_weight_fraction_leaf': 0, 'min_samples_split': 73, 'min_samples_leaf': 75, 'max_features': 4}\n",
      "Time taken for random search with 10  iterations:  96.53729891777039\n",
      "{'n_estimators': 18, 'min_weight_fraction_leaf': 0, 'min_samples_split': 72, 'min_samples_leaf': 14, 'max_features': 5}\n",
      "Time taken for random search with 20  iterations:  251.85934162139893\n",
      "{'n_estimators': 189, 'min_weight_fraction_leaf': 0, 'min_samples_split': 65, 'min_samples_leaf': 24, 'max_features': 3}\n",
      "Time taken for random search with 30  iterations:  692.2833395004272\n"
     ]
    }
   ],
   "source": [
    "param_grid = {'n_estimators': np.linspace(1,200,200).astype(int), \n",
    "               'max_features': np.linspace(1,5,5).astype(int),\n",
    "               #'criterion': ['mse', 'mae'],\n",
    "               'min_samples_split': np.linspace(2,100,99).astype(int),\n",
    "               'min_samples_leaf': np.linspace(1,100,100).astype(int),\n",
    "               'min_weight_fraction_leaf': [0, 0.1, 0.2, 0.3, 0.4]}\n",
    "\n",
    "forest_clf = RandomForestClassifier(random_state=42)\n",
    "\n",
    "number_iterations = [10, 20, 30]\n",
    "time_taken = []\n",
    "f1_score_RF = []\n",
    "\n",
    "for n in number_iterations: \n",
    "    random_search_RF = RandomizedSearchCV(forest_clf, param_distributions=param_grid, cv = 3, n_iter = n)\n",
    "    random_search_RF.fit(x_train_scaled, y_train_galaxy)\n",
    "    print(random_search_RF.best_params_)\n",
    "    print(\"Time taken for random search with\", n, \" iterations: \", time.time() - start_time)"
   ]
  },
  {
   "cell_type": "code",
   "execution_count": 15,
   "metadata": {},
   "outputs": [
    {
     "data": {
      "text/plain": [
       "{'max_features': 3,\n",
       " 'min_samples_leaf': 4,\n",
       " 'min_samples_split': 2,\n",
       " 'min_weight_fraction_leaf': 0,\n",
       " 'n_estimators': 125}"
      ]
     },
     "execution_count": 15,
     "metadata": {},
     "output_type": "execute_result"
    }
   ],
   "source": [
    "param_grid = {'n_estimators': [125], \n",
    "               'max_features': [2,3,4,5],\n",
    "               #'criterion': ['mse', 'mae'],\n",
    "               'min_samples_split': [2],\n",
    "               'min_samples_leaf': [4],\n",
    "               'min_weight_fraction_leaf': [0]}\n",
    "\n",
    "forest_clf = RandomForestClassifier(random_state=42)\n",
    "grid_search = GridSearchCV(forest_clf, param_grid, cv=3)\n",
    "\n",
    "grid_search.fit(x_train_scaled, y_train_galaxy)\n",
    "\n",
    "grid_search.best_params_"
   ]
  },
  {
   "cell_type": "code",
   "execution_count": 86,
   "metadata": {},
   "outputs": [
    {
     "name": "stdout",
     "output_type": "stream",
     "text": [
      "Time taken fitting of 10  estimators:  5.038024187088013\n",
      "Time taken fitting of 20  estimators:  10.008867502212524\n",
      "Time taken fitting of 30  estimators:  14.834351778030396\n",
      "Time taken fitting of 40  estimators:  24.29885768890381\n",
      "Time taken fitting of 50  estimators:  27.89609670639038\n",
      "Time taken fitting of 75  estimators:  40.41981768608093\n",
      "Time taken fitting of 100  estimators:  54.22114825248718\n",
      "Time taken fitting of 125  estimators:  69.14348554611206\n",
      "Time taken fitting of 150  estimators:  84.61834812164307\n",
      "Time taken fitting of 200  estimators:  108.49201846122742\n"
     ]
    }
   ],
   "source": [
    "# varying n_estimators to analyse impact on predictive power\n",
    "number_esti = [10, 20, 30, 40, 50, 75, 100, 125, 150, 200]\n",
    "# we'll compare scaled/non-scaled values + time taken\n",
    "time_taken = []\n",
    "roc_auc_score_RF_scaled = []\n",
    "roc_auc_score_RF_notscaled = []\n",
    "\n",
    "for n in number_esti:    \n",
    "    # initialise clock\n",
    "    start_time = time.time()\n",
    "    \n",
    "    # import fine tuned classifier for SCALED inputs\n",
    "    forest_clf = RandomForestClassifier(n_estimators=n, min_samples_split=2, min_samples_leaf=4,\n",
    "                                    min_weight_fraction_leaf=0, max_features=2, random_state=42)\n",
    "    # cross-val probability calculation\n",
    "    y_probas_RF = cross_val_predict(forest_clf, x_train_scaled, y_train_galaxy, cv=3,\n",
    "                                    method=\"predict_proba\")\n",
    "    y_scores_RF = y_probas_RF[:, 1]\n",
    "    \n",
    "    # stop clock to check time taken\n",
    "    time_taken = np.append(time_taken, time.time() - start_time)\n",
    "    \n",
    "    # calculate area under roc curve \n",
    "    roc_auc_score_RF_scaled = np.append(roc_auc_score_RF_scaled, roc_auc_score(y_train_galaxy, \n",
    "                                                                        y_scores_RF))\n",
    "    \n",
    "    ###########################################################################################\n",
    "\n",
    "    # for NON-SCALED inputs, only the max_features parameter changed when performing fine-tuning\n",
    "    forest_clf = RandomForestClassifier(n_estimators=n, min_samples_split=2, min_samples_leaf=4,\n",
    "                                    min_weight_fraction_leaf=0, max_features=3, random_state=42)\n",
    "    # cross-val probability calculation\n",
    "    y_probas_RF = cross_val_predict(forest_clf, x_train, y_train_galaxy, cv=3,\n",
    "                                    method=\"predict_proba\")\n",
    "    y_scores_RF = y_probas_RF[:, 1]\n",
    "\n",
    "    # calculate area under roc curve \n",
    "    roc_auc_score_RF_notscaled = np.append(roc_auc_score_RF_notscaled, \n",
    "                                           roc_auc_score(y_train_galaxy, y_scores_RF)) \n",
    "                                                                        \n",
    "    print(\"Time taken cross-validation of\", n, \" estimators: \", time.time() - start_time)"
   ]
  },
  {
   "cell_type": "code",
   "execution_count": 87,
   "metadata": {},
   "outputs": [
    {
     "data": {
      "text/plain": [
       "[<matplotlib.lines.Line2D at 0x2ca6fc2fa88>]"
      ]
     },
     "execution_count": 87,
     "metadata": {},
     "output_type": "execute_result"
    },
    {
     "data": {
      "image/png": "[encoded data removed]",
      "text/plain": [
       "<Figure size 432x288 with 2 Axes>"
      ]
     },
     "metadata": {
      "needs_background": "light"
     },
     "output_type": "display_data"
    }
   ],
   "source": [
    "plt.subplot(1,2,1)\n",
    "# plotting scaled/non-scaled inputs auc of roc curve values as function of n_estimators\n",
    "plt.plot(number_esti, roc_auc_score_RF_scaled, '.', label='scaled inputs')\n",
    "plt.plot(number_esti, roc_auc_score_RF_notscaled, '.', label='non-scaled inputs')\n",
    "plt.legend()\n",
    "plt.subplot(1,2,2)\n",
    "# time-taken as function of n_estimators (LINEAR!)\n",
    "plt.plot(number_esti, time_taken, '.')"
   ]
  },
  {
   "cell_type": "markdown",
   "metadata": {},
   "source": [
    "\n",
    "### 2. Decision Tree"
   ]
  },
  {
   "cell_type": "code",
   "execution_count": 75,
   "metadata": {},
   "outputs": [
    {
     "data": {
      "text/plain": [
       "{'max_features': 5,\n",
       " 'min_impurity_decrease': 0,\n",
       " 'min_samples_leaf': 25,\n",
       " 'min_weight_fraction_leaf': 0}"
      ]
     },
     "execution_count": 75,
     "metadata": {},
     "output_type": "execute_result"
    }
   ],
   "source": [
    "param_grid = {'min_impurity_decrease': [0,1,2], \n",
    "               'max_features': [3,4,5],\n",
    "               'min_samples_leaf': [20,25,30],\n",
    "               'min_weight_fraction_leaf': [0]}\n",
    "\n",
    "DT_clf = DecisionTreeClassifier(random_state=42)\n",
    "grid_search = GridSearchCV(DT_clf, param_grid, cv=3)\n",
    "\n",
    "grid_search.fit(x_train_scaled, y_train_galaxy)\n",
    "\n",
    "grid_search.best_params_"
   ]
  },
  {
   "cell_type": "markdown",
   "metadata": {},
   "source": [
    "### 3. KNN"
   ]
  },
  {
   "cell_type": "code",
   "execution_count": 18,
   "metadata": {},
   "outputs": [
    {
     "data": {
      "text/plain": [
       "{'leaf_size': 1, 'n_neighbors': 5, 'p': 1}"
      ]
     },
     "execution_count": 18,
     "metadata": {},
     "output_type": "execute_result"
    }
   ],
   "source": [
    "param_grid = {'n_neighbors': [3,4,5,6],\n",
    "               'p': [1,2],\n",
    "               'leaf_size': [1,2,3,4,5]}\n",
    "\n",
    "neigh = KNeighborsClassifier()\n",
    "grid_search = GridSearchCV(neigh, param_grid, cv=3)\n",
    "\n",
    "grid_search.fit(x_train_scaled, y_train_galaxy)\n",
    "\n",
    "grid_search.best_params_"
   ]
  },
  {
   "cell_type": "markdown",
   "metadata": {},
   "source": [
    "## Testing fine-tuned models with cross-validation"
   ]
  },
  {
   "cell_type": "code",
   "execution_count": 16,
   "metadata": {},
   "outputs": [
    {
     "name": "stdout",
     "output_type": "stream",
     "text": [
      "The AUC of the ROC curve for RF is: 0.9945587393054862\n",
      "The AUC of the ROC curve for DT is: 0.9718271546404482\n",
      "The AUC of the ROC curve for KNN is: 0.961050912574117\n"
     ]
    }
   ],
   "source": [
    "from sklearn.metrics import roc_auc_score\n",
    "# RANDOM FOREST using non-scaled inputs\n",
    "forest_clf = RandomForestClassifier(n_estimators=150, min_samples_split=2, min_samples_leaf=4,\n",
    "                                    min_weight_fraction_leaf=0, max_features=3, random_state=42)\n",
    "# cross-val probability calculation\n",
    "y_probas_RF = cross_val_predict(forest_clf, x_train, y_train_galaxy, cv=3,\n",
    "                                    method=\"predict_proba\")\n",
    "y_scores_RF = y_probas_RF[:, 1]\n",
    "#y_scores_RF = cross_val_predict(forest_clf, x_train, y_train_galaxy, cv=3)\n",
    "print(\"The AUC of the ROC curve for RF is:\",roc_auc_score(y_train_galaxy, y_scores_RF))\n",
    "\n",
    "# DECISION TREE using scaled inputs\n",
    "DT_clf = DecisionTreeClassifier(max_features=5, min_impurity_decrease=0,min_samples_leaf=25,\n",
    "                                min_weight_fraction_leaf=0, random_state=42)\n",
    "y_scores_DT = cross_val_predict(DT_clf, x_train_scaled, y_train_galaxy, cv=3)\n",
    "print(\"The AUC of the ROC curve for DT is:\",roc_auc_score(y_train_galaxy, y_scores_DT))\n",
    "\n",
    "# KNN using scaled inputs\n",
    "neigh_clf = KNeighborsClassifier(n_neighbors=5,leaf_size=1, p=1)\n",
    "y_scores_KNN = cross_val_predict(neigh_clf, x_train_scaled, y_train_galaxy, cv=3)\n",
    "print(\"The AUC of the ROC curve for KNN is:\",roc_auc_score(y_train_galaxy, y_scores_KNN))"
   ]
  },
  {
   "cell_type": "markdown",
   "metadata": {},
   "source": [
    "## Testing fine-tuned models on test set\n"
   ]
  },
  {
   "cell_type": "code",
   "execution_count": 4,
   "metadata": {},
   "outputs": [
    {
     "name": "stdout",
     "output_type": "stream",
     "text": [
      "FOR THE RANDOM FOREST CLASSIFIER\n",
      "\n",
      "[[ 7768   273]\n",
      " [  140 11819]]\n",
      "F1 score of the model on test set 0.9828281568333956\n",
      "Accuracy of the model on test set 0.97935\n"
     ]
    }
   ],
   "source": [
    "# selected parameters off fine tuning above\n",
    "forest_clf = RandomForestClassifier(n_estimators=150, min_samples_split=2, min_samples_leaf=4,\n",
    "                                    min_weight_fraction_leaf=0, max_features=3, random_state=42)\n",
    "forest_clf.fit(x_train, y_train_galaxy)\n",
    "y_test_pred = forest_clf.predict(x_test)\n",
    "rf_acc = forest_clf.score(x_test, y_test_galaxy)\n",
    "\n",
    "print(\"FOR THE RANDOM FOREST CLASSIFIER\\n\")\n",
    "print(confusion_matrix(y_test_galaxy, y_test_pred))\n",
    "print(\"F1 score of the model on test set\", f1_score(y_test_galaxy, y_test_pred))\n",
    "print(\"Accuracy of the model on test set\", rf_acc)"
   ]
  },
  {
   "cell_type": "code",
   "execution_count": 7,
   "metadata": {},
   "outputs": [
    {
     "name": "stdout",
     "output_type": "stream",
     "text": [
      "FOR THE DECISION TREE CLASSIFIER\n",
      "\n",
      "[[ 7740   301]\n",
      " [  261 11698]]\n",
      "F1 score of the model on test set 0.9765422823274063\n",
      "Accuracy of the model on test set 0.9719\n"
     ]
    }
   ],
   "source": [
    "# selected parameters off fine tuning above\n",
    "DT_clf = DecisionTreeClassifier(max_features=5, min_impurity_decrease=0,min_samples_leaf=25,\n",
    "                                min_weight_fraction_leaf=0, random_state=42)\n",
    "DT_clf.fit(x_train_scaled, y_train_galaxy)\n",
    "y_test_pred = DT_clf.predict(x_test_scaled)\n",
    "DT_acc = DT_clf.score(x_test_scaled, y_test_galaxy)\n",
    "\n",
    "print(\"FOR THE DECISION TREE CLASSIFIER\\n\")\n",
    "print(confusion_matrix(y_test_galaxy, y_test_pred))\n",
    "print(\"F1 score of the model on test set\", f1_score(y_test_galaxy, y_test_pred))\n",
    "print(\"Accuracy of the model on test set\", DT_acc)"
   ]
  },
  {
   "cell_type": "code",
   "execution_count": 8,
   "metadata": {},
   "outputs": [
    {
     "name": "stdout",
     "output_type": "stream",
     "text": [
      "FOR THE KNN CLASSIFIER\n",
      "\n",
      "[[ 7731   310]\n",
      " [  437 11522]]\n",
      "F1 score of the model on test set 0.9686015720230339\n",
      "Accuracy of the model on test set 0.96265\n"
     ]
    }
   ],
   "source": [
    "# selected parameters off fine tuning above\n",
    "neigh = KNeighborsClassifier(n_neighbors=5,leaf_size=1, p=1)\n",
    "neigh.fit(x_train_scaled, y_train_galaxy)\n",
    "y_test_pred = neigh.predict(x_test_scaled)\n",
    "KNN_acc = neigh.score(x_test_scaled, y_test_galaxy)\n",
    "\n",
    "print(\"FOR THE KNN CLASSIFIER\\n\")\n",
    "print(confusion_matrix(y_test_galaxy, y_test_pred))\n",
    "print(\"F1 score of the model on test set\", f1_score(y_test_galaxy, y_test_pred))\n",
    "print(\"Accuracy of the model on test set\", KNN_acc)"
   ]
  },
  {
   "cell_type": "markdown",
   "metadata": {},
   "source": [
    "### Detecting outliers where all models find false positives and false negatives\n",
    "\n",
    "IDEA: COULD CHECK THE FALSE POSITIVE AND FALSE NEGATIVE BETWEEN THE DIFFERENT MODELS TO SEE IF THEY COINCIDE + MAYBE DO SOMETHING ABOUT THEM -> OUTLIERS WE COULD IGNORE FOR REGRESSION???"
   ]
  },
  {
   "cell_type": "code",
   "execution_count": 22,
   "metadata": {},
   "outputs": [],
   "source": [
    "# Decision tree training set predictions\n",
    "DT_clf = RandomForestClassifier(max_features=5, min_impurity_decrease=0,min_samples_leaf=25,\n",
    "                                min_weight_fraction_leaf=0, random_state=42)\n",
    "y_train_pred_DT = cross_val_predict(DT_clf,x_train_scaled,y_train_galaxy,cv=3)"
   ]
  },
  {
   "cell_type": "code",
   "execution_count": 23,
   "metadata": {},
   "outputs": [],
   "source": [
    "# Random Forest training set predictions\n",
    "RF_clf = RandomForestClassifier(n_estimators=150, min_samples_split=2, min_samples_leaf=4,\n",
    "                                min_weight_fraction_leaf=0, max_features=3, random_state=42)\n",
    "y_train_pred_RF = cross_val_predict(RF_clf,x_train,y_train_galaxy,cv=3)"
   ]
  },
  {
   "cell_type": "code",
   "execution_count": 24,
   "metadata": {},
   "outputs": [],
   "source": [
    "# K-Nearest Neighbors training set predictions\n",
    "KNN_clf = KNeighborsClassifier(n_neighbors=5,leaf_size=1, p=1)\n",
    "y_train_pred_KNN = cross_val_predict(KNN_clf,x_train_scaled,y_train_galaxy,cv=3)"
   ]
  },
  {
   "cell_type": "code",
   "execution_count": 25,
   "metadata": {},
   "outputs": [],
   "source": [
    "FN_pred_outliers_indices = []\n",
    "FP_pred_outliers_indices = []\n",
    "\n",
    "for n in range(0,len(x_train)):\n",
    "    if y_train_galaxy[n] == True:\n",
    "        if y_train_pred_KNN[n] == y_train_pred_RF[n] == y_train_pred_DT[n] == False:\n",
    "            FN_pred_outliers_indices = np.append(FN_pred_outliers_indices, n)\n",
    "        else:\n",
    "            pass\n",
    "    else:\n",
    "        if y_train_pred_KNN[n] == y_train_pred_RF[n] == y_train_pred_DT[n] == True:\n",
    "            FP_pred_outliers_indices = np.append(FP_pred_outliers_indices, n)\n",
    "        else:\n",
    "            pass\n"
   ]
  },
  {
   "cell_type": "code",
   "execution_count": 26,
   "metadata": {},
   "outputs": [
    {
     "data": {
      "text/plain": [
       "471"
      ]
     },
     "execution_count": 26,
     "metadata": {},
     "output_type": "execute_result"
    }
   ],
   "source": [
    "len(FN_pred_outliers_indices)"
   ]
  },
  {
   "cell_type": "code",
   "execution_count": 27,
   "metadata": {},
   "outputs": [
    {
     "data": {
      "text/plain": [
       "933"
      ]
     },
     "execution_count": 27,
     "metadata": {},
     "output_type": "execute_result"
    }
   ],
   "source": [
    "len(FP_pred_outliers_indices)"
   ]
  },
  {
   "cell_type": "markdown",
   "metadata": {},
   "source": [
    "Now, we want to find a way to convert these indices (which represent the whole training dataset) into indices just for the 'GALAXY' objects.\n",
    "\n",
    "So for False Negatives (FN_pred_outliers_indices), those are objects labelled as 'GALAXY' in the datset which are classified as somthing else in our models.\n",
    "\n",
    "And for False Positives (FP_pred_outliers_indices), those are objects labelled as 'QSO' or 'STAR' in the datset which are classified as 'GALAXY' in our models.\n",
    "\n",
    "----------------\n",
    "\n",
    "NOTE THAT WE USE FILTER VALUES INSTEAD OF THE INDICES TO SELECT ALL THE OUTLIERS SINCE WITH ALL THE RE-INDEXING WE DID, USING STABLE FILTER VALUES IS SAFER. Setting up a checking system to make it even safer.\n",
    "\n",
    "#### 1. False Negatives\n",
    "\n",
    "**False Negatives** are our first focus since they directly impact the regression and the redshift predictions of our models. We hence try to convert the dataset indices into the 'GALAXY' indices."
   ]
  },
  {
   "cell_type": "code",
   "execution_count": 32,
   "metadata": {},
   "outputs": [],
   "source": [
    "# select all the objects with the outlier indices\n",
    "FN_pred_outliers = x_train.loc[FN_pred_outliers_indices]\n",
    "\n",
    "# select two filters to use to select the data\n",
    "FN_pred_outliers_u = np.array(FN_pred_outliers[\"u\"])\n",
    "FN_pred_outliers_z = np.array(FN_pred_outliers[\"z\"])\n",
    "FN_pred_outliers_g = np.array(FN_pred_outliers[\"g\"])\n",
    "FN_pred_outliers_r = np.array(FN_pred_outliers[\"r\"])\n",
    "FN_pred_outliers_i = np.array(FN_pred_outliers[\"i\"])"
   ]
  },
  {
   "cell_type": "code",
   "execution_count": 35,
   "metadata": {},
   "outputs": [
    {
     "name": "stdout",
     "output_type": "stream",
     "text": [
      "Stored 'FN_outliers' (DataFrame)\n"
     ]
    }
   ],
   "source": [
    "# selecting the objects from the training dataset that correspond to the outlier values\n",
    "# of two of the filters (extremely low chance that two objects gave the same two values)\n",
    "FN_outliers = x_train[x_train[\"u\"].isin(FN_pred_outliers_u) & x_train[\"z\"].isin(FN_pred_outliers_z)\n",
    "                     & x_train[\"r\"].isin(FN_pred_outliers_r) & x_train[\"i\"].isin(FN_pred_outliers_i)\n",
    "                     & x_train[\"g\"].isin(FN_pred_outliers_g)]\n",
    "# storing dataframe in repository (to be used in SDSS-5 jupyter notebook)\n",
    "%store FN_outliers\n",
    "\n",
    "# code to check if we did not take any doubles\n",
    "if len(FN_outliers) == len(FN_pred_outliers_u):\n",
    "    pass\n",
    "else:\n",
    "    error"
   ]
  },
  {
   "cell_type": "markdown",
   "metadata": {},
   "source": [
    "-----------\n",
    "\n",
    "#### 2. False Positives\n",
    "\n",
    "**False Positives** are our second focus since there could potentially have been a few mislabelling in the SDSS dataset where objects labelled as QSO or STARS could be in reality GALAXIES. This is quite unlikely but could be checked for if we notice that some objects follow the same photometric-redshift relation as GALAXIES."
   ]
  },
  {
   "cell_type": "code",
   "execution_count": 37,
   "metadata": {},
   "outputs": [],
   "source": [
    "# select all the objects with the outlier indices\n",
    "FP_pred_outliers = x_train.loc[FP_pred_outliers_indices]\n",
    "\n",
    "# select two filters to use to select the data\n",
    "FP_pred_outliers_u = np.array(FP_pred_outliers[\"u\"])\n",
    "FP_pred_outliers_z = np.array(FP_pred_outliers[\"z\"])\n",
    "FP_pred_outliers_g = np.array(FP_pred_outliers[\"g\"])\n",
    "FP_pred_outliers_r = np.array(FP_pred_outliers[\"r\"])\n",
    "FP_pred_outliers_i = np.array(FP_pred_outliers[\"i\"])"
   ]
  },
  {
   "cell_type": "code",
   "execution_count": 38,
   "metadata": {},
   "outputs": [
    {
     "name": "stdout",
     "output_type": "stream",
     "text": [
      "Stored 'FP_outliers' (DataFrame)\n"
     ]
    }
   ],
   "source": [
    "# selecting the objects from the training dataset that correspond to the outlier values\n",
    "# of two of the filters (extremely low chance that two objects gave the same two values)\n",
    "FP_outliers = x_train[x_train[\"u\"].isin(FP_pred_outliers_u) & x_train[\"z\"].isin(FP_pred_outliers_z)\n",
    "                     & x_train[\"g\"].isin(FP_pred_outliers_g) & x_train[\"r\"].isin(FP_pred_outliers_r)\n",
    "                     & x_train[\"i\"].isin(FP_pred_outliers_i)]\n",
    "# storing dataframe in repository (to be used in SDSS-5 jupyter notebook)\n",
    "%store FP_outliers\n",
    "\n",
    "# code to check if we did not take any doubles\n",
    "if len(FP_outliers) == len(FP_pred_outliers_u):\n",
    "    pass\n",
    "else:\n",
    "    error"
   ]
  },
  {
   "cell_type": "code",
   "execution_count": null,
   "metadata": {},
   "outputs": [],
   "source": []
  }
 ],
 "metadata": {
  "kernelspec": {
   "display_name": "Python 3",
   "language": "python",
   "name": "python3"
  },
  "language_info": {
   "codemirror_mode": {
    "name": "ipython",
    "version": 3
   },
   "file_extension": ".py",
   "mimetype": "text/x-python",
   "name": "python",
   "nbconvert_exporter": "python",
   "pygments_lexer": "ipython3",
   "version": "3.7.4"
  }
 },
 "nbformat": 4,
 "nbformat_minor": 4
}

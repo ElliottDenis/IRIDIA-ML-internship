{
 "cells": [
  {
   "cell_type": "markdown",
   "metadata": {},
   "source": [
    "## Preparing binary classifier\n",
    "\n",
    "Let's try to create and train classifier to identify GALAXIES."
   ]
  },
  {
   "cell_type": "code",
   "execution_count": 68,
   "metadata": {},
   "outputs": [],
   "source": [
    "import pandas as pd\n",
    "import numpy as np\n",
    "from sklearn.model_selection import StratifiedShuffleSplit\n",
    "from sklearn.svm import SVC\n",
    "import random\n",
    "from sklearn.model_selection import cross_val_score\n",
    "from sklearn.metrics import precision_recall_curve\n",
    "from sklearn.preprocessing import StandardScaler\n",
    "from sklearn.linear_model import SGDClassifier\n",
    "from sklearn.model_selection import cross_val_score\n",
    "from sklearn.metrics import roc_curve\n",
    "from sklearn.preprocessing import StandardScaler\n",
    "from sklearn.ensemble import RandomForestClassifier\n",
    "from sklearn.model_selection import cross_val_predict\n",
    "from sklearn.metrics import confusion_matrix\n",
    "import matplotlib as mpl\n",
    "import matplotlib.pyplot as plt\n",
    "import seaborn as sns\n",
    "from pandas.plotting import scatter_matrix\n",
    "from sklearn.metrics import mean_squared_error\n",
    "from sklearn.linear_model import LinearRegression\n",
    "from sklearn.tree import DecisionTreeRegressor\n",
    "from sklearn.ensemble import RandomForestClassifier\n",
    "from sklearn.ensemble import RandomForestRegressor\n",
    "from sklearn.model_selection import GridSearchCV\n",
    "from sklearn.model_selection import RandomizedSearchCV\n",
    "import warnings\n",
    "warnings.simplefilter(action='ignore', category=FutureWarning)\n",
    "import time"
   ]
  },
  {
   "cell_type": "code",
   "execution_count": 24,
   "metadata": {},
   "outputs": [],
   "source": [
    "from sklearn.model_selection import StratifiedShuffleSplit\n",
    "def get_train_test():\n",
    "    # load\n",
    "    df = pd.read_csv(\"star_classification.csv\")\n",
    "    # remove outliers\n",
    "    # select the row with u or z or g below 0 (should not be allowed)\n",
    "    outliers = df[(df[\"u\"] <= 0)  \n",
    "                | (df[\"z\"] <= 0) \n",
    "                | (df[\"g\"] <= 0)\n",
    "                | (df[\"redshift\"] <= 0)]\n",
    "\n",
    "    # drop the row corresponding to the outlier\n",
    "    df = df.drop(outliers.index, axis=0)\n",
    "    # we drop the data we are not interested in and which won't be useful\n",
    "    df = df.drop(\n",
    "        columns=[\"obj_ID\", \"fiber_ID\", \"MJD\", \"plate\", \"spec_obj_ID\", \n",
    "                 \"field_ID\", \"cam_col\", \"rerun_ID\", \"run_ID\"], axis=1)\n",
    "    \n",
    "    # replace all infinite values with NaN\n",
    "    #df = df.replace([np.inf, -np.inf], np.nan)\n",
    "    #df = df.dropna(axis=0)\n",
    "    \n",
    "    # replace star class with 1s and others with 0\n",
    "    #df.loc[df['class'] == \"STAR\", 'class'] = 1\n",
    "    #df.loc[df['class'] != \"STAR\", 'class'] = 0\n",
    "    \n",
    "    # stratified split\n",
    "    split = StratifiedShuffleSplit(n_splits=1, test_size=0.2, random_state=42)\n",
    "    \n",
    "    for train_index, test_index in split.split(df, df[\"class\"]):\n",
    "        strat_train_set = df.loc[train_index]\n",
    "        strat_test_set = df.loc[test_index]\n",
    "        \n",
    "    return strat_train_set, strat_test_set"
   ]
  },
  {
   "cell_type": "code",
   "execution_count": 70,
   "metadata": {},
   "outputs": [
    {
     "data": {
      "text/plain": [
       "SGDClassifier(alpha=0.0001, average=False, class_weight=None,\n",
       "              early_stopping=False, epsilon=0.1, eta0=0.0, fit_intercept=True,\n",
       "              l1_ratio=0.15, learning_rate='optimal', loss='hinge',\n",
       "              max_iter=1000, n_iter_no_change=5, n_jobs=None, penalty='l2',\n",
       "              power_t=0.5, random_state=42, shuffle=True, tol=0.001,\n",
       "              validation_fraction=0.1, verbose=0, warm_start=False)"
      ]
     },
     "execution_count": 70,
     "metadata": {},
     "output_type": "execute_result"
    }
   ],
   "source": [
    "get_train_test()\n",
    "train, test = get_train_test()\n",
    "train = train.reset_index(drop=True)\n",
    "\n",
    "# seperate measurements (x) with class(y)\n",
    "x_train = train.drop(columns=[\"class\"], axis=1)\n",
    "y_train = train[\"class\"]\n",
    "\n",
    "# replace all infinite values with NaN\n",
    "x_train = x_train.replace([np.inf, -np.inf], np.nan)\n",
    "y_train = y_train.replace([np.inf, -np.inf], np.nan)\n",
    "\n",
    "# drop all the rows with NaN\n",
    "x_train = x_train.dropna(axis=0)\n",
    "y_train = y_train.dropna(axis=0)\n",
    "\n",
    "# seperate measurements (x) with class(y)\n",
    "x_test = test.drop(columns=[\"class\"], axis=1)\n",
    "y_test = test[\"class\"]\n",
    "\n",
    "# replace all infinite values with NaN\n",
    "x_test = x_test.replace([np.inf, -np.inf], np.nan)\n",
    "y_test = y_test.replace([np.inf, -np.inf], np.nan)\n",
    "\n",
    "# drop all the rows with NaN\n",
    "x_test = x_test.dropna(axis=0)\n",
    "y_test = y_test.dropna(axis=0)\n",
    "\n",
    "y_train_galaxy = (y_train == \"GALAXY\")\n",
    "y_test_galaxy = (y_test == \"GALAXY\")\n",
    "\n",
    "# fit to training set\n",
    "sgd_clf = SGDClassifier(random_state=42)\n",
    "sgd_clf.fit(x_train, y_train_galaxy)"
   ]
  },
  {
   "cell_type": "markdown",
   "metadata": {},
   "source": [
    "## Confusion matrix with star binary classifier\n",
    "\n",
    "we're not using the test set, we will use the cross_val_predict function (cross_val_predict() performs K-fold cross-validation, but instead of returning the evaluation scores, it returns the predictions made on each test fold)\n",
    "\n",
    "**Confusion matrix**\n",
    "- each column = predicted class\n",
    "- each row = actual class\n",
    "\n",
    "The first row of this matrix considers non-star images (the negative class): 56,435 of them were correctly classified as non-stars (they are called true negatives), while the remaining 6,256 were wrongly classified as stars (false positives). \n",
    "\n",
    "The second row considers the images of stars (the positive class): 5,958 were wrongly classified as non-stars (false negatives), while the remaining 11,349 were correctly classified as stars (true positives)."
   ]
  },
  {
   "cell_type": "code",
   "execution_count": 26,
   "metadata": {},
   "outputs": [
    {
     "data": {
      "text/plain": [
       "array([[13802,  4976],\n",
       "       [ 9250, 30894]], dtype=int64)"
      ]
     },
     "execution_count": 26,
     "metadata": {},
     "output_type": "execute_result"
    }
   ],
   "source": [
    "from sklearn.model_selection import cross_val_predict\n",
    "\n",
    "# cross validation\n",
    "y_train_pred = cross_val_predict(sgd_clf, x_train, y_train_galaxy, cv=3)\n",
    "\n",
    "#y_train_pred = sgd_clf.predict(x_train)\n",
    "\n",
    "# confusion matrix (for binary classifier, non-star vs star)\n",
    "from sklearn.metrics import confusion_matrix\n",
    "confusion_matrix(y_train_galaxy, y_train_pred)"
   ]
  },
  {
   "cell_type": "markdown",
   "metadata": {},
   "source": [
    "Calculating:\n",
    "1. Precision:\n",
    "$$precision = \\frac{TP}{TP+FP}$$\n",
    "2. Recall:\n",
    "$$recall = \\frac{TP}{TP+FN}$$\n",
    "3. F1 score:\n",
    "$$F1 = \\frac{2}{\\frac{1}{precision} + \\frac{1}{recall}}$$"
   ]
  },
  {
   "cell_type": "code",
   "execution_count": 27,
   "metadata": {},
   "outputs": [
    {
     "name": "stdout",
     "output_type": "stream",
     "text": [
      "Precision of the model: 0.8612768330080848\n",
      "Recall of the model: 0.7695795137504982\n",
      "Accuracy of the model: 0.7585621669325548\n",
      "F1 score of the model 0.8128502644249744\n"
     ]
    }
   ],
   "source": [
    "from sklearn.metrics import precision_score, recall_score, accuracy_score\n",
    "print(\"Precision of the model:\", precision_score(y_train_galaxy, y_train_pred))\n",
    "print(\"Recall of the model:\", recall_score(y_train_galaxy, y_train_pred))\n",
    "print(\"Accuracy of the model:\", accuracy_score(y_train_galaxy, y_train_pred))\n",
    "\n",
    "from sklearn.metrics import f1_score\n",
    "print(\"F1 score of the model\", f1_score(y_train_galaxy, y_train_pred))"
   ]
  },
  {
   "cell_type": "markdown",
   "metadata": {},
   "source": [
    "We will try to fine-tune the model: vary the threshold of the decision function to optimise the F1 score of our binary model."
   ]
  },
  {
   "cell_type": "code",
   "execution_count": 60,
   "metadata": {},
   "outputs": [
    {
     "data": {
      "image/png": "[encoded data removed]",
      "text/plain": [
       "<Figure size 432x288 with 1 Axes>"
      ]
     },
     "metadata": {
      "needs_background": "light"
     },
     "output_type": "display_data"
    }
   ],
   "source": [
    "# why cross validation here?\n",
    "y_scores = cross_val_predict(sgd_clf, x_train, y_train_galaxy, cv=3, \n",
    "                             method=\"decision_function\")\n",
    "\n",
    "precisions, recalls, thresholds = precision_recall_curve(y_train_galaxy, y_scores)\n",
    "\n",
    "def plot_precision_recall_vs_threshold(precisions, recalls, thresholds):\n",
    "    plt.plot(thresholds, precisions[:-1], \"b--\", label=\"Precision\")\n",
    "    plt.plot(thresholds, recalls[:-1], \"g-\", label=\"Recall\")\n",
    "    f1_score = 2/(1/precisions[:-1] + 1/recalls[:-1])\n",
    "    plt.plot(thresholds, f1_score, \"r-\", label=\"f1 score\")\n",
    "    plt.axvline(x = 0)\n",
    "    #plt.xlim(thresholds.min(), thresholds.max())\n",
    "    plt.legend()\n",
    "    plt.xlabel(\"Threshold\")\n",
    "    # highlight the threshold and add the legend, axis label, and grid\n",
    "\n",
    "plot_precision_recall_vs_threshold(precisions, recalls, thresholds)\n",
    "plt.show()"
   ]
  },
  {
   "cell_type": "code",
   "execution_count": 61,
   "metadata": {},
   "outputs": [
    {
     "name": "stdout",
     "output_type": "stream",
     "text": [
      "The maximum f1 score is: 0.8842413011199484 which happens at a threshold of: -22.94558198986116\n"
     ]
    }
   ],
   "source": [
    "f1_score = 2/(1/precisions[:-1] + 1/recalls[:-1])\n",
    "max_f1 = np.max(f1_score)\n",
    "max_f1_threshold = thresholds[np.argmax(f1_score)]\n",
    "print(\"The maximum f1 score is:\", max_f1, \"which happens at a threshold of:\", max_f1_threshold)"
   ]
  },
  {
   "cell_type": "markdown",
   "metadata": {},
   "source": [
    "What can we do now?\n",
    "- select only the y_scores above the threshold and compare the confusion matrices\n",
    "- try new model for binary classifier (random forest), plot roc curve and compare precision and recall\n",
    "- check predictions on test set of both models \n",
    "- go into multiclassification\n",
    "\n",
    "### Attempting to vary the threshold to maximise f1 score"
   ]
  },
  {
   "cell_type": "code",
   "execution_count": 62,
   "metadata": {},
   "outputs": [
    {
     "name": "stdout",
     "output_type": "stream",
     "text": [
      "[[10454  8324]\n",
      " [ 1734 38410]]\n",
      "Precision of the model: 0.8218855651131938\n",
      "Recall of the model: 0.9568055001992826\n",
      "Accuracy of the model: 0.8292997522147925\n",
      "F1 score of the model 0.8842284582978429\n"
     ]
    }
   ],
   "source": [
    "# can access decision scores used to make predictions -> decision_function\n",
    "#y_scores = sgd_clf.decision_function(x_train)\n",
    "\n",
    "# only take scores above threshold to be True\n",
    "y_train_pred_new = (y_scores > max_f1_threshold)\n",
    "    \n",
    "print(confusion_matrix(y_train_galaxy, y_train_pred_new))\n",
    "\n",
    "print(\"Precision of the model:\", precision_score(y_train_galaxy, y_train_pred_new))\n",
    "print(\"Recall of the model:\", recall_score(y_train_galaxy, y_train_pred_new))\n",
    "print(\"Accuracy of the model:\", accuracy_score(y_train_galaxy, y_train_pred_new))\n",
    "f1_score = 2/(1/precision_score(y_train_galaxy, y_train_pred_new) \n",
    "              + 1/recall_score(y_train_galaxy, y_train_pred_new))\n",
    "print(\"F1 score of the model\", f1_score)"
   ]
  },
  {
   "cell_type": "markdown",
   "metadata": {},
   "source": [
    "## Trying new classifier: Random Forest\n"
   ]
  },
  {
   "cell_type": "code",
   "execution_count": 111,
   "metadata": {},
   "outputs": [],
   "source": [
    "forest_clf = RandomForestClassifier(random_state=42)\n",
    "y_probas_forest = cross_val_predict(forest_clf, x_train, y_train_galaxy, cv=3,\n",
    "                                    method=\"predict_proba\")\n",
    "y_scores_forest = y_probas_forest[:, 1]   # score = proba of positive class"
   ]
  },
  {
   "cell_type": "markdown",
   "metadata": {},
   "source": [
    "## Comparing SGD and Random Forest with ROC curves"
   ]
  },
  {
   "cell_type": "code",
   "execution_count": 65,
   "metadata": {},
   "outputs": [],
   "source": [
    "def plot_roc_curve(fpr, tpr, label=None):\n",
    "    plt.plot(fpr, tpr, linewidth=2, label=label)\n",
    "    plt.plot([0, 1], [0, 1], 'k--')\n",
    "    plt.xlabel(\"FPR\")\n",
    "    plt.ylabel(\"TPR = Recall\")"
   ]
  },
  {
   "cell_type": "code",
   "execution_count": 67,
   "metadata": {},
   "outputs": [
    {
     "name": "stdout",
     "output_type": "stream",
     "text": [
      "[ 417.36277466  416.36277466  209.27384849 ... -244.08474871 -252.65919053\n",
      " -276.34793526]\n"
     ]
    }
   ],
   "source": [
    "y_scores_SGD = y_scores\n",
    "# tpr and fpr for various threshold values\n",
    "fpr_SGD, tpr_SGD, thresholds_SGD = roc_curve(y_train_galaxy, y_scores_SGD)\n",
    "fpr_forest, tpr_forest, thresholds_forest = roc_curve(y_train_galaxy,y_scores_forest)"
   ]
  },
  {
   "cell_type": "code",
   "execution_count": 22,
   "metadata": {},
   "outputs": [
    {
     "data": {
      "image/png": "[encoded data removed]",
      "text/plain": [
       "<Figure size 432x288 with 1 Axes>"
      ]
     },
     "metadata": {
      "needs_background": "light"
     },
     "output_type": "display_data"
    },
    {
     "name": "stdout",
     "output_type": "stream",
     "text": [
      "Area under the curve of (SGD classifier): 0.8547509679288124\n",
      "Area under the curve of (RF classifier): 0.987104233100385\n"
     ]
    }
   ],
   "source": [
    "plt.plot(fpr_SGD, tpr_SGD, \"b:\", label=\"SGD\")\n",
    "plot_roc_curve(fpr_forest, tpr_forest, \"Random Forest\")\n",
    "plt.legend(loc=\"lower right\")\n",
    "#plt.xlim(0,0.05)\n",
    "plt.show()\n",
    "\n",
    "# Can also measure the area under the curve AUC\n",
    "from sklearn.metrics import roc_auc_score\n",
    "print(\"Area under the curve of (SGD classifier):\", roc_auc_score(y_train_galaxy, y_scores_SGD))\n",
    "print(\"Area under the curve of (RF classifier):\", roc_auc_score(y_train_galaxy, y_scores_forest))"
   ]
  },
  {
   "cell_type": "markdown",
   "metadata": {},
   "source": [
    "## Testing models on test set"
   ]
  },
  {
   "cell_type": "code",
   "execution_count": 77,
   "metadata": {},
   "outputs": [
    {
     "name": "stdout",
     "output_type": "stream",
     "text": [
      "FOR THE SGD CLASSIFIER AND SHIFTED THRESHOLD\n",
      "\n",
      "[[  411  4163]\n",
      " [   10 10126]]\n",
      "F1 score of the model 0.829150460593654\n"
     ]
    }
   ],
   "source": [
    "y_scores = sgd_clf.decision_function(x_test)\n",
    "\n",
    "# only take scores above threshold to be True\n",
    "y_test_pred = (y_scores > max_f1_threshold)\n",
    "    \n",
    "print(\"FOR THE SGD CLASSIFIER AND SHIFTED THRESHOLD\\n\")\n",
    "print(confusion_matrix(y_test_galaxy, y_test_pred))\n",
    "f1_score = 2/(1/precision_score(y_test_galaxy, y_test_pred) \n",
    "              + 1/recall_score(y_test_galaxy, y_test_pred))\n",
    "print(\"F1 score of the model\", f1_score)"
   ]
  },
  {
   "cell_type": "code",
   "execution_count": 117,
   "metadata": {},
   "outputs": [
    {
     "name": "stdout",
     "output_type": "stream",
     "text": [
      "FOR THE SGD CLASSIFIER AND SHIFTED THRESHOLD ONTO THE MAXIMUM OF THE TEST CURVE (ILLEGAL)\n",
      "\n",
      "[[2799 1775]\n",
      " [ 779 9357]]\n",
      "F1 score of the model 0.8799134850479594\n"
     ]
    },
    {
     "data": {
      "image/png": "[encoded data removed]",
      "text/plain": [
       "<Figure size 432x288 with 1 Axes>"
      ]
     },
     "metadata": {
      "needs_background": "light"
     },
     "output_type": "display_data"
    }
   ],
   "source": [
    "y_scores = sgd_clf.decision_function(x_test)\n",
    "\n",
    "# only take scores above threshold to be True\n",
    "threshold_values = np.linspace(-40,40,81)\n",
    "for n in threshold_values:\n",
    "    y_test_pred = (y_scores > n)\n",
    "    f1_score = 2/(1/precision_score(y_test_galaxy, y_test_pred) \n",
    "              + 1/recall_score(y_test_galaxy, y_test_pred))\n",
    "    plt.plot(n, f1_score, '.')\n",
    "    \n",
    "y_test_pred = (y_scores > 6)    \n",
    "print(\"FOR THE SGD CLASSIFIER AND SHIFTED THRESHOLD ONTO THE MAXIMUM OF THE TEST CURVE (ILLEGAL)\\n\")\n",
    "print(confusion_matrix(y_test_galaxy, y_test_pred))\n",
    "f1_score = 2/(1/precision_score(y_test_galaxy, y_test_pred) \n",
    "              + 1/recall_score(y_test_galaxy, y_test_pred))\n",
    "print(\"F1 score of the model\", f1_score)"
   ]
  },
  {
   "cell_type": "code",
   "execution_count": 108,
   "metadata": {},
   "outputs": [
    {
     "name": "stdout",
     "output_type": "stream",
     "text": [
      "FOR THE RANDOM FOREST CLASSIFIER\n",
      "\n",
      "[[ 4315   259]\n",
      " [  125 10011]]\n",
      "F1 score of the model 0.981182005292561\n"
     ]
    }
   ],
   "source": [
    "forest_clf = RandomForestClassifier(random_state=42)\n",
    "forest_clf.fit(x_train, y_train)\n",
    "y_test_pred = forest_clf.predict(x_test)\n",
    "y_test_pred_bool = (y_test_pred == \"GALAXY\")\n",
    "\n",
    "print(\"FOR THE RANDOM FOREST CLASSIFIER\\n\")\n",
    "print(confusion_matrix(y_test_galaxy, y_test_pred_bool))\n",
    "f1_score = 2/(1/precision_score(y_test_galaxy, y_test_pred_bool) \n",
    "              + 1/recall_score(y_test_galaxy, y_test_pred_bool))\n",
    "print(\"F1 score of the model\", f1_score)"
   ]
  },
  {
   "cell_type": "code",
   "execution_count": null,
   "metadata": {},
   "outputs": [],
   "source": []
  }
 ],
 "metadata": {
  "kernelspec": {
   "display_name": "Python 3",
   "language": "python",
   "name": "python3"
  },
  "language_info": {
   "codemirror_mode": {
    "name": "ipython",
    "version": 3
   },
   "file_extension": ".py",
   "mimetype": "text/x-python",
   "name": "python",
   "nbconvert_exporter": "python",
   "pygments_lexer": "ipython3",
   "version": "3.7.4"
  }
 },
 "nbformat": 4,
 "nbformat_minor": 4
}

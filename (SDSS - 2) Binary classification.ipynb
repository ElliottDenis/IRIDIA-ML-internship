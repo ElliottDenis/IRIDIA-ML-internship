{
 "cells": [
  {
   "cell_type": "markdown",
   "metadata": {},
   "source": [
    "## Preparing binary classifier\n",
    "\n",
    "Let's try to create and train classifier to identify STARS."
   ]
  },
  {
   "cell_type": "code",
   "execution_count": 9,
   "metadata": {},
   "outputs": [],
   "source": [
    "# import pandas\n",
    "import pandas as pd\n",
    "import numpy as np\n",
    "import matplotlib.pyplot as plt"
   ]
  },
  {
   "cell_type": "code",
   "execution_count": 10,
   "metadata": {},
   "outputs": [],
   "source": [
    "from sklearn.model_selection import StratifiedShuffleSplit\n",
    "def get_train_test():\n",
    "    # load\n",
    "    df = pd.read_csv(\"star_classification.csv\")\n",
    "    # remove outliers\n",
    "    # select the row with u or z or g below 0 (should not be allowed)\n",
    "    outliers = df[(df[\"u\"] <= 0)  \n",
    "                | (df[\"z\"] <= 0) \n",
    "                | (df[\"g\"] <= 0)]\n",
    "\n",
    "    # drop the row corresponding to the outlier\n",
    "    df = df.drop(outliers.index, axis=0)\n",
    "    # we drop the data we are not interested in and which won't be useful\n",
    "    df = df.drop(\n",
    "        columns=[\"obj_ID\", \"fiber_ID\", \"MJD\", \"plate\", \"spec_obj_ID\", \n",
    "                 \"field_ID\", \"cam_col\", \"rerun_ID\", \"run_ID\"], axis=1)\n",
    "    \n",
    "    # replace all infinite values with NaN\n",
    "    #df = df.replace([np.inf, -np.inf], np.nan)\n",
    "    #df = df.dropna(axis=0)\n",
    "    \n",
    "    # replace star class with 1s and others with 0\n",
    "    #df.loc[df['class'] == \"STAR\", 'class'] = 1\n",
    "    #df.loc[df['class'] != \"STAR\", 'class'] = 0\n",
    "    \n",
    "    # stratified split\n",
    "    split = StratifiedShuffleSplit(n_splits=1, test_size=0.2, random_state=42)\n",
    "    \n",
    "    for train_index, test_index in split.split(df, df[\"class\"]):\n",
    "        strat_train_set = df.loc[train_index]\n",
    "        strat_test_set = df.loc[test_index]\n",
    "        \n",
    "    return strat_train_set, strat_test_set"
   ]
  },
  {
   "cell_type": "code",
   "execution_count": 8,
   "metadata": {},
   "outputs": [
    {
     "name": "stderr",
     "output_type": "stream",
     "text": [
      "C:\\Users\\ellio\\Anaconda3\\lib\\site-packages\\ipykernel_launcher.py:29: FutureWarning: \n",
      "Passing list-likes to .loc or [] with any missing label will raise\n",
      "KeyError in the future, you can use .reindex() as an alternative.\n",
      "\n",
      "See the documentation here:\n",
      "https://pandas.pydata.org/pandas-docs/stable/user_guide/indexing.html#deprecate-loc-reindex-listlike\n",
      "C:\\Users\\ellio\\Anaconda3\\lib\\site-packages\\ipykernel_launcher.py:29: FutureWarning: \n",
      "Passing list-likes to .loc or [] with any missing label will raise\n",
      "KeyError in the future, you can use .reindex() as an alternative.\n",
      "\n",
      "See the documentation here:\n",
      "https://pandas.pydata.org/pandas-docs/stable/user_guide/indexing.html#deprecate-loc-reindex-listlike\n"
     ]
    },
    {
     "data": {
      "text/html": [
       "<div>\n",
       "<style scoped>\n",
       "    .dataframe tbody tr th:only-of-type {\n",
       "        vertical-align: middle;\n",
       "    }\n",
       "\n",
       "    .dataframe tbody tr th {\n",
       "        vertical-align: top;\n",
       "    }\n",
       "\n",
       "    .dataframe thead th {\n",
       "        text-align: right;\n",
       "    }\n",
       "</style>\n",
       "<table border=\"1\" class=\"dataframe\">\n",
       "  <thead>\n",
       "    <tr style=\"text-align: right;\">\n",
       "      <th></th>\n",
       "      <th>alpha</th>\n",
       "      <th>delta</th>\n",
       "      <th>u</th>\n",
       "      <th>g</th>\n",
       "      <th>r</th>\n",
       "      <th>i</th>\n",
       "      <th>z</th>\n",
       "      <th>class</th>\n",
       "      <th>redshift</th>\n",
       "    </tr>\n",
       "  </thead>\n",
       "  <tbody>\n",
       "    <tr>\n",
       "      <td>0</td>\n",
       "      <td>236.886133</td>\n",
       "      <td>25.746372</td>\n",
       "      <td>24.00161</td>\n",
       "      <td>21.22490</td>\n",
       "      <td>19.42473</td>\n",
       "      <td>18.74697</td>\n",
       "      <td>18.36518</td>\n",
       "      <td>GALAXY</td>\n",
       "      <td>0.388266</td>\n",
       "    </tr>\n",
       "    <tr>\n",
       "      <td>1</td>\n",
       "      <td>175.396226</td>\n",
       "      <td>7.414312</td>\n",
       "      <td>18.64321</td>\n",
       "      <td>16.61261</td>\n",
       "      <td>15.60582</td>\n",
       "      <td>15.17248</td>\n",
       "      <td>14.78776</td>\n",
       "      <td>GALAXY</td>\n",
       "      <td>0.088187</td>\n",
       "    </tr>\n",
       "    <tr>\n",
       "      <td>2</td>\n",
       "      <td>330.310510</td>\n",
       "      <td>22.865798</td>\n",
       "      <td>24.78542</td>\n",
       "      <td>24.65894</td>\n",
       "      <td>21.96032</td>\n",
       "      <td>20.77460</td>\n",
       "      <td>19.91515</td>\n",
       "      <td>GALAXY</td>\n",
       "      <td>0.685564</td>\n",
       "    </tr>\n",
       "    <tr>\n",
       "      <td>3</td>\n",
       "      <td>184.534708</td>\n",
       "      <td>6.293682</td>\n",
       "      <td>19.19104</td>\n",
       "      <td>18.05456</td>\n",
       "      <td>17.65642</td>\n",
       "      <td>17.38591</td>\n",
       "      <td>17.28063</td>\n",
       "      <td>GALAXY</td>\n",
       "      <td>0.078282</td>\n",
       "    </tr>\n",
       "    <tr>\n",
       "      <td>4</td>\n",
       "      <td>132.807587</td>\n",
       "      <td>26.488426</td>\n",
       "      <td>23.82002</td>\n",
       "      <td>21.94656</td>\n",
       "      <td>20.20684</td>\n",
       "      <td>19.42892</td>\n",
       "      <td>18.98755</td>\n",
       "      <td>GALAXY</td>\n",
       "      <td>0.431886</td>\n",
       "    </tr>\n",
       "    <tr>\n",
       "      <td>...</td>\n",
       "      <td>...</td>\n",
       "      <td>...</td>\n",
       "      <td>...</td>\n",
       "      <td>...</td>\n",
       "      <td>...</td>\n",
       "      <td>...</td>\n",
       "      <td>...</td>\n",
       "      <td>...</td>\n",
       "      <td>...</td>\n",
       "    </tr>\n",
       "    <tr>\n",
       "      <td>79994</td>\n",
       "      <td>18.750721</td>\n",
       "      <td>17.875593</td>\n",
       "      <td>24.16069</td>\n",
       "      <td>24.06798</td>\n",
       "      <td>22.36660</td>\n",
       "      <td>20.86997</td>\n",
       "      <td>19.84217</td>\n",
       "      <td>GALAXY</td>\n",
       "      <td>1.414617</td>\n",
       "    </tr>\n",
       "    <tr>\n",
       "      <td>79995</td>\n",
       "      <td>217.441998</td>\n",
       "      <td>18.175481</td>\n",
       "      <td>19.19778</td>\n",
       "      <td>17.79148</td>\n",
       "      <td>17.14975</td>\n",
       "      <td>16.81536</td>\n",
       "      <td>16.50878</td>\n",
       "      <td>GALAXY</td>\n",
       "      <td>0.087129</td>\n",
       "    </tr>\n",
       "    <tr>\n",
       "      <td>79996</td>\n",
       "      <td>162.331002</td>\n",
       "      <td>40.079474</td>\n",
       "      <td>24.74782</td>\n",
       "      <td>21.97550</td>\n",
       "      <td>20.49869</td>\n",
       "      <td>19.49992</td>\n",
       "      <td>18.99151</td>\n",
       "      <td>GALAXY</td>\n",
       "      <td>0.522292</td>\n",
       "    </tr>\n",
       "    <tr>\n",
       "      <td>79997</td>\n",
       "      <td>232.201919</td>\n",
       "      <td>18.045794</td>\n",
       "      <td>18.97042</td>\n",
       "      <td>17.60048</td>\n",
       "      <td>16.88147</td>\n",
       "      <td>16.45545</td>\n",
       "      <td>16.13567</td>\n",
       "      <td>GALAXY</td>\n",
       "      <td>0.085534</td>\n",
       "    </tr>\n",
       "    <tr>\n",
       "      <td>79998</td>\n",
       "      <td>214.273904</td>\n",
       "      <td>-2.458218</td>\n",
       "      <td>21.96225</td>\n",
       "      <td>21.26265</td>\n",
       "      <td>21.13964</td>\n",
       "      <td>21.02212</td>\n",
       "      <td>21.33620</td>\n",
       "      <td>QSO</td>\n",
       "      <td>0.632574</td>\n",
       "    </tr>\n",
       "  </tbody>\n",
       "</table>\n",
       "<p>79999 rows × 9 columns</p>\n",
       "</div>"
      ],
      "text/plain": [
       "            alpha      delta         u         g         r         i  \\\n",
       "0      236.886133  25.746372  24.00161  21.22490  19.42473  18.74697   \n",
       "1      175.396226   7.414312  18.64321  16.61261  15.60582  15.17248   \n",
       "2      330.310510  22.865798  24.78542  24.65894  21.96032  20.77460   \n",
       "3      184.534708   6.293682  19.19104  18.05456  17.65642  17.38591   \n",
       "4      132.807587  26.488426  23.82002  21.94656  20.20684  19.42892   \n",
       "...           ...        ...       ...       ...       ...       ...   \n",
       "79994   18.750721  17.875593  24.16069  24.06798  22.36660  20.86997   \n",
       "79995  217.441998  18.175481  19.19778  17.79148  17.14975  16.81536   \n",
       "79996  162.331002  40.079474  24.74782  21.97550  20.49869  19.49992   \n",
       "79997  232.201919  18.045794  18.97042  17.60048  16.88147  16.45545   \n",
       "79998  214.273904  -2.458218  21.96225  21.26265  21.13964  21.02212   \n",
       "\n",
       "              z   class  redshift  \n",
       "0      18.36518  GALAXY  0.388266  \n",
       "1      14.78776  GALAXY  0.088187  \n",
       "2      19.91515  GALAXY  0.685564  \n",
       "3      17.28063  GALAXY  0.078282  \n",
       "4      18.98755  GALAXY  0.431886  \n",
       "...         ...     ...       ...  \n",
       "79994  19.84217  GALAXY  1.414617  \n",
       "79995  16.50878  GALAXY  0.087129  \n",
       "79996  18.99151  GALAXY  0.522292  \n",
       "79997  16.13567  GALAXY  0.085534  \n",
       "79998  21.33620     QSO  0.632574  \n",
       "\n",
       "[79999 rows x 9 columns]"
      ]
     },
     "execution_count": 8,
     "metadata": {},
     "output_type": "execute_result"
    }
   ],
   "source": [
    "get_train_test()\n",
    "train, test = get_train_test()\n",
    "train = train.reset_index(drop=True)\n",
    "train"
   ]
  },
  {
   "cell_type": "code",
   "execution_count": 11,
   "metadata": {},
   "outputs": [],
   "source": [
    "# Stochastic Gradient Descent classifier -> train on dataset\n",
    "from sklearn.linear_model import SGDClassifier\n",
    "\n",
    "# seperate measurements (x) with class(y)\n",
    "x_train = train.drop(columns=[\"class\"], axis=1)\n",
    "y_train = train[\"class\"]\n",
    "\n",
    "# replace all infinite values with NaN\n",
    "x_train = x_train.replace([np.inf, -np.inf], np.nan)\n",
    "y_train = y_train.replace([np.inf, -np.inf], np.nan)\n",
    "\n",
    "# drop all the rows with NaN\n",
    "x_train = x_train.dropna(axis=0)\n",
    "y_train = y_train.dropna(axis=0)"
   ]
  },
  {
   "cell_type": "code",
   "execution_count": 12,
   "metadata": {},
   "outputs": [
    {
     "data": {
      "text/plain": [
       "SGDClassifier(alpha=0.0001, average=False, class_weight=None,\n",
       "              early_stopping=False, epsilon=0.1, eta0=0.0, fit_intercept=True,\n",
       "              l1_ratio=0.15, learning_rate='optimal', loss='hinge',\n",
       "              max_iter=1000, n_iter_no_change=5, n_jobs=None, penalty='l2',\n",
       "              power_t=0.5, random_state=42, shuffle=True, tol=0.001,\n",
       "              validation_fraction=0.1, verbose=0, warm_start=False)"
      ]
     },
     "execution_count": 12,
     "metadata": {},
     "output_type": "execute_result"
    }
   ],
   "source": [
    "y_train_star = (y_train == \"STAR\")\n",
    "\n",
    "# fit to training set\n",
    "sgd_clf = SGDClassifier(random_state=42)\n",
    "sgd_clf.fit(x_train, y_train_star)"
   ]
  },
  {
   "cell_type": "code",
   "execution_count": 13,
   "metadata": {},
   "outputs": [
    {
     "name": "stdout",
     "output_type": "stream",
     "text": [
      "GALAXY\n"
     ]
    },
    {
     "data": {
      "text/html": [
       "<div>\n",
       "<style scoped>\n",
       "    .dataframe tbody tr th:only-of-type {\n",
       "        vertical-align: middle;\n",
       "    }\n",
       "\n",
       "    .dataframe tbody tr th {\n",
       "        vertical-align: top;\n",
       "    }\n",
       "\n",
       "    .dataframe thead th {\n",
       "        text-align: right;\n",
       "    }\n",
       "</style>\n",
       "<table border=\"1\" class=\"dataframe\">\n",
       "  <thead>\n",
       "    <tr style=\"text-align: right;\">\n",
       "      <th></th>\n",
       "      <th>alpha</th>\n",
       "      <th>delta</th>\n",
       "      <th>u</th>\n",
       "      <th>g</th>\n",
       "      <th>r</th>\n",
       "      <th>i</th>\n",
       "      <th>z</th>\n",
       "      <th>redshift</th>\n",
       "    </tr>\n",
       "  </thead>\n",
       "  <tbody>\n",
       "    <tr>\n",
       "      <td>49213</td>\n",
       "      <td>0.799919</td>\n",
       "      <td>30.779448</td>\n",
       "      <td>24.96892</td>\n",
       "      <td>23.0113</td>\n",
       "      <td>21.64976</td>\n",
       "      <td>20.54921</td>\n",
       "      <td>19.85176</td>\n",
       "      <td>0.620405</td>\n",
       "    </tr>\n",
       "  </tbody>\n",
       "</table>\n",
       "</div>"
      ],
      "text/plain": [
       "          alpha      delta         u        g         r         i         z  \\\n",
       "49213  0.799919  30.779448  24.96892  23.0113  21.64976  20.54921  19.85176   \n",
       "\n",
       "       redshift  \n",
       "49213  0.620405  "
      ]
     },
     "execution_count": 13,
     "metadata": {},
     "output_type": "execute_result"
    }
   ],
   "source": [
    "# try model on random object of the dataset\n",
    "import random\n",
    "rand_index = random.randint(0,len(x_train))\n",
    "print(y_train[rand_index])\n",
    "some_object = x_train.loc[x_train.index == rand_index]\n",
    "some_object"
   ]
  },
  {
   "cell_type": "code",
   "execution_count": 14,
   "metadata": {},
   "outputs": [
    {
     "data": {
      "text/plain": [
       "array([False])"
      ]
     },
     "execution_count": 14,
     "metadata": {},
     "output_type": "execute_result"
    }
   ],
   "source": [
    "# our model predicts:\n",
    "sgd_clf.predict(some_object)"
   ]
  },
  {
   "cell_type": "markdown",
   "metadata": {},
   "source": [
    "## Confusion matrix with star binary classifier\n",
    "\n",
    "we're not using the test set, we will use the cross_val_predict function (cross_val_predict() performs K-fold cross-validation, but instead of returning the evaluation scores, it returns the predictions made on each test fold)\n",
    "\n",
    "**Confusion matrix**\n",
    "- each column = predicted class\n",
    "- each row = actual class\n",
    "\n",
    "The first row of this matrix considers non-star images (the negative class): 56,435 of them were correctly classified as non-stars (they are called true negatives), while the remaining 6,256 were wrongly classified as stars (false positives). \n",
    "\n",
    "The second row considers the images of stars (the positive class): 5,958 were wrongly classified as non-stars (false negatives), while the remaining 11,349 were correctly classified as stars (true positives)."
   ]
  },
  {
   "cell_type": "code",
   "execution_count": 15,
   "metadata": {},
   "outputs": [
    {
     "data": {
      "text/plain": [
       "array([[56435,  6256],\n",
       "       [ 5958, 11349]], dtype=int64)"
      ]
     },
     "execution_count": 15,
     "metadata": {},
     "output_type": "execute_result"
    }
   ],
   "source": [
    "from sklearn.model_selection import cross_val_predict\n",
    "\n",
    "# cross validation\n",
    "y_train_pred = cross_val_predict(sgd_clf, x_train, y_train_star, cv=3)\n",
    "\n",
    "#y_train_pred = sgd_clf.predict(x_train)\n",
    "\n",
    "# confusion matrix (for binary classifier, non-star vs star)\n",
    "from sklearn.metrics import confusion_matrix\n",
    "confusion_matrix(y_train_star, y_train_pred)"
   ]
  },
  {
   "cell_type": "markdown",
   "metadata": {},
   "source": [
    "Calculating:\n",
    "1. Precision:\n",
    "$$precision = \\frac{TP}{TP+FP}$$\n",
    "2. Recall:\n",
    "$$recall = \\frac{TP}{TP+FN}$$\n",
    "3. F1 score:\n",
    "$$F1 = \\frac{2}{\\frac{1}{precision} + \\frac{1}{recall}}$$"
   ]
  },
  {
   "cell_type": "code",
   "execution_count": 16,
   "metadata": {},
   "outputs": [
    {
     "name": "stdout",
     "output_type": "stream",
     "text": [
      "Precision of the model: 0.6446464072706617\n",
      "Recall of the model: 0.655746229849194\n",
      "Accuracy of the model: 0.8473211830295757\n",
      "F1 score of the model 0.6501489459211733\n"
     ]
    }
   ],
   "source": [
    "from sklearn.metrics import precision_score, recall_score, accuracy_score\n",
    "print(\"Precision of the model:\", precision_score(y_train_star, y_train_pred))\n",
    "print(\"Recall of the model:\", recall_score(y_train_star, y_train_pred))\n",
    "print(\"Accuracy of the model:\", accuracy_score(y_train_star, y_train_pred))\n",
    "\n",
    "from sklearn.metrics import f1_score\n",
    "print(\"F1 score of the model\", f1_score(y_train_star, y_train_pred))"
   ]
  },
  {
   "cell_type": "markdown",
   "metadata": {},
   "source": [
    "We will try to fine-tune the model: vary the threshold of the decision function to optimise the F1 score of our binary model."
   ]
  },
  {
   "cell_type": "code",
   "execution_count": 17,
   "metadata": {},
   "outputs": [],
   "source": [
    "# why cross validation here?\n",
    "y_scores = cross_val_predict(sgd_clf, x_train, y_train_star, cv=3, \n",
    "                             method=\"decision_function\")\n",
    "\n",
    "from sklearn.metrics import precision_recall_curve\n",
    "\n",
    "precisions, recalls, thresholds = precision_recall_curve(y_train_star, y_scores)"
   ]
  },
  {
   "cell_type": "code",
   "execution_count": 18,
   "metadata": {},
   "outputs": [
    {
     "name": "stderr",
     "output_type": "stream",
     "text": [
      "C:\\Users\\ellio\\Anaconda3\\lib\\site-packages\\IPython\\core\\pylabtools.py:128: UserWarning: Creating legend with loc=\"best\" can be slow with large amounts of data.\n",
      "  fig.canvas.print_figure(bytes_io, **kw)\n"
     ]
    },
    {
     "data": {
      "image/png": "[encoded data removed]",
      "text/plain": [
       "<Figure size 432x288 with 1 Axes>"
      ]
     },
     "metadata": {
      "needs_background": "light"
     },
     "output_type": "display_data"
    }
   ],
   "source": [
    "def plot_precision_recall_vs_threshold(precisions, recalls, thresholds):\n",
    "    plt.plot(thresholds, precisions[:-1], \"b--\", label=\"Precision\")\n",
    "    plt.plot(thresholds, recalls[:-1], \"g-\", label=\"Recall\")\n",
    "    f1_score = 2/(1/precisions[:-1] + 1/recalls[:-1])\n",
    "    plt.plot(thresholds, f1_score, \"r-\", label=\"f1 score\")\n",
    "    plt.axvline(x = 0)\n",
    "    #plt.xlim(thresholds.min(), thresholds.max())\n",
    "    plt.legend()\n",
    "    plt.xlabel(\"Threshold\")\n",
    "    # highlight the threshold and add the legend, axis label, and grid\n",
    "\n",
    "plot_precision_recall_vs_threshold(precisions, recalls, thresholds)\n",
    "\n",
    "plt.show()"
   ]
  },
  {
   "cell_type": "code",
   "execution_count": 19,
   "metadata": {},
   "outputs": [
    {
     "data": {
      "image/png": "[encoded data removed]",
      "text/plain": [
       "<Figure size 432x288 with 1 Axes>"
      ]
     },
     "metadata": {
      "needs_background": "light"
     },
     "output_type": "display_data"
    }
   ],
   "source": [
    "# can also plot precision vs recall!!\n",
    "plt.plot(recalls, precisions)\n",
    "plt.grid()\n",
    "plt.xlabel(\"Recall\")\n",
    "plt.ylabel(\"Precision\");"
   ]
  },
  {
   "cell_type": "code",
   "execution_count": 20,
   "metadata": {},
   "outputs": [
    {
     "name": "stdout",
     "output_type": "stream",
     "text": [
      "The maximum f1 score is: 0.7200110685790713 which happens at a threshold of: -9.84963995440183\n"
     ]
    }
   ],
   "source": [
    "f1_score = 2/(1/precisions[:-1] + 1/recalls[:-1])\n",
    "max_f1 = np.max(f1_score)\n",
    "max_f1_threshold = thresholds[np.argmax(f1_score)]\n",
    "print(\"The maximum f1 score is:\", max_f1, \"which happens at a threshold of:\", max_f1_threshold)"
   ]
  },
  {
   "cell_type": "markdown",
   "metadata": {},
   "source": [
    "What can we do now?\n",
    "- select only the y_scores above the threshold and compare the confusion matrices\n",
    "- try new model for binary classifier (random forest), plot roc curve and compare precision and recall\n",
    "- check predictions on test set of both models \n",
    "- go into multiclassification\n",
    "\n",
    "### Attempting to vary the threshold to maximise f1 score"
   ]
  },
  {
   "cell_type": "code",
   "execution_count": 21,
   "metadata": {},
   "outputs": [
    {
     "name": "stdout",
     "output_type": "stream",
     "text": [
      "[-33.720009    -5.33799268 -60.40066884 ... -44.75415789  -4.53031837\n",
      " -52.08926439]\n"
     ]
    },
    {
     "data": {
      "text/plain": [
       "array([False,  True, False, ..., False,  True, False])"
      ]
     },
     "execution_count": 21,
     "metadata": {},
     "output_type": "execute_result"
    }
   ],
   "source": [
    "# can access decision scores used to make predictions -> decision_function\n",
    "y_scores = sgd_clf.decision_function(x_train)\n",
    "print(y_scores)\n",
    "threshold = max_f1_threshold\n",
    "# only take scores above threshold to be True\n",
    "y_train_pred_new = (y_scores > threshold)\n",
    "y_train_pred_new"
   ]
  },
  {
   "cell_type": "code",
   "execution_count": 22,
   "metadata": {},
   "outputs": [
    {
     "data": {
      "text/plain": [
       "array([[52345, 10346],\n",
       "       [    7, 17300]], dtype=int64)"
      ]
     },
     "execution_count": 22,
     "metadata": {},
     "output_type": "execute_result"
    }
   ],
   "source": [
    "confusion_matrix(y_train_star, y_train_pred_new)"
   ]
  },
  {
   "cell_type": "code",
   "execution_count": 23,
   "metadata": {},
   "outputs": [
    {
     "name": "stdout",
     "output_type": "stream",
     "text": [
      "Precision of the model: 0.6257686464588006\n",
      "Recall of the model: 0.9995955393771306\n",
      "Accuracy of the model: 0.8705842646066152\n",
      "F1 score of the model 0.769692790247592\n"
     ]
    }
   ],
   "source": [
    "print(\"Precision of the model:\", precision_score(y_train_star, y_train_pred_new))\n",
    "print(\"Recall of the model:\", recall_score(y_train_star, y_train_pred_new))\n",
    "print(\"Accuracy of the model:\", accuracy_score(y_train_star, y_train_pred_new))\n",
    "f1_score = 2/(1/precision_score(y_train_star, y_train_pred_new) \n",
    "              + 1/recall_score(y_train_star, y_train_pred_new))\n",
    "print(\"F1 score of the model\", f1_score)"
   ]
  },
  {
   "cell_type": "markdown",
   "metadata": {},
   "source": [
    "## Trying new classifier: Random Forest\n"
   ]
  },
  {
   "cell_type": "code",
   "execution_count": 24,
   "metadata": {},
   "outputs": [
    {
     "name": "stderr",
     "output_type": "stream",
     "text": [
      "C:\\Users\\ellio\\Anaconda3\\lib\\site-packages\\sklearn\\ensemble\\forest.py:245: FutureWarning: The default value of n_estimators will change from 10 in version 0.20 to 100 in 0.22.\n",
      "  \"10 in version 0.20 to 100 in 0.22.\", FutureWarning)\n",
      "C:\\Users\\ellio\\Anaconda3\\lib\\site-packages\\sklearn\\ensemble\\forest.py:245: FutureWarning: The default value of n_estimators will change from 10 in version 0.20 to 100 in 0.22.\n",
      "  \"10 in version 0.20 to 100 in 0.22.\", FutureWarning)\n",
      "C:\\Users\\ellio\\Anaconda3\\lib\\site-packages\\sklearn\\ensemble\\forest.py:245: FutureWarning: The default value of n_estimators will change from 10 in version 0.20 to 100 in 0.22.\n",
      "  \"10 in version 0.20 to 100 in 0.22.\", FutureWarning)\n"
     ]
    }
   ],
   "source": [
    "from sklearn.ensemble import RandomForestClassifier\n",
    "\n",
    "forest_clf = RandomForestClassifier(random_state=42)\n",
    "y_probas_forest = cross_val_predict(forest_clf, x_train, y_train_star, cv=3,\n",
    "                                    method=\"predict_proba\")\n",
    "y_scores_forest = y_probas_forest[:, 1]   # score = proba of positive class"
   ]
  },
  {
   "cell_type": "markdown",
   "metadata": {},
   "source": [
    "## Comparing SGD and Random Forest with ROC curves"
   ]
  },
  {
   "cell_type": "code",
   "execution_count": 25,
   "metadata": {},
   "outputs": [],
   "source": [
    "def plot_roc_curve(fpr, tpr, label=None):\n",
    "    plt.plot(fpr, tpr, linewidth=2, label=label)\n",
    "    plt.plot([0, 1], [0, 1], 'k--')\n",
    "    plt.xlabel(\"FPR\")\n",
    "    plt.ylabel(\"TPR = Recall\")"
   ]
  },
  {
   "cell_type": "code",
   "execution_count": 26,
   "metadata": {},
   "outputs": [],
   "source": [
    "# give roc_curve probabilities instead of scores\n",
    "from sklearn.metrics import roc_curve\n",
    "\n",
    "y_scores_SGD = y_scores\n",
    "# tpr and fpr for various threshold values\n",
    "fpr_SGD, tpr_SGD, thresholds_SGD = roc_curve(y_train_star, y_scores_SGD)\n",
    "fpr_forest, tpr_forest, thresholds_forest = roc_curve(y_train_star,y_scores_forest)"
   ]
  },
  {
   "cell_type": "code",
   "execution_count": 27,
   "metadata": {},
   "outputs": [
    {
     "data": {
      "image/png": "[encoded data removed]",
      "text/plain": [
       "<Figure size 432x288 with 1 Axes>"
      ]
     },
     "metadata": {
      "needs_background": "light"
     },
     "output_type": "display_data"
    },
    {
     "name": "stdout",
     "output_type": "stream",
     "text": [
      "Area under the curve of (SGD classifier): 0.994561309377204\n",
      "Area under the curve of (RF classifier): 0.9995126084378172\n"
     ]
    }
   ],
   "source": [
    "plt.plot(fpr_SGD, tpr_SGD, \"b:\", label=\"SGD\")\n",
    "plot_roc_curve(fpr_forest, tpr_forest, \"Random Forest\")\n",
    "plt.legend(loc=\"lower right\")\n",
    "plt.xlim(0,0.05)\n",
    "plt.show()\n",
    "\n",
    "# Can also measure the area under the curve AUC\n",
    "from sklearn.metrics import roc_auc_score\n",
    "print(\"Area under the curve of (SGD classifier):\", roc_auc_score(y_train_star, y_scores_SGD))\n",
    "print(\"Area under the curve of (RF classifier):\", roc_auc_score(y_train_star, y_scores_forest))"
   ]
  },
  {
   "cell_type": "code",
   "execution_count": null,
   "metadata": {},
   "outputs": [],
   "source": []
  }
 ],
 "metadata": {
  "kernelspec": {
   "display_name": "Python 3",
   "language": "python",
   "name": "python3"
  },
  "language_info": {
   "codemirror_mode": {
    "name": "ipython",
    "version": 3
   },
   "file_extension": ".py",
   "mimetype": "text/x-python",
   "name": "python",
   "nbconvert_exporter": "python",
   "pygments_lexer": "ipython3",
   "version": "3.7.4"
  }
 },
 "nbformat": 4,
 "nbformat_minor": 2
}

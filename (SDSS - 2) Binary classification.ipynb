{
 "cells": [
  {
   "cell_type": "markdown",
   "metadata": {},
   "source": [
    "## Preparing binary classifier\n",
    "\n",
    "Let's try to create and train classifier to identify GALAXIES."
   ]
  },
  {
   "cell_type": "code",
   "execution_count": 76,
   "metadata": {},
   "outputs": [],
   "source": [
    "import pandas as pd\n",
    "import numpy as np\n",
    "from sklearn.model_selection import StratifiedShuffleSplit\n",
    "from sklearn.svm import SVC\n",
    "import random\n",
    "from sklearn.model_selection import cross_val_score\n",
    "from sklearn.metrics import precision_recall_curve\n",
    "from sklearn.metrics import precision_score, recall_score, accuracy_score\n",
    "from sklearn.metrics import f1_score\n",
    "from sklearn.preprocessing import StandardScaler\n",
    "from sklearn.linear_model import SGDClassifier\n",
    "from sklearn.model_selection import cross_val_score\n",
    "from sklearn.metrics import roc_curve\n",
    "from sklearn.preprocessing import StandardScaler\n",
    "from sklearn.ensemble import RandomForestClassifier\n",
    "from sklearn.neighbors import KNeighborsClassifier\n",
    "from sklearn.tree import DecisionTreeClassifier\n",
    "from sklearn.svm import LinearSVC\n",
    "from sklearn.model_selection import cross_val_predict\n",
    "from sklearn.metrics import confusion_matrix\n",
    "import matplotlib as mpl\n",
    "import matplotlib.pyplot as plt\n",
    "import seaborn as sns\n",
    "from pandas.plotting import scatter_matrix\n",
    "from sklearn.metrics import mean_squared_error\n",
    "from sklearn.linear_model import LinearRegression\n",
    "from sklearn.tree import DecisionTreeRegressor\n",
    "from sklearn.ensemble import RandomForestClassifier\n",
    "from sklearn.ensemble import RandomForestRegressor\n",
    "from sklearn.gaussian_process import GaussianProcessClassifier\n",
    "from sklearn.model_selection import GridSearchCV\n",
    "from sklearn.model_selection import RandomizedSearchCV\n",
    "import warnings\n",
    "warnings.simplefilter(action='ignore', category=FutureWarning)\n",
    "import time"
   ]
  },
  {
   "cell_type": "code",
   "execution_count": 2,
   "metadata": {},
   "outputs": [],
   "source": [
    "from sklearn.model_selection import StratifiedShuffleSplit\n",
    "def get_train_test():\n",
    "    # load\n",
    "    df = pd.read_csv(\"star_classification.csv\")\n",
    "    # remove outliers\n",
    "    # select the row with u or z or g below 0 (should not be allowed)\n",
    "    outliers = df[(df[\"u\"] <= 0)  \n",
    "                | (df[\"z\"] <= 0) \n",
    "                | (df[\"g\"] <= 0)\n",
    "                | (df[\"redshift\"] <= 0)]\n",
    "\n",
    "    # drop the row corresponding to the outlier\n",
    "    df = df.drop(outliers.index, axis=0)\n",
    "    # we drop the data we are not interested in and which won't be useful\n",
    "    df = df.drop(\n",
    "        columns=[\"obj_ID\", \"fiber_ID\", \"MJD\", \"plate\", \"spec_obj_ID\", \n",
    "                 \"field_ID\", \"cam_col\", \"rerun_ID\", \"run_ID\"], axis=1)\n",
    "    \n",
    "    # stratified split\n",
    "    split = StratifiedShuffleSplit(n_splits=1, test_size=0.2, random_state=42)\n",
    "    \n",
    "    for train_index, test_index in split.split(df, df[\"class\"]):\n",
    "        strat_train_set = df.loc[train_index]\n",
    "        strat_test_set = df.loc[test_index]\n",
    "        \n",
    "    return strat_train_set, strat_test_set"
   ]
  },
  {
   "cell_type": "code",
   "execution_count": 173,
   "metadata": {},
   "outputs": [],
   "source": [
    "train, test = get_train_test()\n",
    "train = train.reset_index(drop=True)\n",
    "test = test.reset_index(drop=True)\n",
    "\n",
    "# seperate measurements (x) with class(y)\n",
    "x_train = train.drop(columns=[\"class\"], axis=1)\n",
    "y_train = train[\"class\"]\n",
    "\n",
    "# replace all infinite values with NaN\n",
    "x_train = x_train.replace([np.inf, -np.inf], np.nan)\n",
    "y_train = y_train.replace([np.inf, -np.inf], np.nan)\n",
    "\n",
    "# drop all the rows with NaN\n",
    "x_train = x_train.dropna(axis=0)\n",
    "y_train = y_train.dropna(axis=0)\n",
    "\n",
    "# seperate measurements (x) with class(y)\n",
    "x_test = test.drop(columns=[\"class\"], axis=1)\n",
    "y_test = test[\"class\"]\n",
    "\n",
    "# replace all infinite values with NaN\n",
    "x_test = x_test.replace([np.inf, -np.inf], np.nan)\n",
    "y_test = y_test.replace([np.inf, -np.inf], np.nan)\n",
    "\n",
    "# drop all the rows with NaN\n",
    "x_test = x_test.dropna(axis=0)\n",
    "y_test = y_test.dropna(axis=0)\n",
    "\n",
    "x_train = x_train.reset_index(drop=True)\n",
    "y_train = y_train.reset_index(drop=True)\n",
    "\n",
    "# array of true/false to find galaxies \n",
    "y_train_galaxy = (y_train == \"GALAXY\")\n",
    "y_test_galaxy = (y_test == \"GALAXY\")"
   ]
  },
  {
   "cell_type": "code",
   "execution_count": 4,
   "metadata": {},
   "outputs": [],
   "source": [
    "x_train = StandardScaler().fit_transform(x_train)\n",
    "x_test = StandardScaler().fit_transform(x_test)"
   ]
  },
  {
   "cell_type": "markdown",
   "metadata": {},
   "source": [
    "## Confusion matrix with star binary classifier\n",
    "\n",
    "we're not using the test set, we will use the cross_val_predict function (cross_val_predict() performs K-fold cross-validation, but instead of returning the evaluation scores, it returns the predictions made on each test fold)\n",
    "\n",
    "**Confusion matrix**\n",
    "- each column = predicted class\n",
    "- each row = actual class\n",
    "\n",
    "Calculating:\n",
    "1. Precision:\n",
    "$$precision = \\frac{TP}{TP+FP}$$\n",
    "2. Recall:\n",
    "$$recall = \\frac{TP}{TP+FN}$$\n",
    "3. F1 score:\n",
    "$$F1 = \\frac{2}{\\frac{1}{precision} + \\frac{1}{recall}}$$\n",
    "\n",
    "## Trying new classifier: SGD"
   ]
  },
  {
   "cell_type": "code",
   "execution_count": 5,
   "metadata": {},
   "outputs": [
    {
     "data": {
      "text/plain": [
       "array([[13130,  5648],\n",
       "       [ 1766, 38378]], dtype=int64)"
      ]
     },
     "execution_count": 5,
     "metadata": {},
     "output_type": "execute_result"
    }
   ],
   "source": [
    "sgd_clf = SGDClassifier(random_state=42)\n",
    "# cross validation\n",
    "y_train_pred = cross_val_predict(sgd_clf, x_train, y_train_galaxy, cv=3)\n",
    "\n",
    "# confusion matrix\n",
    "from sklearn.metrics import confusion_matrix\n",
    "confusion_matrix(y_train_galaxy, y_train_pred)"
   ]
  },
  {
   "cell_type": "code",
   "execution_count": 6,
   "metadata": {},
   "outputs": [
    {
     "name": "stdout",
     "output_type": "stream",
     "text": [
      "F1 score of the model 0.9119163597481289\n"
     ]
    }
   ],
   "source": [
    "print(\"F1 score of the model\", f1_score(y_train_galaxy, y_train_pred))"
   ]
  },
  {
   "cell_type": "markdown",
   "metadata": {},
   "source": [
    "We will try to fine-tune the model: vary the threshold of the decision function to optimise the F1 score of our binary model."
   ]
  },
  {
   "cell_type": "code",
   "execution_count": 7,
   "metadata": {},
   "outputs": [
    {
     "data": {
      "image/png": "[encoded data removed]",
      "text/plain": [
       "<Figure size 432x288 with 1 Axes>"
      ]
     },
     "metadata": {
      "needs_background": "light"
     },
     "output_type": "display_data"
    }
   ],
   "source": [
    "# why cross validation here?\n",
    "y_scores_SGD = cross_val_predict(SGDClassifier(random_state=42), x_train, y_train_galaxy, cv=3, \n",
    "                                 method=\"decision_function\")\n",
    "\n",
    "precisions, recalls, thresholds = precision_recall_curve(y_train_galaxy, y_scores_SGD)\n",
    "\n",
    "def plot_precision_recall_vs_threshold(precisions, recalls, thresholds):\n",
    "    plt.plot(thresholds, precisions[:-1], \"b--\", label=\"Precision\")\n",
    "    plt.plot(thresholds, recalls[:-1], \"g-\", label=\"Recall\")\n",
    "    f1_score = 2/(1/precisions[:-1] + 1/recalls[:-1])\n",
    "    plt.plot(thresholds, f1_score, \"r-\", label=\"f1 score\")\n",
    "    plt.axvline(x = 0)\n",
    "    #plt.xlim(thresholds.min(), thresholds.max())\n",
    "    plt.legend()\n",
    "    plt.xlabel(\"Threshold\")\n",
    "    # highlight the threshold and add the legend, axis label, and grid\n",
    "\n",
    "plot_precision_recall_vs_threshold(precisions, recalls, thresholds)\n",
    "plt.show()"
   ]
  },
  {
   "cell_type": "code",
   "execution_count": 8,
   "metadata": {},
   "outputs": [
    {
     "name": "stdout",
     "output_type": "stream",
     "text": [
      "The maximum f1 score is: 0.912109075012701 which happens at a threshold of: -0.07318990928952807\n"
     ]
    }
   ],
   "source": [
    "f1_score_array = 2/(1/precisions[:-1] + 1/recalls[:-1])\n",
    "max_f1 = np.max(f1_score_array)\n",
    "max_f1_threshold = thresholds[np.argmax(f1_score_array)]\n",
    "print(\"The maximum f1 score is:\", max_f1, \"which happens at a threshold of:\", max_f1_threshold)"
   ]
  },
  {
   "cell_type": "code",
   "execution_count": 9,
   "metadata": {},
   "outputs": [
    {
     "name": "stdout",
     "output_type": "stream",
     "text": [
      "[[12883  5895]\n",
      " [ 1545 38599]]\n",
      "Precision of the model: 0.8675102260979008\n",
      "Recall of the model: 0.9615135512156238\n",
      "Accuracy of the model: 0.873731373680459\n",
      "F1 score of the model 0.9120962215553298\n"
     ]
    }
   ],
   "source": [
    "# only take scores above threshold to be True\n",
    "y_train_pred_new = (y_scores_SGD > max_f1_threshold)\n",
    "    \n",
    "print(confusion_matrix(y_train_galaxy, y_train_pred_new))\n",
    "\n",
    "print(\"Precision of the model:\", precision_score(y_train_galaxy, y_train_pred_new))\n",
    "print(\"Recall of the model:\", recall_score(y_train_galaxy, y_train_pred_new))\n",
    "print(\"Accuracy of the model:\", accuracy_score(y_train_galaxy, y_train_pred_new))\n",
    "print(\"F1 score of the model\", f1_score(y_train_galaxy, y_train_pred_new))"
   ]
  },
  {
   "cell_type": "markdown",
   "metadata": {},
   "source": [
    "## Trying new classifier: Random Forest\n"
   ]
  },
  {
   "cell_type": "code",
   "execution_count": 10,
   "metadata": {},
   "outputs": [],
   "source": [
    "forest_clf = RandomForestClassifier(random_state=42)\n",
    "y_probas_RF = cross_val_predict(forest_clf, x_train, y_train_galaxy, cv=3,\n",
    "                                    method=\"predict_proba\")\n",
    "y_scores_RF = y_probas_RF[:, 1]   # score = proba of positive class"
   ]
  },
  {
   "cell_type": "markdown",
   "metadata": {},
   "source": [
    "## Trying new classifier: Nearest Neighbours"
   ]
  },
  {
   "cell_type": "code",
   "execution_count": 11,
   "metadata": {},
   "outputs": [
    {
     "data": {
      "image/png": "[encoded data removed]",
      "text/plain": [
       "<Figure size 432x288 with 1 Axes>"
      ]
     },
     "metadata": {
      "needs_background": "light"
     },
     "output_type": "display_data"
    }
   ],
   "source": [
    "neighbours = range(1,21)\n",
    "for n in neighbours:\n",
    "    neigh = KNeighborsClassifier(n_neighbors=n)\n",
    "    y_train_pred_neigh = cross_val_predict(neigh, x_train, y_train_galaxy, cv=3)\n",
    "    plt.plot(n, f1_score(y_train_galaxy, y_train_pred_neigh), '.');"
   ]
  },
  {
   "cell_type": "code",
   "execution_count": 68,
   "metadata": {},
   "outputs": [
    {
     "name": "stdout",
     "output_type": "stream",
     "text": [
      "--- 5.817574501037598 seconds ---\n",
      "f1 score: 0.9565422650698207\n"
     ]
    }
   ],
   "source": [
    "start_time = time.time()\n",
    "neigh = KNeighborsClassifier(n_neighbors=4)\n",
    "# we'll be using k=4 later on which is why we define it as y_scores_KNN\n",
    "y_scores_KNN = cross_val_predict(neigh, x_train, y_train_galaxy, cv=3)\n",
    "print(\"--- %s seconds ---\" % (time.time() - start_time))\n",
    "print(\"f1 score:\", f1_score(y_train_galaxy, y_scores_KNN))"
   ]
  },
  {
   "cell_type": "markdown",
   "metadata": {},
   "source": [
    "## Trying new classifier: Decision Tree"
   ]
  },
  {
   "cell_type": "code",
   "execution_count": 17,
   "metadata": {},
   "outputs": [],
   "source": [
    "DT_clf = DecisionTreeClassifier(random_state=42)\n",
    "y_scores_DT = cross_val_predict(DT_clf, x_train, y_train_galaxy, cv=3)"
   ]
  },
  {
   "cell_type": "markdown",
   "metadata": {},
   "source": [
    "## Trying new classifier: Linear SVC"
   ]
  },
  {
   "cell_type": "code",
   "execution_count": 18,
   "metadata": {},
   "outputs": [
    {
     "name": "stderr",
     "output_type": "stream",
     "text": [
      "C:\\Users\\ellio\\Anaconda3\\lib\\site-packages\\sklearn\\svm\\base.py:929: ConvergenceWarning: Liblinear failed to converge, increase the number of iterations.\n",
      "  \"the number of iterations.\", ConvergenceWarning)\n",
      "C:\\Users\\ellio\\Anaconda3\\lib\\site-packages\\sklearn\\svm\\base.py:929: ConvergenceWarning: Liblinear failed to converge, increase the number of iterations.\n",
      "  \"the number of iterations.\", ConvergenceWarning)\n",
      "C:\\Users\\ellio\\Anaconda3\\lib\\site-packages\\sklearn\\svm\\base.py:929: ConvergenceWarning: Liblinear failed to converge, increase the number of iterations.\n",
      "  \"the number of iterations.\", ConvergenceWarning)\n"
     ]
    }
   ],
   "source": [
    "linsvc_clf = LinearSVC(random_state=42)\n",
    "y_scores_LinSVC = cross_val_predict(linsvc_clf, x_train, y_train_galaxy, cv=3)"
   ]
  },
  {
   "cell_type": "markdown",
   "metadata": {},
   "source": [
    "## Comparing SGD, KNN, RF, DT, SVM with ROC curves"
   ]
  },
  {
   "cell_type": "code",
   "execution_count": 19,
   "metadata": {},
   "outputs": [],
   "source": [
    "def plot_roc_curve(fpr, tpr, label=None):\n",
    "    plt.plot(fpr, tpr, linewidth=2, label=label)\n",
    "    plt.plot([0, 1], [0, 1], 'k--')\n",
    "    plt.xlabel(\"FPR\")\n",
    "    plt.ylabel(\"TPR = Recall\")"
   ]
  },
  {
   "cell_type": "code",
   "execution_count": 20,
   "metadata": {},
   "outputs": [],
   "source": [
    "# tpr and fpr for various threshold values\n",
    "fpr_SGD, tpr_SGD, thresholds_SGD = roc_curve(y_train_galaxy, y_scores_SGD)\n",
    "fpr_RF, tpr_RF, thresholds_RF = roc_curve(y_train_galaxy,y_scores_RF)\n",
    "fpr_KNN, tpr_KNN, thresholds_KNN = roc_curve(y_train_galaxy,y_scores_KNN)\n",
    "fpr_DT, tpr_DT, thresholds_DT = roc_curve(y_train_galaxy,y_scores_DT)\n",
    "fpr_LinSVC, tpr_LinSVC, thresholds_LinSVC = roc_curve(y_train_galaxy,y_scores_LinSVC)"
   ]
  },
  {
   "cell_type": "code",
   "execution_count": 32,
   "metadata": {},
   "outputs": [
    {
     "data": {
      "image/png": "[encoded data removed]",
      "text/plain": [
       "<Figure size 432x288 with 1 Axes>"
      ]
     },
     "metadata": {
      "needs_background": "light"
     },
     "output_type": "display_data"
    },
    {
     "name": "stdout",
     "output_type": "stream",
     "text": [
      "Area under the curve of (SGD classifier): 0.8836508796790389\n",
      "Area under the curve of (RF classifier): 0.9871038437522248\n",
      "Area under the curve of (KNN classifier): 0.930199950165558\n",
      "Area under the curve of (DT classifier): 0.9532466722950005\n",
      "Area under the curve of (LinSVC classifier): 0.8217583928128203\n"
     ]
    }
   ],
   "source": [
    "plot_roc_curve(fpr_RF, tpr_RF, \"Random Forest\")\n",
    "plt.plot(fpr_SGD, tpr_SGD, \"b:\", label=\"SGD\")\n",
    "plt.plot(fpr_KNN, tpr_KNN, \"r:\", label=\"KNN\")\n",
    "plt.plot(fpr_DT, tpr_DT, \"g:\", label=\"DT\")\n",
    "plt.plot(fpr_LinSVC, tpr_LinSVC, \"c:\", label=\"Linear SVC\")\n",
    "\n",
    "plt.legend(loc=\"lower right\")\n",
    "plt.show()\n",
    "\n",
    "# Can also measure the area under the curve AUC\n",
    "from sklearn.metrics import roc_auc_score\n",
    "print(\"Area under the curve of (SGD classifier):\", roc_auc_score(y_train_galaxy, y_scores_SGD))\n",
    "print(\"Area under the curve of (RF classifier):\", roc_auc_score(y_train_galaxy, y_scores_RF))\n",
    "print(\"Area under the curve of (KNN classifier):\", roc_auc_score(y_train_galaxy, y_scores_KNN))\n",
    "print(\"Area under the curve of (DT classifier):\", roc_auc_score(y_train_galaxy, y_scores_DT))\n",
    "print(\"Area under the curve of (LinSVC classifier):\", roc_auc_score(y_train_galaxy, y_scores_LinSVC))"
   ]
  },
  {
   "cell_type": "markdown",
   "metadata": {},
   "source": [
    "### Testing the models on testing set using f1 score"
   ]
  },
  {
   "cell_type": "code",
   "execution_count": 74,
   "metadata": {
    "jupyter": {
     "source_hidden": true
    }
   },
   "outputs": [
    {
     "name": "stdout",
     "output_type": "stream",
     "text": [
      "F1 score of random forest: 0.9785932721712538\n",
      "F1 score of KNN: 0.958898702323975\n",
      "F1 score of decision tree: 0.9697298898819812\n"
     ]
    },
    {
     "name": "stderr",
     "output_type": "stream",
     "text": [
      "C:\\Users\\ellio\\Anaconda3\\lib\\site-packages\\sklearn\\svm\\base.py:929: ConvergenceWarning: Liblinear failed to converge, increase the number of iterations.\n",
      "  \"the number of iterations.\", ConvergenceWarning)\n"
     ]
    },
    {
     "name": "stdout",
     "output_type": "stream",
     "text": [
      "F1 score of Linear SVC: 0.9052060531074522\n",
      "F1 score of SGD: 0.9146162233916465\n"
     ]
    }
   ],
   "source": [
    "# Random Forest on test set\n",
    "forest_clf = RandomForestClassifier(random_state=42)\n",
    "forest_clf.fit(x_train, y_train_galaxy)\n",
    "y_test_pred = forest_clf.predict(x_test)\n",
    "print(\"F1 score of random forest:\", f1_score(y_test_galaxy, y_test_pred))\n",
    "# KNN on test set\n",
    "neigh = KNeighborsClassifier(n_neighbors=4)\n",
    "neigh.fit(x_train, y_train_galaxy)\n",
    "y_test_pred = neigh.predict(x_test)\n",
    "print(\"F1 score of KNN:\", f1_score(y_test_galaxy, y_test_pred))\n",
    "# Decision Tree on test set\n",
    "DT_clf = DecisionTreeClassifier(random_state=42)\n",
    "DT_clf.fit(x_train, y_train_galaxy)\n",
    "y_test_pred = DT_clf.predict(x_test)\n",
    "print(\"F1 score of decision tree:\", f1_score(y_test_galaxy, y_test_pred))\n",
    "# Linear SVC on test set\n",
    "linsvc_clf = LinearSVC(random_state=42)\n",
    "linsvc_clf.fit(x_train, y_train_galaxy)\n",
    "y_test_pred = linsvc_clf.predict(x_test)\n",
    "print(\"F1 score of Linear SVC:\", f1_score(y_test_galaxy, y_test_pred))\n",
    "# SGD on test set\n",
    "sgd_clf = SGDClassifier(random_state=42)\n",
    "sgd_clf.fit(x_train, y_train_galaxy)\n",
    "y_test_pred = sgd_clf.predict(x_test)\n",
    "print(\"F1 score of SGD:\", f1_score(y_test_galaxy, y_test_pred))"
   ]
  },
  {
   "cell_type": "markdown",
   "metadata": {},
   "source": [
    "## Fine tuning classifiers and optimising hyperparameters\n",
    "\n",
    "Random forest hyperparameters: https://medium.com/analytics-vidhya/random-forest-classifier-and-its-hyperparameters-8467bec755f6\n",
    "\n",
    "We select the best three models: 1. Random Forest, 2. Decision Tree, 3. K-Nearest Neighbours.\n",
    "\n",
    "### 1. Random Forest"
   ]
  },
  {
   "cell_type": "code",
   "execution_count": 44,
   "metadata": {},
   "outputs": [
    {
     "name": "stdout",
     "output_type": "stream",
     "text": [
      "{'n_estimators': 47, 'min_weight_fraction_leaf': 0, 'min_samples_split': 73, 'min_samples_leaf': 75, 'max_features': 4}\n",
      "Time taken for random search with 10  iterations:  96.53729891777039\n",
      "{'n_estimators': 18, 'min_weight_fraction_leaf': 0, 'min_samples_split': 72, 'min_samples_leaf': 14, 'max_features': 5}\n",
      "Time taken for random search with 20  iterations:  251.85934162139893\n",
      "{'n_estimators': 189, 'min_weight_fraction_leaf': 0, 'min_samples_split': 65, 'min_samples_leaf': 24, 'max_features': 3}\n",
      "Time taken for random search with 30  iterations:  692.2833395004272\n"
     ]
    }
   ],
   "source": [
    "param_grid = {'n_estimators': np.linspace(1,200,200).astype(int), \n",
    "               'max_features': np.linspace(1,5,5).astype(int),\n",
    "               #'criterion': ['mse', 'mae'],\n",
    "               'min_samples_split': np.linspace(2,100,99).astype(int),\n",
    "               'min_samples_leaf': np.linspace(1,100,100).astype(int),\n",
    "               'min_weight_fraction_leaf': [0, 0.1, 0.2, 0.3, 0.4]}\n",
    "\n",
    "forest_clf = RandomForestClassifier(random_state=42)\n",
    "\n",
    "number_iterations = [10, 20, 30]\n",
    "time_taken = []\n",
    "f1_score_RF = []\n",
    "\n",
    "for n in number_iterations: \n",
    "    random_search_RF = RandomizedSearchCV(forest_clf, param_distributions=param_grid, cv = 3, n_iter = n)\n",
    "    random_search_RF.fit(x_train, y_train_galaxy)\n",
    "    print(random_search_RF.best_params_)\n",
    "    print(\"Time taken for random search with\", n, \" iterations: \", time.time() - start_time)"
   ]
  },
  {
   "cell_type": "code",
   "execution_count": 45,
   "metadata": {
    "collapsed": true,
    "jupyter": {
     "outputs_hidden": true
    }
   },
   "outputs": [
    {
     "data": {
      "text/plain": [
       "{'max_features': 3,\n",
       " 'min_samples_leaf': 20,\n",
       " 'min_samples_split': 70,\n",
       " 'min_weight_fraction_leaf': 0,\n",
       " 'n_estimators': 25}"
      ]
     },
     "execution_count": 45,
     "metadata": {},
     "output_type": "execute_result"
    }
   ],
   "source": [
    "param_grid = {'n_estimators': [25, 50], \n",
    "               'max_features': [2,3],\n",
    "               #'criterion': ['mse', 'mae'],\n",
    "               'min_samples_split': [70],\n",
    "               'min_samples_leaf': [20, 50],\n",
    "               'min_weight_fraction_leaf': [0]}\n",
    "\n",
    "forest_clf = RandomForestClassifier(random_state=42)\n",
    "grid_search = GridSearchCV(forest_clf, param_grid, cv=3)\n",
    "\n",
    "grid_search.fit(x_train, y_train_galaxy)\n",
    "\n",
    "grid_search.best_params_"
   ]
  },
  {
   "cell_type": "code",
   "execution_count": 60,
   "metadata": {
    "collapsed": true,
    "jupyter": {
     "outputs_hidden": true
    }
   },
   "outputs": [
    {
     "name": "stdout",
     "output_type": "stream",
     "text": [
      "Time taken fitting of 10  estimators:  4.3667378425598145\n",
      "Time taken fitting of 20  estimators:  8.869022607803345\n",
      "Time taken fitting of 30  estimators:  12.721364736557007\n",
      "Time taken fitting of 40  estimators:  16.33738684654236\n",
      "Time taken fitting of 50  estimators:  20.308902263641357\n",
      "Time taken fitting of 75  estimators:  31.370914936065674\n",
      "Time taken fitting of 100  estimators:  40.87331175804138\n",
      "Time taken fitting of 125  estimators:  51.26305317878723\n",
      "Time taken fitting of 150  estimators:  62.306391954422\n",
      "Time taken fitting of 200  estimators:  83.4889771938324\n"
     ]
    }
   ],
   "source": [
    "number_esti = [10, 20, 30, 40, 50, 75, 100, 125, 150, 200]\n",
    "time_taken = []\n",
    "roc_auc_score_RF = []\n",
    "\n",
    "for n in number_esti:    \n",
    "    start_time = time.time()\n",
    "    forest_clf = RandomForestClassifier(n_estimators=n, min_samples_split=70, min_samples_leaf=20,\n",
    "                                    min_weight_fraction_leaf=0, max_features=3, random_state=42)\n",
    "    y_probas_RF = cross_val_predict(forest_clf, x_train, y_train_galaxy, cv=3,\n",
    "                                    method=\"predict_proba\")\n",
    "    y_scores_RF = y_probas_RF[:, 1]\n",
    "    time_taken = np.append(time_taken, time.time() - start_time)\n",
    "    roc_auc_score_RF = np.append(roc_auc_score_RF, roc_auc_score(y_train_galaxy, y_scores_RF))\n",
    "    print(\"Time taken fitting of\", n, \" estimators: \", time.time() - start_time)"
   ]
  },
  {
   "cell_type": "code",
   "execution_count": 85,
   "metadata": {},
   "outputs": [
    {
     "ename": "NameError",
     "evalue": "name 'number_esti' is not defined",
     "output_type": "error",
     "traceback": [
      "\u001b[1;31m---------------------------------------------------------------------------\u001b[0m",
      "\u001b[1;31mNameError\u001b[0m                                 Traceback (most recent call last)",
      "\u001b[1;32m<ipython-input-85-25e1b7c0d228>\u001b[0m in \u001b[0;36m<module>\u001b[1;34m\u001b[0m\n\u001b[0;32m      1\u001b[0m \u001b[0mplt\u001b[0m\u001b[1;33m.\u001b[0m\u001b[0msubplot\u001b[0m\u001b[1;33m(\u001b[0m\u001b[1;36m1\u001b[0m\u001b[1;33m,\u001b[0m\u001b[1;36m2\u001b[0m\u001b[1;33m,\u001b[0m\u001b[1;36m1\u001b[0m\u001b[1;33m)\u001b[0m\u001b[1;33m\u001b[0m\u001b[1;33m\u001b[0m\u001b[0m\n\u001b[1;32m----> 2\u001b[1;33m \u001b[0mplt\u001b[0m\u001b[1;33m.\u001b[0m\u001b[0mplot\u001b[0m\u001b[1;33m(\u001b[0m\u001b[0mnumber_esti\u001b[0m\u001b[1;33m,\u001b[0m \u001b[0mroc_auc_score_RF\u001b[0m\u001b[1;33m,\u001b[0m \u001b[1;34m'.'\u001b[0m\u001b[1;33m,\u001b[0m \u001b[0mlabel\u001b[0m\u001b[1;33m=\u001b[0m\u001b[1;34m'function of n'\u001b[0m\u001b[1;33m)\u001b[0m\u001b[1;33m\u001b[0m\u001b[1;33m\u001b[0m\u001b[0m\n\u001b[0m\u001b[0;32m      3\u001b[0m \u001b[0mplt\u001b[0m\u001b[1;33m.\u001b[0m\u001b[0mplot\u001b[0m\u001b[1;33m(\u001b[0m\u001b[0mtime_taken\u001b[0m\u001b[1;33m,\u001b[0m \u001b[0mroc_auc_score_RF\u001b[0m\u001b[1;33m,\u001b[0m \u001b[1;34m'.'\u001b[0m\u001b[1;33m,\u001b[0m \u001b[0mlabel\u001b[0m\u001b[1;33m=\u001b[0m\u001b[1;34m'function of time'\u001b[0m\u001b[1;33m)\u001b[0m\u001b[1;33m\u001b[0m\u001b[1;33m\u001b[0m\u001b[0m\n\u001b[0;32m      4\u001b[0m \u001b[0mplt\u001b[0m\u001b[1;33m.\u001b[0m\u001b[0mlegend\u001b[0m\u001b[1;33m(\u001b[0m\u001b[1;33m)\u001b[0m\u001b[1;33m\u001b[0m\u001b[1;33m\u001b[0m\u001b[0m\n\u001b[0;32m      5\u001b[0m \u001b[0mplt\u001b[0m\u001b[1;33m.\u001b[0m\u001b[0msubplot\u001b[0m\u001b[1;33m(\u001b[0m\u001b[1;36m1\u001b[0m\u001b[1;33m,\u001b[0m\u001b[1;36m2\u001b[0m\u001b[1;33m,\u001b[0m\u001b[1;36m2\u001b[0m\u001b[1;33m)\u001b[0m\u001b[1;33m\u001b[0m\u001b[1;33m\u001b[0m\u001b[0m\n",
      "\u001b[1;31mNameError\u001b[0m: name 'number_esti' is not defined"
     ]
    },
    {
     "data": {
      "image/png": "[encoded data removed]",
      "text/plain": [
       "<Figure size 432x288 with 1 Axes>"
      ]
     },
     "metadata": {
      "needs_background": "light"
     },
     "output_type": "display_data"
    }
   ],
   "source": [
    "plt.subplot(1,2,1)\n",
    "plt.plot(number_esti, roc_auc_score_RF, '.', label='function of n')\n",
    "plt.plot(time_taken, roc_auc_score_RF, '.', label='function of time')\n",
    "plt.legend()\n",
    "plt.subplot(1,2,2)\n",
    "plt.plot(number_esti, time_taken, '.')"
   ]
  },
  {
   "cell_type": "markdown",
   "metadata": {},
   "source": [
    "### 2. Decision Tree"
   ]
  },
  {
   "cell_type": "code",
   "execution_count": 94,
   "metadata": {},
   "outputs": [
    {
     "data": {
      "text/plain": [
       "{'max_features': 5,\n",
       " 'min_impurity_decrease': 0,\n",
       " 'min_samples_leaf': 20,\n",
       " 'min_weight_fraction_leaf': 0}"
      ]
     },
     "execution_count": 94,
     "metadata": {},
     "output_type": "execute_result"
    }
   ],
   "source": [
    "param_grid = {'min_impurity_decrease': [0], \n",
    "               'max_features': [3,4,5],\n",
    "               'min_samples_leaf': [10,20,30],\n",
    "               'min_weight_fraction_leaf': [0]}\n",
    "\n",
    "DT_clf = DecisionTreeClassifier(random_state=42)\n",
    "grid_search = GridSearchCV(DT_clf, param_grid, cv=3)\n",
    "\n",
    "grid_search.fit(x_train, y_train_galaxy)\n",
    "\n",
    "grid_search.best_params_"
   ]
  },
  {
   "cell_type": "markdown",
   "metadata": {},
   "source": [
    "### 3. KNN"
   ]
  },
  {
   "cell_type": "code",
   "execution_count": 109,
   "metadata": {},
   "outputs": [
    {
     "data": {
      "text/plain": [
       "{'leaf_size': 1, 'n_neighbors': 4, 'p': 1}"
      ]
     },
     "execution_count": 109,
     "metadata": {},
     "output_type": "execute_result"
    }
   ],
   "source": [
    "param_grid = {'n_neighbors': [4],\n",
    "               'p': [1],\n",
    "               'leaf_size': [1,2,3,4,5,6,7,8,9,10]}\n",
    "\n",
    "neigh = KNeighborsClassifier()\n",
    "grid_search = GridSearchCV(neigh, param_grid, cv=3)\n",
    "\n",
    "grid_search.fit(x_train, y_train_galaxy)\n",
    "\n",
    "grid_search.best_params_"
   ]
  },
  {
   "cell_type": "markdown",
   "metadata": {},
   "source": [
    "## Testing models on test set\n"
   ]
  },
  {
   "cell_type": "code",
   "execution_count": 86,
   "metadata": {},
   "outputs": [
    {
     "name": "stdout",
     "output_type": "stream",
     "text": [
      "FOR THE RANDOM FOREST CLASSIFIER\n",
      "\n",
      "[[ 4328   246]\n",
      " [  135 10001]]\n",
      "F1 score of the model 0.9813079527056862\n"
     ]
    }
   ],
   "source": [
    "# selected parameters off fine tuning above\n",
    "forest_clf = RandomForestClassifier(n_estimators=100, min_samples_split=70, min_samples_leaf=20,\n",
    "                                    min_weight_fraction_leaf=0, max_features=3, random_state=42)\n",
    "forest_clf.fit(x_train, y_train_galaxy)\n",
    "y_test_pred = forest_clf.predict(x_test)\n",
    "\n",
    "print(\"FOR THE RANDOM FOREST CLASSIFIER\\n\")\n",
    "print(confusion_matrix(y_test_galaxy, y_test_pred))\n",
    "print(\"F1 score of the model\", f1_score(y_test_galaxy, y_test_pred))"
   ]
  },
  {
   "cell_type": "code",
   "execution_count": 135,
   "metadata": {},
   "outputs": [
    {
     "name": "stdout",
     "output_type": "stream",
     "text": [
      "FOR THE DECISION TREE CLASSIFIER\n",
      "\n",
      "[[4316  258]\n",
      " [ 190 9946]]\n",
      "F1 score of the model 0.9779744346116028\n"
     ]
    }
   ],
   "source": [
    "# selected parameters off fine tuning above\n",
    "DT_clf = DecisionTreeClassifier(max_features=5, min_impurity_decrease=0,min_samples_leaf=20,\n",
    "                                min_weight_fraction_leaf=0, random_state=42)\n",
    "DT_clf.fit(x_train, y_train_galaxy)\n",
    "y_test_pred = DT_clf.predict(x_test)\n",
    "\n",
    "print(\"FOR THE DECISION TREE CLASSIFIER\\n\")\n",
    "print(confusion_matrix(y_test_galaxy, y_test_pred))\n",
    "print(\"F1 score of the model\", f1_score(y_test_galaxy, y_test_pred))"
   ]
  },
  {
   "cell_type": "code",
   "execution_count": 119,
   "metadata": {},
   "outputs": [
    {
     "name": "stdout",
     "output_type": "stream",
     "text": [
      "FOR THE KNN CLASSIFIER\n",
      "\n",
      "[[4196  378]\n",
      " [ 401 9735]]\n",
      "F1 score of the model 0.9615289643933033\n"
     ]
    }
   ],
   "source": [
    "# selected parameters off fine tuning above\n",
    "neigh = KNeighborsClassifier(n_neighbors=4,leaf_size=1, p=1)\n",
    "neigh.fit(x_train, y_train_galaxy)\n",
    "y_test_pred = neigh.predict(x_test)\n",
    "\n",
    "print(\"FOR THE KNN CLASSIFIER\\n\")\n",
    "print(confusion_matrix(y_test_galaxy, y_test_pred))\n",
    "print(\"F1 score of the model\", f1_score(y_test_galaxy, y_test_pred))"
   ]
  },
  {
   "cell_type": "markdown",
   "metadata": {},
   "source": [
    "### Detecting outliers where all models find false positives and false negatives\n",
    "\n",
    "IDEA: COULD CHECK THE FALSE POSITIVE AND FALSE NEGATIVE BETWEEN THE DIFFERENT MODELS TO SEE IF THEY COINCIDE + MAYBE DO SOMETHING ABOUT THEM -> OUTLIERS WE COULD IGNORE FOR REGRESSION???"
   ]
  },
  {
   "cell_type": "code",
   "execution_count": 141,
   "metadata": {},
   "outputs": [],
   "source": [
    "# Decision tree training set predictions\n",
    "DT_clf = RandomForestClassifier(max_features=5, min_impurity_decrease=0,min_samples_leaf=20,\n",
    "                                min_weight_fraction_leaf=0, random_state=42)\n",
    "y_train_pred_DT = cross_val_predict(DT_clf,x_train,y_train_galaxy,cv=3)"
   ]
  },
  {
   "cell_type": "code",
   "execution_count": 142,
   "metadata": {},
   "outputs": [],
   "source": [
    "# Random Forest training set predictions\n",
    "RF_clf = RandomForestClassifier(n_estimators=100, min_samples_split=70, min_samples_leaf=20,\n",
    "                                min_weight_fraction_leaf=0, max_features=3, random_state=42)\n",
    "y_train_pred_RF = cross_val_predict(RF_clf,x_train,y_train_galaxy,cv=3)"
   ]
  },
  {
   "cell_type": "code",
   "execution_count": 143,
   "metadata": {},
   "outputs": [],
   "source": [
    "# K-Nearest Neighbors training set predictions\n",
    "KNN_clf = KNeighborsClassifier(n_neighbors=4,leaf_size=1, p=1)\n",
    "y_train_pred_KNN = cross_val_predict(KNN_clf,x_train,y_train_galaxy,cv=3)"
   ]
  },
  {
   "cell_type": "code",
   "execution_count": 182,
   "metadata": {},
   "outputs": [
    {
     "data": {
      "text/plain": [
       "array([58920., 58891., 58495., 58357., 58185., 57741., 57551., 57425.,\n",
       "       57101., 57067., 56742., 56224., 56003., 55378., 55227., 55118.,\n",
       "       54807., 54805., 54533., 54460., 54451., 54439., 53785., 53683.,\n",
       "       53402., 53265., 53012., 52808., 52700., 52514., 51919., 51873.,\n",
       "       51855., 51768., 51588., 51393., 51383., 51356., 51172., 50916.,\n",
       "       50856., 50772., 50753., 50700., 50616., 50561., 50104., 49567.,\n",
       "       49304., 49276., 49270., 49220., 49076., 49018., 48882., 48792.,\n",
       "       48651., 48627., 48449., 48333., 48284., 48129., 48050., 47805.,\n",
       "       47360., 47311., 47307., 47215., 47202., 46747., 46699., 46582.,\n",
       "       46522., 46518., 46142., 46128., 45865., 45716., 45663., 45587.,\n",
       "       45390., 45121., 45007., 44623., 44239., 44234., 44037., 44015.,\n",
       "       43857., 43712., 43514., 43228., 42970., 42955., 42650., 42626.,\n",
       "       42523., 42357., 42221., 42200., 42083., 41977., 41938., 41650.,\n",
       "       41597., 41432., 41396., 41185., 41147., 41104., 40913., 40667.,\n",
       "       40656., 39980., 39865., 39713., 39657., 39594., 39472., 39296.,\n",
       "       38869., 38847., 38662., 38281., 38273., 38182., 38101., 37974.,\n",
       "       37718., 37452., 37215., 37012., 36474., 36421., 36045., 35958.,\n",
       "       35939., 35641., 35476., 35109., 34989., 34689., 34475., 34305.,\n",
       "       34191., 33991., 33818., 33733., 33658., 33411., 33295., 32888.,\n",
       "       32590., 32561., 32293., 32241., 31945., 31837., 31771., 31687.,\n",
       "       31415., 31364., 30880., 30819., 30694., 30389., 30221., 29983.,\n",
       "       29717., 29610., 29541., 29522., 29417., 29387., 29188., 29148.,\n",
       "       29140., 29132., 28898., 28776., 28623., 28538., 28499., 28334.,\n",
       "       28019., 27955., 27931., 27870., 27830., 27675., 27655., 27532.,\n",
       "       27362., 27355., 27331., 27137., 27033., 27001., 26913., 26463.,\n",
       "       26377., 26367., 26325., 26146., 25898., 25870., 25824., 25740.,\n",
       "       25730., 25659., 25567., 25210., 25051., 24979., 24861., 24859.,\n",
       "       24757., 24642., 24288., 24017., 24002., 23188., 23047., 22695.,\n",
       "       22387., 22327., 22075., 22040., 21663., 21623., 21585., 21269.,\n",
       "       21002., 20781., 20666., 20343., 20254., 20001., 19989., 19472.,\n",
       "       19446., 19257., 19190., 19139., 18871., 18705., 18445., 18050.,\n",
       "       17773., 17690., 17550., 17465., 17230., 17077., 16916., 16714.,\n",
       "       16616., 16572., 16127., 16073., 15988., 15822., 15661., 15293.,\n",
       "       15080., 15051., 14995., 14490., 14399., 14202., 13904., 13211.,\n",
       "       12717., 12644., 12584., 12396., 12335., 12266., 12214., 12171.,\n",
       "       12140., 12113., 12107., 12034., 11743., 11738., 11706., 11618.,\n",
       "       11437., 11121., 11080., 10637., 10599., 10396., 10118.,  9937.,\n",
       "        9857.,  9524.,  9317.,  9259.,  9202.,  9064.,  8800.,  8738.,\n",
       "        8619.,  8489.,  8462.,  8415.,  8388.,  8171.,  8092.,  7909.,\n",
       "        7905.,  7803.,  7678.,  7598.,  7364.,  6922.,  6530.,  6017.,\n",
       "        5914.,  5875.,  5808.,  5736.,  5289.,  5281.,  5215.,  4933.,\n",
       "        4873.,  4815.,  4755.,  4647.,  4365.,  4158.,  4149.,  4139.,\n",
       "        3784.,  3738.,  3466.,  3454.,  3306.,  3150.,  2887.,  2851.,\n",
       "        2507.,  2475.,  2385.,  2164.,  2123.,  1946.,  1941.,  1464.,\n",
       "        1393.,  1319.,  1233.,   886.,   558.,   503.])"
      ]
     },
     "execution_count": 182,
     "metadata": {},
     "output_type": "execute_result"
    }
   ],
   "source": [
    "FN_pred_outliers_indices = []\n",
    "FP_pred_outliers_indices = []\n",
    "\n",
    "for n in range(0,len(x_train)):\n",
    "    if y_train[n] == 'GALAXY':\n",
    "        if y_train_pred_KNN[n] == y_train_pred_RF[n] == y_train_pred_DT[n] == False:\n",
    "            FN_pred_outliers_indices = np.append(n, FN_pred_outliers_indices)\n",
    "        else:\n",
    "            pass\n",
    "    else:\n",
    "        if y_train_pred_KNN[n] == y_train_pred_RF[n] == y_train_pred_DT[n] == True:\n",
    "            FP_pred_outliers_indices = np.append(n, FP_pred_outliers_indices)\n",
    "        else:\n",
    "            pass"
   ]
  },
  {
   "cell_type": "code",
   "execution_count": null,
   "metadata": {},
   "outputs": [],
   "source": []
  }
 ],
 "metadata": {
  "kernelspec": {
   "display_name": "Python 3",
   "language": "python",
   "name": "python3"
  },
  "language_info": {
   "codemirror_mode": {
    "name": "ipython",
    "version": 3
   },
   "file_extension": ".py",
   "mimetype": "text/x-python",
   "name": "python",
   "nbconvert_exporter": "python",
   "pygments_lexer": "ipython3",
   "version": "3.7.4"
  }
 },
 "nbformat": 4,
 "nbformat_minor": 4
}

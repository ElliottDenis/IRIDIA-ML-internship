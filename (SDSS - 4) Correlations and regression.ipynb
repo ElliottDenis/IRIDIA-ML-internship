{
 "cells": [
  {
   "cell_type": "markdown",
   "metadata": {},
   "source": [
    "## Studying correlations and regression\n",
    "\n",
    "Could be interesting to study the correlation between filter and maybe an interesting regression problem could be to analyse if we can describe a filter as a function of the other filters! Could help solve the issue when you only have the data for some filters and want to extrapolate."
   ]
  },
  {
   "cell_type": "code",
   "execution_count": 11,
   "metadata": {},
   "outputs": [
    {
     "name": "stderr",
     "output_type": "stream",
     "text": [
      "C:\\Users\\ellio\\Anaconda3\\lib\\site-packages\\ipykernel_launcher.py:34: FutureWarning: \n",
      "Passing list-likes to .loc or [] with any missing label will raise\n",
      "KeyError in the future, you can use .reindex() as an alternative.\n",
      "\n",
      "See the documentation here:\n",
      "https://pandas.pydata.org/pandas-docs/stable/user_guide/indexing.html#deprecate-loc-reindex-listlike\n"
     ]
    }
   ],
   "source": [
    "import pandas as pd\n",
    "import numpy as np\n",
    "from sklearn.model_selection import StratifiedShuffleSplit\n",
    "\n",
    "def get_train_test():\n",
    "    # load\n",
    "    df = pd.read_csv(\"star_classification.csv\")\n",
    "    # remove outliers\n",
    "    # select the row with u or z or g below 0 (should not be allowed)\n",
    "    outliers = df[(df[\"u\"] <= 0)  \n",
    "                | (df[\"z\"] <= 0) \n",
    "                | (df[\"g\"] <= 0)]\n",
    "\n",
    "    # drop the row corresponding to the outlier\n",
    "    df = df.drop(outliers.index, axis=0)\n",
    "    # we drop the data we are not interested in and which won't be useful\n",
    "    df = df.drop(\n",
    "        columns=[\"obj_ID\", \"fiber_ID\", \"MJD\", \"plate\", \"spec_obj_ID\", \n",
    "                 \"field_ID\", \"cam_col\", \"rerun_ID\", \"run_ID\"], axis=1)\n",
    "    \n",
    "    # replace all infinite values with NaN\n",
    "    #df = df.replace([np.inf, -np.inf], np.nan)\n",
    "    #df = df.dropna(axis=0)\n",
    "    \n",
    "    # replace star class with 1s and others with 0\n",
    "    #df.loc[df['class'] == \"STAR\", 'class'] = 1\n",
    "    #df.loc[df['class'] != \"STAR\", 'class'] = 0\n",
    "    \n",
    "    # stratified split\n",
    "    split = StratifiedShuffleSplit(n_splits=1, test_size=0.2, random_state=42)\n",
    "    \n",
    "    for train_index, test_index in split.split(df, df[\"class\"]):\n",
    "        strat_train_set = df.loc[train_index]\n",
    "        strat_test_set = df.loc[test_index]\n",
    "        \n",
    "    return strat_train_set, strat_test_set, df\n",
    "\n",
    "train, test, df = get_train_test()\n",
    "train = train.reset_index(drop=True)\n",
    "\n",
    "# seperate measurements (x) with class(y)\n",
    "x_train = train.drop(columns=[\"class\"], axis=1)\n",
    "y_train = train[\"class\"]\n",
    "\n",
    "# replace all infinite values with NaN\n",
    "x_train = x_train.replace([np.inf, -np.inf], np.nan)\n",
    "y_train = y_train.replace([np.inf, -np.inf], np.nan)\n",
    "\n",
    "# drop all the rows with NaN\n",
    "x_train = x_train.dropna(axis=0)\n",
    "y_train = y_train.dropna(axis=0)"
   ]
  },
  {
   "cell_type": "code",
   "execution_count": 5,
   "metadata": {},
   "outputs": [
    {
     "data": {
      "text/plain": [
       "z           1.000000\n",
       "i           0.971546\n",
       "r           0.919114\n",
       "g           0.775302\n",
       "u           0.545760\n",
       "redshift    0.501060\n",
       "delta      -0.006286\n",
       "alpha      -0.025160\n",
       "Name: z, dtype: float64"
      ]
     },
     "execution_count": 5,
     "metadata": {},
     "output_type": "execute_result"
    }
   ],
   "source": [
    "# finding the correlation matrix for our dataset\n",
    "corr_matrix = df.corr()\n",
    "# Check correlation of z filter with the rest\n",
    "corr_matrix[\"z\"].sort_values(ascending=False)"
   ]
  },
  {
   "cell_type": "code",
   "execution_count": 6,
   "metadata": {},
   "outputs": [],
   "source": [
    "from pandas.plotting import scatter_matrix\n",
    "\n",
    "# selection of important attributes\n",
    "attributes = [\"z\", \"i\", \"r\",\n",
    "              \"g\", \"u\", \"redshift\"]\n",
    "# output plots of each correlation (6x6 = 36 subplots -> each attribute with one another)\n",
    "scatter_matrix(df[attributes], figsize=(12, 8));"
   ]
  },
  {
   "cell_type": "markdown",
   "metadata": {},
   "source": [
    "Notice correlations between all filters but **strong** correlations between z and i, i and r, r and g. We also notice that redshift remains an important attribute and has a relatively strong correlation as is to be expected, with increasing resdshift, we have increasing distance which affects the intensity in filters. As expected as well, increasing redshift shifts the light coming from an object more towards red colours so we expect a bigger correlation with \"z\"(far infrared), \"i\" (infrared) and \"r\" (red)."
   ]
  },
  {
   "cell_type": "code",
   "execution_count": 7,
   "metadata": {},
   "outputs": [
    {
     "name": "stdout",
     "output_type": "stream",
     "text": [
      "Strong correlations between:\n",
      " z and i: 0.972 \n",
      " i and r: 0.963 \n",
      " r and g: 0.933\n"
     ]
    }
   ],
   "source": [
    "print(\"Strong correlations between:\"\n",
    "      f\"\\n z and i: {corr_matrix['z']['i']:.3f}\", \n",
    "      f\"\\n i and r: {corr_matrix['i']['r']:.3f}\", \n",
    "      f\"\\n r and g: {corr_matrix['r']['g']:.3f}\")"
   ]
  },
  {
   "cell_type": "code",
   "execution_count": 8,
   "metadata": {},
   "outputs": [
    {
     "name": "stdout",
     "output_type": "stream",
     "text": [
      "Increasing correlations for redshift and filters with increasing wavelength:\n",
      " u: 0.167 \n",
      " g: 0.319 \n",
      " r: 0.433 \n",
      " i: 0.492 \n",
      " z: 0.501\n"
     ]
    }
   ],
   "source": [
    "print(\"Increasing correlations for redshift and filters with increasing wavelength:\" \n",
    "      \"\\n u: {:.3f}\".format(corr_matrix[\"redshift\"][\"u\"]), \n",
    "      \"\\n g: {:.3f}\".format(corr_matrix[\"redshift\"][\"g\"]),\n",
    "      \"\\n r: {:.3f}\".format(corr_matrix[\"redshift\"][\"r\"]), \n",
    "      \"\\n i: {:.3f}\".format(corr_matrix[\"redshift\"][\"i\"]), \n",
    "      \"\\n z: {:.3f}\".format(corr_matrix[\"redshift\"][\"z\"]))"
   ]
  },
  {
   "cell_type": "code",
   "execution_count": 13,
   "metadata": {},
   "outputs": [
    {
     "data": {
      "image/png": "[encoded data removed]",
      "text/plain": [
       "<Figure size 432x288 with 1 Axes>"
      ]
     },
     "metadata": {
      "needs_background": "light"
     },
     "output_type": "display_data"
    }
   ],
   "source": [
    "# relation with strongest correlation: z and i filters\n",
    "import matplotlib.pyplot as plt\n",
    "df.plot(kind=\"scatter\", x=\"z\", y=\"i\", alpha=0.05)\n",
    "plt.grid();"
   ]
  },
  {
   "cell_type": "code",
   "execution_count": null,
   "metadata": {},
   "outputs": [],
   "source": []
  }
 ],
 "metadata": {
  "kernelspec": {
   "display_name": "Python 3",
   "language": "python",
   "name": "python3"
  },
  "language_info": {
   "codemirror_mode": {
    "name": "ipython",
    "version": 3
   },
   "file_extension": ".py",
   "mimetype": "text/x-python",
   "name": "python",
   "nbconvert_exporter": "python",
   "pygments_lexer": "ipython3",
   "version": "3.7.4"
  }
 },
 "nbformat": 4,
 "nbformat_minor": 2
}

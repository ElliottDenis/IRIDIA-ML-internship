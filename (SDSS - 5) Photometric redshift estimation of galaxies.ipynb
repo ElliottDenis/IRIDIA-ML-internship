{
 "cells": [
  {
   "cell_type": "markdown",
   "metadata": {},
   "source": [
    "The data consists of 100,000 observations of space taken by the SDSS (Sloan Digital Sky Survey). Every observation is described by 17 feature columns and 1 class column which identifies it to be either a star, galaxy or quasar. (dataset reference: https://www.kaggle.com/datasets/fedesoriano/stellar-classification-dataset-sdss17?datasetId=1866141&sortBy=voteCount)\n",
    "\n",
    "Data taken from 17th data release (https://arxiv.org/abs/2112.02026) which can be found here: https://www.sdss.org/science/image-gallery/, as opposed to 12th data relsease of reference article below (https://academic.oup.com/mnras/article/505/4/4847/6288434?login=true)\n",
    "\n",
    "Notice a much stronger correlation with redshift when compared to the other two types of objects! Might be due to more data points from further galaxies which contribute to the detection of this correlation (stars can't be detected as far as galaxies nor quasars).\n",
    "\n",
    "Potentially using data from i and r (g and z) find the redshift? Given a galaxy?\n",
    "\n",
    "Use redshift as y-value to be fitted! -> new jupyter notebook (SDSS - 5) Galaxies regression of the redshift using r and i filters.\n",
    "\n",
    "example here: https://iopscience.iop.org/article/10.1088/0004-637X/692/1/L5/meta\n",
    "\n",
    "here in the case of cosmology: https://iopscience.iop.org/article/10.1088/0004-637X/813/1/53/meta\n",
    "\n",
    "reference article for method: https://academic.oup.com/mnras/article/505/4/4847/6288434?login=true\n",
    "\n",
    "- data used in that paper: https://www.sdss.org/dr12/\n",
    "\n",
    "REFERENCE ARTICLE ECRIT PAR PHD STUDENT (https://www.ucl.ac.uk/astrophysics/ben-henghes-phd-student) DE UCL SOUS SUPERVISION DE OFER LAHAV!!!!!!!!!!!!!\n",
    "\n",
    "POTENTIELLEMENT IDEES DE MEMOIRES QU'IL NA PAS LE TEMPS DE FAIRE SUR LEQUEL JE POURRAIS TRAVAILLER??? DATASETS AVAILABLE???\n",
    "-> email pour demander **how did you access dataset??**\n",
    "\n",
    "https://www.nature.com/articles/s41592-021-01205-4 page 2 as to what to include in paper!!\n",
    "\n",
    "**https://arxiv.org/pdf/2112.07811.pdf binary classifier to find outliers**\n",
    "\n",
    "https://www.connectedpapers.com/main/5b32c3a101686b7fa3148fb7be32213d332112eb/Benchmarking-and-scalability-of-machine%20learning-methods-for-photometric-redshift-estimation/graph connected papers!\n",
    "\n",
    "Three ways to optimise hyperparameters: https://towardsdatascience.com/grid-search-vs-random-search-vs-bayesian-optimization-2e68f57c3c46\n",
    "\n",
    "------------------\n",
    "\n",
    "Try to connect raspberry pi and make the code run on it (SSH connection)\n",
    "\n",
    "------------------\n",
    "\n",
    "could be interesting to look at processing time + varying the boundary redshift value and see how the predictive power changes!!"
   ]
  },
  {
   "cell_type": "code",
   "execution_count": 1,
   "metadata": {},
   "outputs": [],
   "source": [
    "import pandas as pd\n",
    "import numpy as np\n",
    "from sklearn.model_selection import StratifiedShuffleSplit\n",
    "from sklearn.svm import SVC\n",
    "import random\n",
    "from sklearn.model_selection import cross_val_score\n",
    "from sklearn.preprocessing import StandardScaler\n",
    "from sklearn.linear_model import SGDClassifier\n",
    "from sklearn.model_selection import cross_val_score\n",
    "from sklearn.preprocessing import StandardScaler\n",
    "from sklearn.ensemble import RandomForestClassifier\n",
    "from sklearn.model_selection import cross_val_predict\n",
    "from sklearn.metrics import confusion_matrix\n",
    "import matplotlib as mpl\n",
    "import matplotlib.pyplot as plt\n",
    "import seaborn as sns\n",
    "from pandas.plotting import scatter_matrix\n",
    "from sklearn.metrics import mean_squared_error\n",
    "from sklearn.linear_model import LinearRegression\n",
    "from sklearn.tree import DecisionTreeRegressor\n",
    "from sklearn.ensemble import RandomForestRegressor\n",
    "from sklearn.model_selection import GridSearchCV\n",
    "from sklearn.model_selection import RandomizedSearchCV\n",
    "import warnings\n",
    "warnings.simplefilter(action='ignore', category=FutureWarning)\n",
    "import time"
   ]
  },
  {
   "cell_type": "code",
   "execution_count": 2,
   "metadata": {},
   "outputs": [],
   "source": [
    "def get_train_test_init():\n",
    "    # load\n",
    "    df = pd.read_csv(\"star_classification.csv\")\n",
    "    # remove outliers\n",
    "    # select the row with u or z or g below 0 (should not be allowed)\n",
    "    outliers = df[(df[\"u\"] <= 0)  \n",
    "                | (df[\"z\"] <= 0) \n",
    "                | (df[\"g\"] <= 0)\n",
    "                | (df[\"redshift\"] <= 0)]\n",
    "                # GREAT improvement in predicting power when removing the >1 redshifts\n",
    "                #| (df[\"redshift\"] > 1)\n",
    "\n",
    "    # drop the row corresponding to the outlier\n",
    "    df = df.drop(outliers.index, axis=0)\n",
    "    \n",
    "    # WE ONLY DEAL WITH GALAXIES HERE (see SDSS - 4 for correlations)\n",
    "    df = df[df[\"class\"] == \"GALAXY\"]\n",
    "    \n",
    "    # we drop the data we are not interested in and which won't be useful\n",
    "    # expect isotropic universe -> could also drop position in sky\n",
    "    df = df.drop(\n",
    "        columns=[\"alpha\", \"delta\", \"obj_ID\", \"fiber_ID\", \"MJD\", \"plate\", \"spec_obj_ID\", \n",
    "                 \"field_ID\", \"cam_col\", \"rerun_ID\", \"run_ID\", \"class\"], axis=1)\n",
    "    \n",
    "    df = df.replace([np.inf, -np.inf], np.nan)\n",
    "    df = df.dropna(axis=0)\n",
    "        \n",
    "    return df\n",
    "\n",
    "# only keeps filters and redshift\n",
    "df = get_train_test_init()\n",
    "\n",
    "df = df.reset_index(drop = True)\n",
    "\n",
    "df[\"redshift_cat\"] = pd.cut(df[\"redshift\"],\n",
    "                            bins=[0., 0.15, 0.45, 0.6, 0.8, np.inf],\n",
    "                            labels=[1, 2, 3, 4, 5])\n",
    "\n",
    "# stratified split\n",
    "split = StratifiedShuffleSplit(n_splits=1, test_size=0.2, random_state=42)\n",
    "    \n",
    "for train_index, test_index in split.split(df, df[\"redshift_cat\"]):\n",
    "    strat_train_set = df.loc[train_index]\n",
    "    strat_test_set = df.loc[test_index]\n",
    "    \n",
    "# remove redshift category column\n",
    "for set_ in (strat_train_set, strat_test_set):\n",
    "    set_.drop(\"redshift_cat\", axis=1, inplace=True)\n",
    "\n",
    "x_train = strat_train_set.drop(\"redshift\", axis=1)\n",
    "x_train = x_train.reset_index(drop = True)\n",
    "x_test = strat_test_set.drop(\"redshift\", axis=1)\n",
    "x_test = x_test.reset_index(drop = True)\n",
    "\n",
    "y_train = strat_train_set[\"redshift\"]\n",
    "y_train = y_train.reset_index(drop = True)\n",
    "y_test = strat_test_set[\"redshift\"]\n",
    "y_test = y_test.reset_index(drop = True)"
   ]
  },
  {
   "cell_type": "code",
   "execution_count": 3,
   "metadata": {},
   "outputs": [],
   "source": [
    "def model_crossval_errors(model, cv, enable_scaler=True):\n",
    "    if enable_scaler:\n",
    "        scaler = StandardScaler()\n",
    "        x_train_scaled = scaler.fit_transform(x_train.astype(np.float64))\n",
    "        x_test_scaled = scaler.fit_transform(x_test.astype(np.float64))\n",
    "\n",
    "        scores = cross_val_score(model, x_train_scaled, y_train,\n",
    "                             scoring=\"neg_mean_squared_error\", cv=cv)\n",
    "        rmse_scores = np.sqrt(-scores)\n",
    "        \n",
    "    else:\n",
    "        scores = cross_val_score(model, x_train, y_train,\n",
    "                             scoring=\"neg_mean_squared_error\", cv=cv)\n",
    "        rmse_scores = np.sqrt(-scores)\n",
    "\n",
    "    return rmse_scores.mean(), rmse_scores.std();\n",
    "\n",
    "def model_fit_test(model, x):\n",
    "    if x==\"scale\":\n",
    "        scaler = StandardScaler()\n",
    "        x_train_scaled = scaler.fit_transform(x_train.astype(np.float64))\n",
    "        x_test_scaled = scaler.fit_transform(x_test.astype(np.float64))\n",
    "\n",
    "        model.fit(x_train_scaled, y_train)\n",
    "        x_test_scaled_pred = model.predict(x_test_scaled)\n",
    "        test_mse = mean_squared_error(y_test, x_test_scaled_pred)\n",
    "        test_rmse = np.sqrt(test_mse)\n",
    "    else:\n",
    "        model.fit(x_train, y_train)\n",
    "        x_test_pred = model.predict(x_test)\n",
    "        test_mse = mean_squared_error(y_test, x_test_pred)\n",
    "        test_rmse = np.sqrt(test_mse)\n",
    "    \n",
    "    return test_rmse;"
   ]
  },
  {
   "cell_type": "markdown",
   "metadata": {},
   "source": [
    "## 1. Linear Regression"
   ]
  },
  {
   "cell_type": "code",
   "execution_count": 5,
   "metadata": {
    "collapsed": true,
    "jupyter": {
     "outputs_hidden": true
    }
   },
   "outputs": [
    {
     "name": "stdout",
     "output_type": "stream",
     "text": [
      "RMSE on test set using Linear Regression: 0.13462578543883852\n",
      "\n",
      "Average cross-validation RMSE using Linear Regression: 0.13097669670145676 \n",
      "with standard deviation: 0.0025965434982090545\n"
     ]
    }
   ],
   "source": [
    "LR_test_rmse = model_fit_test(LinearRegression())\n",
    "print(\"RMSE on test set using Linear Regression:\", LR_test_rmse)\n",
    "# (if using also using redshifts greater than 1!) outputs: 0.13199335248802463\n",
    "\n",
    "LR_crossval_mean, LR_crossval_std = model_crossval_errors(LinearRegression(), 10)\n",
    "print(\"\\nAverage cross-validation RMSE using Linear Regression:\", LR_crossval_mean,\n",
    "     \"\\nwith standard deviation:\", LR_crossval_std)\n",
    "# (if using also using redshifts greater than 1!) outputs: Mean: 0.131637168966496 and Standard deviation: 0.003987750317217345"
   ]
  },
  {
   "cell_type": "markdown",
   "metadata": {},
   "source": [
    "## 2. Decision Tree Regressor"
   ]
  },
  {
   "cell_type": "code",
   "execution_count": 41,
   "metadata": {},
   "outputs": [
    {
     "name": "stdout",
     "output_type": "stream",
     "text": [
      "RMSE on test set using Decision Tree Regressor: 0.15422646430213435\n",
      "\n",
      "Average cross-validation RMSE using Decision Tree Regressor: 0.14851190651564483 \n",
      "with standard deviation: 0.005341169006374151\n"
     ]
    }
   ],
   "source": [
    "DT_test_rmse = model_fit_test(DecisionTreeRegressor(), False)\n",
    "print(\"RMSE on test set using Decision Tree Regressor:\", DT_test_rmse)\n",
    "# (if using also using redshifts greater than 1!) outputs: 0.1551177423918345\n",
    "\n",
    "DT_crossval_mean, DT_crossval_std = model_crossval_errors(DecisionTreeRegressor(), 10, False)\n",
    "print(\"\\nAverage cross-validation RMSE using Decision Tree Regressor:\", DT_crossval_mean,\n",
    "     \"\\nwith standard deviation:\", DT_crossval_std)\n",
    "# (if using also using redshifts greater than 1!) outputs: Mean: 0.15521002059552677 and Standard deviation: 0.004483723632878179"
   ]
  },
  {
   "cell_type": "markdown",
   "metadata": {},
   "source": [
    "## 3. Random Forest Regressor"
   ]
  },
  {
   "cell_type": "code",
   "execution_count": 31,
   "metadata": {},
   "outputs": [
    {
     "name": "stdout",
     "output_type": "stream",
     "text": [
      "RMSE on test set using Random Forest Regressor: 0.09060036181093617\n",
      "Average cross-validation RMSE using Random Forest Regressor: 0.09036578659781644 \n",
      "with standard deviation: 0.0037866462249148193\n"
     ]
    }
   ],
   "source": [
    "RF_test_rmse = model_fit_test(RandomForestRegressor(), False)\n",
    "print(\"RMSE on test set using Random Forest Regressor:\", RF_test_rmse)\n",
    "# (if using also using redshifts greater than 1!) outputs: 0.11546493414941233\n",
    "\n",
    "RF_crossval_mean, RF_crossval_std = model_crossval_errors(RandomForestRegressor(), 10, False)\n",
    "print(\"Average cross-validation RMSE using Random Forest Regressor:\", RF_crossval_mean,\n",
    "     \"\\nwith standard deviation:\", RF_crossval_std)\n",
    "# (if using also using redshifts greater than 1!) outputs: Mean: 0.11513129222451428 and Standard deviation: 0.0048830191850681316"
   ]
  },
  {
   "cell_type": "markdown",
   "metadata": {},
   "source": [
    "### 3. Random Forest A. Scaling inputs"
   ]
  },
  {
   "cell_type": "code",
   "execution_count": 32,
   "metadata": {
    "collapsed": true,
    "jupyter": {
     "outputs_hidden": true
    }
   },
   "outputs": [
    {
     "name": "stdout",
     "output_type": "stream",
     "text": [
      "RMSE on test set using Random Forest Regressor (AND SCALED INPUTS): 0.09094410408883907\n",
      "Average cross-validation RMSE using Random Forest Regressor: 0.09009499105179483 \n",
      "with standard deviation: 0.003514468386256524\n"
     ]
    }
   ],
   "source": [
    "RF_test_rmse = model_fit_test(RandomForestRegressor())\n",
    "print(\"RMSE on test set using Random Forest Regressor (AND SCALED INPUTS):\", RF_test_rmse)\n",
    "# (if using also using redshifts greater than 1!) outputs: 0.11546493414941233\n",
    "\n",
    "RF_crossval_mean, RF_crossval_std = model_crossval_errors(RandomForestRegressor(), 10)\n",
    "print(\"Average cross-validation RMSE using Random Forest Regressor:\", RF_crossval_mean,\n",
    "     \"\\nwith standard deviation:\", RF_crossval_std)\n",
    "# (if using also using redshifts greater than 1!) outputs: Mean: 0.11513129222451428 and Standard deviation: 0.0048830191850681316"
   ]
  },
  {
   "cell_type": "markdown",
   "metadata": {},
   "source": [
    "Very slight improvement but bigger standard deviation. We would still have the tendency to take the scaled inputs.\n",
    "\n",
    "### 3. Random Forest B. Optimising hyperparameters\n",
    "\n",
    "Running multiple times, itially got best params: max_features = 2 and n_estimators = 30 (which was the max value) and trying th grid search multiple times, we reached: max_features = 2 and n_estimators = 135"
   ]
  },
  {
   "cell_type": "code",
   "execution_count": 29,
   "metadata": {
    "scrolled": true
   },
   "outputs": [
    {
     "data": {
      "text/plain": [
       "<ErrorbarContainer object of 3 artists>"
      ]
     },
     "execution_count": 29,
     "metadata": {},
     "output_type": "execute_result"
    },
    {
     "data": {
      "image/png": "[encoded data removed]",
      "text/plain": [
       "<Figure size 432x288 with 1 Axes>"
      ]
     },
     "metadata": {
      "needs_background": "light"
     },
     "output_type": "display_data"
    }
   ],
   "source": [
    "# USING SCALED VALUES\n",
    "n_est = np.array([5, 10, 15, 20, 25, 30, 40, 50, 75, 100, 125, 150])\n",
    "RF_crossval_rmse_mean = []\n",
    "RF_crossval_rmse_std = []\n",
    "for n in n_est:\n",
    "    mean, std = model_crossval_errors(RandomForestRegressor(max_features = 2, n_estimators = n), \n",
    "                                      10, \"scale\")\n",
    "\n",
    "    RF_crossval_rmse_mean = np.append(RF_crossval_rmse_mean, mean)\n",
    "    RF_crossval_rmse_std = np.append(RF_crossval_rmse_std, std)\n",
    "    \n",
    "plt.errorbar(n_est, RF_crossval_rmse_mean, yerr = RF_crossval_rmse_std, fmt='.')"
   ]
  },
  {
   "cell_type": "code",
   "execution_count": 30,
   "metadata": {},
   "outputs": [
    {
     "data": {
      "text/plain": [
       "<ErrorbarContainer object of 3 artists>"
      ]
     },
     "execution_count": 30,
     "metadata": {},
     "output_type": "execute_result"
    },
    {
     "data": {
      "image/png": "[encoded data removed]",
      "text/plain": [
       "<Figure size 432x288 with 1 Axes>"
      ]
     },
     "metadata": {
      "needs_background": "light"
     },
     "output_type": "display_data"
    }
   ],
   "source": [
    "# USING SCALED VALUES\n",
    "max_feat = np.array([1,2,3,4,5])\n",
    "RF_crossval_rmse_mean = []\n",
    "RF_crossval_rmse_std = []\n",
    "for n in max_feat:\n",
    "    mean, std = model_crossval_errors(RandomForestRegressor(max_features = n, n_estimators = 50), \n",
    "                                      10, \"scale\")\n",
    "\n",
    "    RF_crossval_rmse_mean = np.append(RF_crossval_rmse_mean, mean)\n",
    "    RF_crossval_rmse_std = np.append(RF_crossval_rmse_std, std)\n",
    "    \n",
    "plt.errorbar(max_feat, RF_crossval_rmse_mean, yerr = RF_crossval_rmse_std, fmt='.')"
   ]
  },
  {
   "cell_type": "markdown",
   "metadata": {},
   "source": [
    "On the scale of the standard deviations, the error from n_estimators = 50 is very close to the error from the larger n_estimators values. We will be choosing this value of n_estimators = 50 in the future to limit the number of steps and decrease processing time while having a fine-tuned model.\n",
    "\n",
    "### 3. Random Forest C. Importance of the different filters"
   ]
  },
  {
   "cell_type": "raw",
   "metadata": {
    "jupyter": {
     "source_hidden": true
    }
   },
   "source": [
    "# using max_features=2 and n_estimators=135\n",
    "feature_importances = grid_search.best_estimator_.feature_importances_\n",
    "feature_importances\n",
    "\n",
    "#in the order of the data frame: [\"u\", \"g\", \"r\", \"i\", \"z\"]\n",
    "# outputs: array([0.05477891, 0.32373483, 0.30416697, 0.22426235, 0.09305694])"
   ]
  },
  {
   "cell_type": "code",
   "execution_count": 109,
   "metadata": {
    "collapsed": true,
    "jupyter": {
     "outputs_hidden": true,
     "source_hidden": true
    }
   },
   "outputs": [
    {
     "data": {
      "image/png": "[encoded data removed]",
      "text/plain": [
       "<Figure size 432x288 with 1 Axes>"
      ]
     },
     "metadata": {
      "needs_background": "light"
     },
     "output_type": "display_data"
    }
   ],
   "source": [
    "sorted_indices = np.argsort(feature_importances)[::-1]\n",
    "feature_importances = np.array([0.05477891, 0.32373483, 0.30416697, 0.22426235, 0.09305694])\n",
    "plt.title('Feature Importance')\n",
    "plt.bar(range(x_train.shape[1]), feature_importances[sorted_indices], align='center')\n",
    "plt.xticks(range(x_train.shape[1]), x_train.columns[sorted_indices], rotation=90)\n",
    "plt.tight_layout()\n",
    "plt.show()"
   ]
  },
  {
   "cell_type": "markdown",
   "metadata": {},
   "source": [
    "### 3. Random Forest D. Error on test set using optimised hyperparameters + scaled values"
   ]
  },
  {
   "cell_type": "code",
   "execution_count": 33,
   "metadata": {
    "collapsed": true,
    "jupyter": {
     "outputs_hidden": true,
     "source_hidden": true
    }
   },
   "outputs": [
    {
     "data": {
      "text/plain": [
       "0.0857859326911048"
      ]
     },
     "execution_count": 33,
     "metadata": {},
     "output_type": "execute_result"
    }
   ],
   "source": [
    "forest_rmse = model_fit_test(RandomForestRegressor(n_estimators = 50, max_features = 2), \"scale\")\n",
    "forest_rmse\n",
    "# (if using also using redshifts greater than 1!) outputs: 0.10909024849551448"
   ]
  },
  {
   "cell_type": "code",
   "execution_count": 36,
   "metadata": {
    "collapsed": true,
    "jupyter": {
     "outputs_hidden": true,
     "source_hidden": true
    }
   },
   "outputs": [
    {
     "name": "stdout",
     "output_type": "stream",
     "text": [
      "--- 11.53753137588501 seconds ---\n"
     ]
    },
    {
     "data": {
      "text/plain": [
       "0.08584739643450044"
      ]
     },
     "execution_count": 36,
     "metadata": {},
     "output_type": "execute_result"
    }
   ],
   "source": [
    "start_time = time.time()\n",
    "forest_rmse = model_fit_test(RandomForestRegressor(n_estimators = 100, max_features = 2), \"scale\")\n",
    "print(\"--- %s seconds ---\" % (time.time() - start_time))\n",
    "forest_rmse"
   ]
  },
  {
   "cell_type": "markdown",
   "metadata": {},
   "source": [
    "### 3. Random Forest E. Attempting to vary redshift (and minimum magnitude)"
   ]
  },
  {
   "cell_type": "code",
   "execution_count": 7,
   "metadata": {
    "collapsed": true,
    "jupyter": {
     "outputs_hidden": true,
     "source_hidden": true
    }
   },
   "outputs": [
    {
     "data": {
      "text/plain": [
       "<ErrorbarContainer object of 3 artists>"
      ]
     },
     "execution_count": 7,
     "metadata": {},
     "output_type": "execute_result"
    },
    {
     "data": {
      "image/png": "[encoded data removed]",
      "text/plain": [
       "<Figure size 432x288 with 1 Axes>"
      ]
     },
     "metadata": {
      "needs_background": "light"
     },
     "output_type": "display_data"
    }
   ],
   "source": [
    "def model_crossval_errors(model, cv, x):\n",
    "    if x==\"scale\":\n",
    "        scaler = StandardScaler()\n",
    "        x_train_scaled = scaler.fit_transform(x_train.astype(np.float64))\n",
    "        x_test_scaled = scaler.fit_transform(x_test.astype(np.float64))\n",
    "\n",
    "        scores = cross_val_score(model, x_train_scaled, y_train,\n",
    "                             scoring=\"neg_mean_squared_error\", cv=cv)\n",
    "        rmse_scores = np.sqrt(-scores)\n",
    "        \n",
    "    else:\n",
    "        scores = cross_val_score(model, x_train, y_train,\n",
    "                             scoring=\"neg_mean_squared_error\", cv=cv)\n",
    "        rmse_scores = np.sqrt(-scores)\n",
    "\n",
    "    return rmse_scores.mean(), rmse_scores.std();\n",
    "\n",
    "redshift_values = [0.1, 0.2, 0.3, 0.4, 0.5, 0.6, 0.7, 0.8, 0.9, 1.0, 1.2, 1.4, 1.6, 1.8, 2.0]\n",
    "# just the maximum r value for now\n",
    "r_values = [30]\n",
    "RF_crossval_rmse_mean = []\n",
    "RF_crossval_rmse_std = []\n",
    "\n",
    "for max_redshift in redshift_values:\n",
    "    for max_r in r_values:\n",
    "        \n",
    "        def get_train_test(max_redshift, max_r):\n",
    "            # load\n",
    "            df = pd.read_csv(\"star_classification.csv\")\n",
    "            # remove outliers\n",
    "            # select the row with u or z or g below 0 (should not be allowed)\n",
    "            outliers = df[(df[\"u\"] <= 0)  \n",
    "                        | (df[\"z\"] <= 0) \n",
    "                        | (df[\"g\"] <= 0)\n",
    "                        | (df[\"redshift\"] <= 0)\n",
    "                        # GREAT improvement in predicting power when removing the >1 redshifts\n",
    "                        | (df[\"redshift\"] > max_redshift)\n",
    "                        | (df[\"r\"] > max_r)]\n",
    "\n",
    "            # drop the row corresponding to the outlier\n",
    "            df = df.drop(outliers.index, axis=0)\n",
    "\n",
    "            # WE ONLY DEAL WITH GALAXIES HERE (see SDSS - 4 for correlations)\n",
    "            df = df[df[\"class\"] == \"GALAXY\"]\n",
    "\n",
    "            # we drop the data we are not interested in and which won't be useful\n",
    "            # expect isotropic universe -> could also drop position in sky\n",
    "            df = df.drop(\n",
    "                columns=[\"alpha\", \"delta\", \"obj_ID\", \"fiber_ID\", \"MJD\", \"plate\", \"spec_obj_ID\", \n",
    "                         \"field_ID\", \"cam_col\", \"rerun_ID\", \"run_ID\", \"class\"], axis=1)\n",
    "\n",
    "            df = df.replace([np.inf, -np.inf], np.nan)\n",
    "            df = df.dropna(axis=0)\n",
    "\n",
    "            return df\n",
    "       \n",
    "        df = get_train_test(max_redshift, max_r)\n",
    "        df = df.reset_index(drop = True)\n",
    "\n",
    "        redshift_cat_bins = np.linspace(0, max_redshift, 11)\n",
    "        df[\"redshift_cat\"] = pd.cut(df[\"redshift\"],\n",
    "                                    bins=redshift_cat_bins,\n",
    "                                    labels=[1, 2, 3, 4, 5, 6, 7, 8, 9, 10])\n",
    "                                    # if only if redshift smaller than 1!\n",
    "                                    #bins=[0., 0.2, 0.4, 0.6, 0.8, 1.0],\n",
    "                                    #labels=[1, 2, 3, 4, 5])\n",
    "\n",
    "\n",
    "        # stratified split\n",
    "        split = StratifiedShuffleSplit(n_splits=1, test_size=0.2, random_state=42)\n",
    "\n",
    "        for train_index, test_index in split.split(df, df[\"redshift_cat\"]):\n",
    "            strat_train_set = df.loc[train_index]\n",
    "            strat_test_set = df.loc[test_index]\n",
    "\n",
    "        # remove redshift category column\n",
    "        for set_ in (strat_train_set, strat_test_set):\n",
    "            set_.drop(\"redshift_cat\", axis=1, inplace=True)\n",
    "\n",
    "        x_train = strat_train_set.drop(\"redshift\", axis=1)\n",
    "        x_train = x_train.reset_index(drop = True)\n",
    "        x_test = strat_test_set.drop(\"redshift\", axis=1)\n",
    "        x_test = x_test.reset_index(drop = True)\n",
    "\n",
    "        y_train = strat_train_set[\"redshift\"]\n",
    "        y_train = y_train.reset_index(drop = True)\n",
    "        y_test = strat_test_set[\"redshift\"]\n",
    "        y_test = y_test.reset_index(drop = True)\n",
    "        \n",
    "        mean, std = model_crossval_errors(RandomForestRegressor(max_features = 2, n_estimators = 50), 2, \"scale\")\n",
    "        RF_crossval_rmse_mean = np.append(RF_crossval_rmse_mean, mean)\n",
    "        RF_crossval_rmse_std = np.append(RF_crossval_rmse_std, std)\n",
    "        \n",
    "plt.errorbar(redshift_values, RF_crossval_rmse_mean, yerr = RF_crossval_rmse_std, fmt='.')"
   ]
  },
  {
   "cell_type": "markdown",
   "metadata": {},
   "source": [
    "<font color='red'>\n",
    "Things to do:\n",
    " \n",
    "1. random parameter search sur RF et comparer avec article\n",
    "   \n",
    "2. si differents, comparer les deux modeles sur mon dataset (voir si bonne generalisation sur DR17)\n",
    "    \n",
    "3. essayer peut-etre de manuellement (force brute) trouver parametres ideaux\n",
    "    \n",
    "4. similarily, essayer d'acceder DR12 et voir ma generalisation sur le dataset\n",
    "</font>\n",
    "\n",
    "### 3. Random Forest F. Random Hyperparameters Search "
   ]
  },
  {
   "cell_type": "code",
   "execution_count": 36,
   "metadata": {},
   "outputs": [
    {
     "data": {
      "text/plain": [
       "RandomizedSearchCV(cv=5, error_score='raise-deprecating',\n",
       "                   estimator=RandomForestRegressor(bootstrap=True,\n",
       "                                                   criterion='mse',\n",
       "                                                   max_depth=None,\n",
       "                                                   max_features='auto',\n",
       "                                                   max_leaf_nodes=None,\n",
       "                                                   min_impurity_decrease=0.0,\n",
       "                                                   min_impurity_split=None,\n",
       "                                                   min_samples_leaf=1,\n",
       "                                                   min_samples_split=2,\n",
       "                                                   min_weight_fraction_leaf=0.0,\n",
       "                                                   n_estimators='warn',\n",
       "                                                   n_jobs=None, oob_score=False,\n",
       "                                                   random_sta...\n",
       "       131, 132, 133, 134, 135, 136, 137, 138, 139, 140, 141, 142, 143,\n",
       "       144, 145, 146, 147, 148, 149, 150, 151, 152, 153, 154, 155, 156,\n",
       "       157, 158, 159, 160, 161, 162, 163, 164, 165, 166, 167, 168, 169,\n",
       "       170, 171, 172, 173, 174, 175, 176, 177, 178, 179, 180, 181, 182,\n",
       "       183, 184, 185, 186, 187, 188, 189, 190, 191, 192, 193, 194, 195,\n",
       "       196, 197, 198, 199, 200])},\n",
       "                   pre_dispatch='2*n_jobs', random_state=None, refit=True,\n",
       "                   return_train_score=False, scoring=None, verbose=0)"
      ]
     },
     "execution_count": 36,
     "metadata": {},
     "output_type": "execute_result"
    }
   ],
   "source": [
    "param_grid = {'n_estimators': np.linspace(1,200,200).astype(int), \n",
    "               'max_features': np.linspace(1,5,5).astype(int),\n",
    "               #'criterion': ['mse', 'mae'],\n",
    "               'min_samples_split': np.linspace(2,100,99).astype(int),\n",
    "               'min_samples_leaf': np.linspace(1,100,100).astype(int),\n",
    "               'min_weight_fraction_leaf': [0, 0.1, 0.2, 0.3, 0.4]}\n",
    "\n",
    "forest_reg = RandomForestRegressor()\n",
    "\n",
    "random_search = RandomizedSearchCV(forest_reg, param_distributions=param_grid,\n",
    "                                  cv = 5, n_iter = 100)\n",
    "\n",
    "random_search.fit(x_train, y_train)\n",
    "\n",
    "#random_search.best_params_"
   ]
  },
  {
   "cell_type": "code",
   "execution_count": 24,
   "metadata": {},
   "outputs": [
    {
     "data": {
      "text/plain": [
       "{'n_estimators': 68,\n",
       " 'min_weight_fraction_leaf': 0,\n",
       " 'min_samples_split': 31,\n",
       " 'min_samples_leaf': 4,\n",
       " 'max_features': 2}"
      ]
     },
     "execution_count": 24,
     "metadata": {},
     "output_type": "execute_result"
    }
   ],
   "source": [
    "# using cv=2 and n_iter=50\n",
    "random_search.best_params_"
   ]
  },
  {
   "cell_type": "code",
   "execution_count": 28,
   "metadata": {},
   "outputs": [
    {
     "data": {
      "text/plain": [
       "{'n_estimators': 134,\n",
       " 'min_weight_fraction_leaf': 0,\n",
       " 'min_samples_split': 16,\n",
       " 'min_samples_leaf': 23,\n",
       " 'max_features': 3}"
      ]
     },
     "execution_count": 28,
     "metadata": {},
     "output_type": "execute_result"
    }
   ],
   "source": [
    "# using cv=2 and n_iter=100\n",
    "random_search.best_params_"
   ]
  },
  {
   "cell_type": "code",
   "execution_count": 37,
   "metadata": {},
   "outputs": [
    {
     "data": {
      "text/plain": [
       "{'n_estimators': 115,\n",
       " 'min_weight_fraction_leaf': 0,\n",
       " 'min_samples_split': 84,\n",
       " 'min_samples_leaf': 23,\n",
       " 'max_features': 3}"
      ]
     },
     "execution_count": 37,
     "metadata": {},
     "output_type": "execute_result"
    }
   ],
   "source": [
    "# using cv=5 and n_iter=100\n",
    "random_search.best_params_"
   ]
  },
  {
   "cell_type": "code",
   "execution_count": 38,
   "metadata": {},
   "outputs": [
    {
     "data": {
      "text/plain": [
       "{'max_features': 3,\n",
       " 'min_samples_leaf': 25,\n",
       " 'min_samples_split': 10,\n",
       " 'min_weight_fraction_leaf': 0,\n",
       " 'n_estimators': 50}"
      ]
     },
     "execution_count": 38,
     "metadata": {},
     "output_type": "execute_result"
    }
   ],
   "source": [
    "param_grid = {'n_estimators': [50], \n",
    "               'max_features': [2,3],\n",
    "               #'criterion': ['mse', 'mae'],\n",
    "               'min_samples_split': [10, 30, 50, 70, 90],\n",
    "               'min_samples_leaf': [25],\n",
    "               'min_weight_fraction_leaf': [0]}\n",
    "\n",
    "forest_reg = RandomForestRegressor()\n",
    "\n",
    "grid_search = GridSearchCV(forest_reg, param_grid, cv=5,\n",
    "                           scoring='neg_mean_squared_error',\n",
    "                           return_train_score=True)\n",
    "\n",
    "grid_search.fit(x_train, y_train)\n",
    "\n",
    "grid_search.best_params_"
   ]
  },
  {
   "cell_type": "markdown",
   "metadata": {},
   "source": [
    "**Trying baysian optimisation with optuna ... (FAIL)**"
   ]
  },
  {
   "cell_type": "code",
   "execution_count": 35,
   "metadata": {
    "collapsed": true,
    "jupyter": {
     "outputs_hidden": true,
     "source_hidden": true
    }
   },
   "outputs": [
    {
     "ename": "AttributeError",
     "evalue": "'Version' object has no attribute 'major'",
     "output_type": "error",
     "traceback": [
      "\u001b[1;31m---------------------------------------------------------------------------\u001b[0m",
      "\u001b[1;31mAttributeError\u001b[0m                            Traceback (most recent call last)",
      "\u001b[1;32m<ipython-input-35-b1ef663edb92>\u001b[0m in \u001b[0;36m<module>\u001b[1;34m\u001b[0m\n\u001b[0;32m      1\u001b[0m \u001b[0mget_ipython\u001b[0m\u001b[1;33m(\u001b[0m\u001b[1;33m)\u001b[0m\u001b[1;33m.\u001b[0m\u001b[0msystem\u001b[0m\u001b[1;33m(\u001b[0m\u001b[1;34m'pip install --quiet optuna'\u001b[0m\u001b[1;33m)\u001b[0m\u001b[1;33m\u001b[0m\u001b[1;33m\u001b[0m\u001b[0m\n\u001b[1;32m----> 2\u001b[1;33m \u001b[1;32mimport\u001b[0m \u001b[0moptuna\u001b[0m\u001b[1;33m\u001b[0m\u001b[1;33m\u001b[0m\u001b[0m\n\u001b[0m\u001b[0;32m      3\u001b[0m \u001b[1;32mfrom\u001b[0m \u001b[0moptuna\u001b[0m\u001b[1;33m.\u001b[0m\u001b[0msamplers\u001b[0m \u001b[1;32mimport\u001b[0m \u001b[0mTPESampler\u001b[0m\u001b[1;33m\u001b[0m\u001b[1;33m\u001b[0m\u001b[0m\n\u001b[0;32m      4\u001b[0m \u001b[1;32mfrom\u001b[0m \u001b[0msklearn\u001b[0m\u001b[1;33m.\u001b[0m\u001b[0mmodel_selection\u001b[0m \u001b[1;32mimport\u001b[0m \u001b[0mcross_val_score\u001b[0m\u001b[1;33m\u001b[0m\u001b[1;33m\u001b[0m\u001b[0m\n\u001b[0;32m      5\u001b[0m \u001b[1;33m\u001b[0m\u001b[0m\n",
      "\u001b[1;32m~\\Anaconda3\\lib\\site-packages\\optuna\\__init__.py\u001b[0m in \u001b[0;36m<module>\u001b[1;34m\u001b[0m\n\u001b[0;32m      6\u001b[0m \u001b[1;32mfrom\u001b[0m \u001b[0moptuna\u001b[0m \u001b[1;32mimport\u001b[0m \u001b[0mdistributions\u001b[0m\u001b[1;33m\u001b[0m\u001b[1;33m\u001b[0m\u001b[0m\n\u001b[0;32m      7\u001b[0m \u001b[1;32mfrom\u001b[0m \u001b[0moptuna\u001b[0m \u001b[1;32mimport\u001b[0m \u001b[0mexceptions\u001b[0m\u001b[1;33m\u001b[0m\u001b[1;33m\u001b[0m\u001b[0m\n\u001b[1;32m----> 8\u001b[1;33m \u001b[1;32mfrom\u001b[0m \u001b[0moptuna\u001b[0m \u001b[1;32mimport\u001b[0m \u001b[0mimportance\u001b[0m\u001b[1;33m\u001b[0m\u001b[1;33m\u001b[0m\u001b[0m\n\u001b[0m\u001b[0;32m      9\u001b[0m \u001b[1;32mfrom\u001b[0m \u001b[0moptuna\u001b[0m \u001b[1;32mimport\u001b[0m \u001b[0mintegration\u001b[0m\u001b[1;33m\u001b[0m\u001b[1;33m\u001b[0m\u001b[0m\n\u001b[0;32m     10\u001b[0m \u001b[1;32mfrom\u001b[0m \u001b[0moptuna\u001b[0m \u001b[1;32mimport\u001b[0m \u001b[0mlogging\u001b[0m\u001b[1;33m\u001b[0m\u001b[1;33m\u001b[0m\u001b[0m\n",
      "\u001b[1;32m~\\Anaconda3\\lib\\site-packages\\optuna\\importance\\__init__.py\u001b[0m in \u001b[0;36m<module>\u001b[1;34m\u001b[0m\n\u001b[0;32m      4\u001b[0m \u001b[1;32mfrom\u001b[0m \u001b[0mtyping\u001b[0m \u001b[1;32mimport\u001b[0m \u001b[0mOptional\u001b[0m\u001b[1;33m\u001b[0m\u001b[1;33m\u001b[0m\u001b[0m\n\u001b[0;32m      5\u001b[0m \u001b[1;33m\u001b[0m\u001b[0m\n\u001b[1;32m----> 6\u001b[1;33m \u001b[1;32mfrom\u001b[0m \u001b[0moptuna\u001b[0m\u001b[1;33m.\u001b[0m\u001b[0mimportance\u001b[0m\u001b[1;33m.\u001b[0m\u001b[0m_base\u001b[0m \u001b[1;32mimport\u001b[0m \u001b[0mBaseImportanceEvaluator\u001b[0m\u001b[1;33m\u001b[0m\u001b[1;33m\u001b[0m\u001b[0m\n\u001b[0m\u001b[0;32m      7\u001b[0m \u001b[1;32mfrom\u001b[0m \u001b[0moptuna\u001b[0m\u001b[1;33m.\u001b[0m\u001b[0mimportance\u001b[0m\u001b[1;33m.\u001b[0m\u001b[0m_fanova\u001b[0m \u001b[1;32mimport\u001b[0m \u001b[0mFanovaImportanceEvaluator\u001b[0m\u001b[1;33m\u001b[0m\u001b[1;33m\u001b[0m\u001b[0m\n\u001b[0;32m      8\u001b[0m \u001b[1;32mfrom\u001b[0m \u001b[0moptuna\u001b[0m\u001b[1;33m.\u001b[0m\u001b[0mimportance\u001b[0m\u001b[1;33m.\u001b[0m\u001b[0m_mean_decrease_impurity\u001b[0m \u001b[1;32mimport\u001b[0m \u001b[0mMeanDecreaseImpurityImportanceEvaluator\u001b[0m\u001b[1;33m\u001b[0m\u001b[1;33m\u001b[0m\u001b[0m\n",
      "\u001b[1;32m~\\Anaconda3\\lib\\site-packages\\optuna\\importance\\_base.py\u001b[0m in \u001b[0;36m<module>\u001b[1;34m\u001b[0m\n\u001b[0;32m      7\u001b[0m \u001b[1;33m\u001b[0m\u001b[0m\n\u001b[0;32m      8\u001b[0m \u001b[1;32mfrom\u001b[0m \u001b[0moptuna\u001b[0m\u001b[1;33m.\u001b[0m\u001b[0mdistributions\u001b[0m \u001b[1;32mimport\u001b[0m \u001b[0mBaseDistribution\u001b[0m\u001b[1;33m\u001b[0m\u001b[1;33m\u001b[0m\u001b[0m\n\u001b[1;32m----> 9\u001b[1;33m \u001b[1;32mfrom\u001b[0m \u001b[0moptuna\u001b[0m\u001b[1;33m.\u001b[0m\u001b[0msamplers\u001b[0m \u001b[1;32mimport\u001b[0m \u001b[0mintersection_search_space\u001b[0m\u001b[1;33m\u001b[0m\u001b[1;33m\u001b[0m\u001b[0m\n\u001b[0m\u001b[0;32m     10\u001b[0m \u001b[1;32mfrom\u001b[0m \u001b[0moptuna\u001b[0m\u001b[1;33m.\u001b[0m\u001b[0mstudy\u001b[0m \u001b[1;32mimport\u001b[0m \u001b[0mStudy\u001b[0m\u001b[1;33m\u001b[0m\u001b[1;33m\u001b[0m\u001b[0m\n\u001b[0;32m     11\u001b[0m \u001b[1;32mfrom\u001b[0m \u001b[0moptuna\u001b[0m\u001b[1;33m.\u001b[0m\u001b[0mtrial\u001b[0m \u001b[1;32mimport\u001b[0m \u001b[0mFrozenTrial\u001b[0m\u001b[1;33m\u001b[0m\u001b[1;33m\u001b[0m\u001b[0m\n",
      "\u001b[1;32m~\\Anaconda3\\lib\\site-packages\\optuna\\samplers\\__init__.py\u001b[0m in \u001b[0;36m<module>\u001b[1;34m\u001b[0m\n\u001b[1;32m----> 1\u001b[1;33m \u001b[1;32mfrom\u001b[0m \u001b[0moptuna\u001b[0m\u001b[1;33m.\u001b[0m\u001b[0msamplers\u001b[0m\u001b[1;33m.\u001b[0m\u001b[0m_base\u001b[0m \u001b[1;32mimport\u001b[0m \u001b[0mBaseSampler\u001b[0m\u001b[1;33m\u001b[0m\u001b[1;33m\u001b[0m\u001b[0m\n\u001b[0m\u001b[0;32m      2\u001b[0m \u001b[1;32mfrom\u001b[0m \u001b[0moptuna\u001b[0m\u001b[1;33m.\u001b[0m\u001b[0msamplers\u001b[0m\u001b[1;33m.\u001b[0m\u001b[0m_cmaes\u001b[0m \u001b[1;32mimport\u001b[0m \u001b[0mCmaEsSampler\u001b[0m\u001b[1;33m\u001b[0m\u001b[1;33m\u001b[0m\u001b[0m\n\u001b[0;32m      3\u001b[0m \u001b[1;32mfrom\u001b[0m \u001b[0moptuna\u001b[0m\u001b[1;33m.\u001b[0m\u001b[0msamplers\u001b[0m\u001b[1;33m.\u001b[0m\u001b[0m_grid\u001b[0m \u001b[1;32mimport\u001b[0m \u001b[0mGridSampler\u001b[0m\u001b[1;33m\u001b[0m\u001b[1;33m\u001b[0m\u001b[0m\n\u001b[0;32m      4\u001b[0m \u001b[1;32mfrom\u001b[0m \u001b[0moptuna\u001b[0m\u001b[1;33m.\u001b[0m\u001b[0msamplers\u001b[0m\u001b[1;33m.\u001b[0m\u001b[0m_nsga2\u001b[0m \u001b[1;32mimport\u001b[0m \u001b[0mNSGAIISampler\u001b[0m\u001b[1;33m\u001b[0m\u001b[1;33m\u001b[0m\u001b[0m\n\u001b[0;32m      5\u001b[0m \u001b[1;32mfrom\u001b[0m \u001b[0moptuna\u001b[0m\u001b[1;33m.\u001b[0m\u001b[0msamplers\u001b[0m\u001b[1;33m.\u001b[0m\u001b[0m_partial_fixed\u001b[0m \u001b[1;32mimport\u001b[0m \u001b[0mPartialFixedSampler\u001b[0m\u001b[1;33m\u001b[0m\u001b[1;33m\u001b[0m\u001b[0m\n",
      "\u001b[1;32m~\\Anaconda3\\lib\\site-packages\\optuna\\samplers\\_base.py\u001b[0m in \u001b[0;36m<module>\u001b[1;34m\u001b[0m\n\u001b[0;32m      6\u001b[0m \u001b[1;33m\u001b[0m\u001b[0m\n\u001b[0;32m      7\u001b[0m \u001b[1;32mfrom\u001b[0m \u001b[0moptuna\u001b[0m\u001b[1;33m.\u001b[0m\u001b[0mdistributions\u001b[0m \u001b[1;32mimport\u001b[0m \u001b[0mBaseDistribution\u001b[0m\u001b[1;33m\u001b[0m\u001b[1;33m\u001b[0m\u001b[0m\n\u001b[1;32m----> 8\u001b[1;33m \u001b[1;32mfrom\u001b[0m \u001b[0moptuna\u001b[0m\u001b[1;33m.\u001b[0m\u001b[0mstudy\u001b[0m \u001b[1;32mimport\u001b[0m \u001b[0mStudy\u001b[0m\u001b[1;33m\u001b[0m\u001b[1;33m\u001b[0m\u001b[0m\n\u001b[0m\u001b[0;32m      9\u001b[0m \u001b[1;32mfrom\u001b[0m \u001b[0moptuna\u001b[0m\u001b[1;33m.\u001b[0m\u001b[0mtrial\u001b[0m \u001b[1;32mimport\u001b[0m \u001b[0mFrozenTrial\u001b[0m\u001b[1;33m\u001b[0m\u001b[1;33m\u001b[0m\u001b[0m\n\u001b[0;32m     10\u001b[0m \u001b[1;32mfrom\u001b[0m \u001b[0moptuna\u001b[0m\u001b[1;33m.\u001b[0m\u001b[0mtrial\u001b[0m \u001b[1;32mimport\u001b[0m \u001b[0mTrialState\u001b[0m\u001b[1;33m\u001b[0m\u001b[1;33m\u001b[0m\u001b[0m\n",
      "\u001b[1;32m~\\Anaconda3\\lib\\site-packages\\optuna\\study\\__init__.py\u001b[0m in \u001b[0;36m<module>\u001b[1;34m\u001b[0m\n\u001b[0;32m      2\u001b[0m \u001b[1;32mfrom\u001b[0m \u001b[0moptuna\u001b[0m\u001b[1;33m.\u001b[0m\u001b[0mstudy\u001b[0m\u001b[1;33m.\u001b[0m\u001b[0m_study_direction\u001b[0m \u001b[1;32mimport\u001b[0m \u001b[0mStudyDirection\u001b[0m\u001b[1;33m\u001b[0m\u001b[1;33m\u001b[0m\u001b[0m\n\u001b[0;32m      3\u001b[0m \u001b[1;32mfrom\u001b[0m \u001b[0moptuna\u001b[0m\u001b[1;33m.\u001b[0m\u001b[0mstudy\u001b[0m\u001b[1;33m.\u001b[0m\u001b[0m_study_summary\u001b[0m \u001b[1;32mimport\u001b[0m \u001b[0mStudySummary\u001b[0m\u001b[1;33m\u001b[0m\u001b[1;33m\u001b[0m\u001b[0m\n\u001b[1;32m----> 4\u001b[1;33m \u001b[1;32mfrom\u001b[0m \u001b[0moptuna\u001b[0m\u001b[1;33m.\u001b[0m\u001b[0mstudy\u001b[0m\u001b[1;33m.\u001b[0m\u001b[0mstudy\u001b[0m \u001b[1;32mimport\u001b[0m \u001b[0mBaseStudy\u001b[0m\u001b[1;33m\u001b[0m\u001b[1;33m\u001b[0m\u001b[0m\n\u001b[0m\u001b[0;32m      5\u001b[0m \u001b[1;32mfrom\u001b[0m \u001b[0moptuna\u001b[0m\u001b[1;33m.\u001b[0m\u001b[0mstudy\u001b[0m\u001b[1;33m.\u001b[0m\u001b[0mstudy\u001b[0m \u001b[1;32mimport\u001b[0m \u001b[0mcopy_study\u001b[0m\u001b[1;33m\u001b[0m\u001b[1;33m\u001b[0m\u001b[0m\n\u001b[0;32m      6\u001b[0m \u001b[1;32mfrom\u001b[0m \u001b[0moptuna\u001b[0m\u001b[1;33m.\u001b[0m\u001b[0mstudy\u001b[0m\u001b[1;33m.\u001b[0m\u001b[0mstudy\u001b[0m \u001b[1;32mimport\u001b[0m \u001b[0mcreate_study\u001b[0m\u001b[1;33m\u001b[0m\u001b[1;33m\u001b[0m\u001b[0m\n",
      "\u001b[1;32m~\\Anaconda3\\lib\\site-packages\\optuna\\study\\study.py\u001b[0m in \u001b[0;36m<module>\u001b[1;34m\u001b[0m\n\u001b[0;32m    207\u001b[0m \u001b[1;33m\u001b[0m\u001b[0m\n\u001b[0;32m    208\u001b[0m \u001b[1;33m\u001b[0m\u001b[0m\n\u001b[1;32m--> 209\u001b[1;33m \u001b[1;32mclass\u001b[0m \u001b[0mStudy\u001b[0m\u001b[1;33m(\u001b[0m\u001b[0mBaseStudy\u001b[0m\u001b[1;33m)\u001b[0m\u001b[1;33m:\u001b[0m\u001b[1;33m\u001b[0m\u001b[1;33m\u001b[0m\u001b[0m\n\u001b[0m\u001b[0;32m    210\u001b[0m     \"\"\"A study corresponds to an optimization task, i.e., a set of trials.\n\u001b[0;32m    211\u001b[0m \u001b[1;33m\u001b[0m\u001b[0m\n",
      "\u001b[1;32m~\\Anaconda3\\lib\\site-packages\\optuna\\study\\study.py\u001b[0m in \u001b[0;36mStudy\u001b[1;34m()\u001b[0m\n\u001b[0;32m    984\u001b[0m         \u001b[1;32mreturn\u001b[0m \u001b[1;32mNone\u001b[0m\u001b[1;33m\u001b[0m\u001b[1;33m\u001b[0m\u001b[0m\n\u001b[0;32m    985\u001b[0m \u001b[1;33m\u001b[0m\u001b[0m\n\u001b[1;32m--> 986\u001b[1;33m     \u001b[1;33m@\u001b[0m\u001b[0mdeprecated\u001b[0m\u001b[1;33m(\u001b[0m\u001b[1;34m\"2.5.0\"\u001b[0m\u001b[1;33m)\u001b[0m\u001b[1;33m\u001b[0m\u001b[1;33m\u001b[0m\u001b[0m\n\u001b[0m\u001b[0;32m    987\u001b[0m     \u001b[1;32mdef\u001b[0m \u001b[0m_ask\u001b[0m\u001b[1;33m(\u001b[0m\u001b[0mself\u001b[0m\u001b[1;33m)\u001b[0m \u001b[1;33m->\u001b[0m \u001b[0mtrial_module\u001b[0m\u001b[1;33m.\u001b[0m\u001b[0mTrial\u001b[0m\u001b[1;33m:\u001b[0m\u001b[1;33m\u001b[0m\u001b[1;33m\u001b[0m\u001b[0m\n\u001b[0;32m    988\u001b[0m         \u001b[1;32mreturn\u001b[0m \u001b[0mself\u001b[0m\u001b[1;33m.\u001b[0m\u001b[0mask\u001b[0m\u001b[1;33m(\u001b[0m\u001b[1;33m)\u001b[0m\u001b[1;33m\u001b[0m\u001b[1;33m\u001b[0m\u001b[0m\n",
      "\u001b[1;32m~\\Anaconda3\\lib\\site-packages\\optuna\\_deprecated.py\u001b[0m in \u001b[0;36mdeprecated\u001b[1;34m(deprecated_version, removed_version, name, text)\u001b[0m\n\u001b[0;32m     83\u001b[0m     \u001b[0m_validate_version\u001b[0m\u001b[1;33m(\u001b[0m\u001b[0mdeprecated_version\u001b[0m\u001b[1;33m)\u001b[0m\u001b[1;33m\u001b[0m\u001b[1;33m\u001b[0m\u001b[0m\n\u001b[0;32m     84\u001b[0m     \u001b[1;32mif\u001b[0m \u001b[0mremoved_version\u001b[0m \u001b[1;32mis\u001b[0m \u001b[1;32mNone\u001b[0m\u001b[1;33m:\u001b[0m\u001b[1;33m\u001b[0m\u001b[1;33m\u001b[0m\u001b[0m\n\u001b[1;32m---> 85\u001b[1;33m         \u001b[0mremoved_version\u001b[0m \u001b[1;33m=\u001b[0m \u001b[0m_get_removed_version_from_deprecated_version\u001b[0m\u001b[1;33m(\u001b[0m\u001b[0mdeprecated_version\u001b[0m\u001b[1;33m)\u001b[0m\u001b[1;33m\u001b[0m\u001b[1;33m\u001b[0m\u001b[0m\n\u001b[0m\u001b[0;32m     86\u001b[0m     \u001b[0m_validate_version\u001b[0m\u001b[1;33m(\u001b[0m\u001b[0mremoved_version\u001b[0m\u001b[1;33m)\u001b[0m\u001b[1;33m\u001b[0m\u001b[1;33m\u001b[0m\u001b[0m\n\u001b[0;32m     87\u001b[0m     \u001b[0m_validate_two_version\u001b[0m\u001b[1;33m(\u001b[0m\u001b[0mdeprecated_version\u001b[0m\u001b[1;33m,\u001b[0m \u001b[0mremoved_version\u001b[0m\u001b[1;33m)\u001b[0m\u001b[1;33m\u001b[0m\u001b[1;33m\u001b[0m\u001b[0m\n",
      "\u001b[1;32m~\\Anaconda3\\lib\\site-packages\\optuna\\_deprecated.py\u001b[0m in \u001b[0;36m_get_removed_version_from_deprecated_version\u001b[1;34m(deprecated_version)\u001b[0m\n\u001b[0;32m     45\u001b[0m     \u001b[0mparsed_deprecated_version\u001b[0m \u001b[1;33m=\u001b[0m \u001b[0mversion\u001b[0m\u001b[1;33m.\u001b[0m\u001b[0mparse\u001b[0m\u001b[1;33m(\u001b[0m\u001b[0mdeprecated_version\u001b[0m\u001b[1;33m)\u001b[0m\u001b[1;33m\u001b[0m\u001b[1;33m\u001b[0m\u001b[0m\n\u001b[0;32m     46\u001b[0m     \u001b[1;32massert\u001b[0m \u001b[0misinstance\u001b[0m\u001b[1;33m(\u001b[0m\u001b[0mparsed_deprecated_version\u001b[0m\u001b[1;33m,\u001b[0m \u001b[0mversion\u001b[0m\u001b[1;33m.\u001b[0m\u001b[0mVersion\u001b[0m\u001b[1;33m)\u001b[0m  \u001b[1;31m# Required for mypy.\u001b[0m\u001b[1;33m\u001b[0m\u001b[1;33m\u001b[0m\u001b[0m\n\u001b[1;32m---> 47\u001b[1;33m     \u001b[1;32mreturn\u001b[0m \u001b[1;34m\"{}.0.0\"\u001b[0m\u001b[1;33m.\u001b[0m\u001b[0mformat\u001b[0m\u001b[1;33m(\u001b[0m\u001b[0mparsed_deprecated_version\u001b[0m\u001b[1;33m.\u001b[0m\u001b[0mmajor\u001b[0m \u001b[1;33m+\u001b[0m \u001b[1;36m2\u001b[0m\u001b[1;33m)\u001b[0m\u001b[1;33m\u001b[0m\u001b[1;33m\u001b[0m\u001b[0m\n\u001b[0m\u001b[0;32m     48\u001b[0m \u001b[1;33m\u001b[0m\u001b[0m\n\u001b[0;32m     49\u001b[0m \u001b[1;33m\u001b[0m\u001b[0m\n",
      "\u001b[1;31mAttributeError\u001b[0m: 'Version' object has no attribute 'major'"
     ]
    }
   ],
   "source": [
    "!pip install --quiet optuna\n",
    "import optuna \n",
    "from optuna.samplers import TPESampler\n",
    "from sklearn.model_selection import cross_val_score\n",
    "\n",
    "def objective(trial):\n",
    "    \"\"\"return the f1-score\"\"\"\n",
    "\n",
    "    # search space\n",
    "    n_estimators =  trial.suggest_int('n_estimators', low=100, high=200, step=50)\n",
    "    criterion = trial.suggest_categorical('criterion', ['mse', 'mae'])\n",
    "    min_samples_split = trial.suggest_int('min_samples_split', low=2, high=4, step=1)\n",
    "    min_samples_leaf = trial.suggest_int('min_samples_leaf', low=1, high=5, step=1)\n",
    "    max_depth = trial.suggest_int('max_depth', low=5, high=7, step=1)\n",
    "    max_features = trial.suggest_categorical('max_features', ['auto', 'sqrt','log2'])\n",
    "\n",
    "    # random forest classifier object\n",
    "    rfc = RandomForestClassifier(n_estimators=n_estimators, \n",
    "                                 criterion=criterion,\n",
    "                                 min_samples_split=min_samples_split,\n",
    "                                 min_samples_leaf=min_samples_leaf,\n",
    "                                 max_depth=max_depth, \n",
    "                                 max_features=max_features,\n",
    "                                 random_state=42)\n",
    "    \n",
    "    score =  cross_val_score(estimator=rfc, \n",
    "                             X=x_train, \n",
    "                             y=y_train, \n",
    "                             scoring='f1_micro',\n",
    "                             cv=5,\n",
    "                             n_jobs=-1).mean()\n",
    "    \n",
    "    return score\n",
    "\n",
    "# create a study (aim to maximize score)\n",
    "study = optuna.create_study(sampler=TPESampler(), direction='maximize')\n",
    "\n",
    "# perform hyperparamter tuning\n",
    "study.optimize(objective, n_trials=100)\n",
    "\n",
    "# store result in a data frame \n",
    "values_bayesian = [study.best_trial.number, study.best_trial.value]"
   ]
  },
  {
   "cell_type": "code",
   "execution_count": null,
   "metadata": {},
   "outputs": [],
   "source": []
  }
 ],
 "metadata": {
  "kernelspec": {
   "display_name": "Python 3",
   "language": "python",
   "name": "python3"
  },
  "language_info": {
   "codemirror_mode": {
    "name": "ipython",
    "version": 3
   },
   "file_extension": ".py",
   "mimetype": "text/x-python",
   "name": "python",
   "nbconvert_exporter": "python",
   "pygments_lexer": "ipython3",
   "version": "3.7.4"
  }
 },
 "nbformat": 4,
 "nbformat_minor": 4
}

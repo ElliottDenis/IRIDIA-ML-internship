{
 "cells": [
  {
   "cell_type": "markdown",
   "metadata": {},
   "source": [
    "The data consists of 100,000 observations of space taken by the SDSS (Sloan Digital Sky Survey). Every observation is described by 17 feature columns and 1 class column which identifies it to be either a star, galaxy or quasar. (dataset reference: https://www.kaggle.com/datasets/fedesoriano/stellar-classification-dataset-sdss17?datasetId=1866141&sortBy=voteCount)\n",
    "\n",
    "Data taken from 17th data release (https://arxiv.org/abs/2112.02026) which can be found here: https://www.sdss.org/science/image-gallery/, as opposed to 12th data relsease of reference article below (https://academic.oup.com/mnras/article/505/4/4847/6288434?login=true)\n",
    "\n",
    "Notice a much stronger correlation with redshift when compared to the other two types of objects! Might be due to more data points from further galaxies which contribute to the detection of this correlation (stars can't be detected as far as galaxies nor quasars).\n",
    "\n",
    "Potentially using data from i and r (g and z) find the redshift? Given a galaxy?\n",
    "\n",
    "Use redshift as y-value to be fitted! -> new jupyter notebook (SDSS - 5) Galaxies regression of the redshift using r and i filters.\n",
    "\n",
    "example here: https://iopscience.iop.org/article/10.1088/0004-637X/692/1/L5/meta\n",
    "\n",
    "here in the case of cosmology: https://iopscience.iop.org/article/10.1088/0004-637X/813/1/53/meta\n",
    "\n",
    "reference article for method: https://academic.oup.com/mnras/article/505/4/4847/6288434?login=true\n",
    "\n",
    "- data used in that paper: https://www.sdss.org/dr12/\n",
    "\n",
    "REFERENCE ARTICLE ECRIT PAR PHD STUDENT (https://www.ucl.ac.uk/astrophysics/ben-henghes-phd-student) DE UCL SOUS SUPERVISION DE OFER LAHAV!!!!!!!!!!!!!\n",
    "\n",
    "POTENTIELLEMENT IDEES DE MEMOIRES QU'IL NA PAS LE TEMPS DE FAIRE SUR LEQUEL JE POURRAIS TRAVAILLER??? DATASETS AVAILABLE???\n",
    "-> email pour demander **how did you access dataset??**\n",
    "\n",
    "https://www.nature.com/articles/s41592-021-01205-4 page 2 as to what to include in paper!!\n",
    "\n",
    "**https://arxiv.org/pdf/2112.07811.pdf binary classifier to find outliers**\n",
    "\n",
    "https://www.connectedpapers.com/main/5b32c3a101686b7fa3148fb7be32213d332112eb/Benchmarking-and-scalability-of-machine%20learning-methods-for-photometric-redshift-estimation/graph connected papers!\n",
    "\n",
    "Three ways to optimise hyperparameters: https://towardsdatascience.com/grid-search-vs-random-search-vs-bayesian-optimization-2e68f57c3c46\n",
    "\n",
    "------------------\n",
    "\n",
    "Try to connect raspberry pi and make the code run on it (SSH connection)\n",
    "\n",
    "------------------\n",
    "\n",
    "could be interesting to look at processing time + varying the boundary redshift value and see how the predictive power changes!!"
   ]
  },
  {
   "cell_type": "code",
   "execution_count": 42,
   "metadata": {},
   "outputs": [],
   "source": [
    "# basics\n",
    "import pandas as pd\n",
    "import numpy as np\n",
    "import random\n",
    "import matplotlib as mpl\n",
    "import matplotlib.pyplot as plt\n",
    "import seaborn as sns\n",
    "import warnings\n",
    "warnings.simplefilter(action='ignore', category=FutureWarning)\n",
    "import time\n",
    "\n",
    "# creating train and test sets\n",
    "from sklearn.model_selection import StratifiedShuffleSplit\n",
    "from sklearn.preprocessing import StandardScaler\n",
    "\n",
    "# classifiers\n",
    "from sklearn.svm import SVC\n",
    "from sklearn.linear_model import SGDClassifier\n",
    "from sklearn.ensemble import RandomForestClassifier\n",
    "\n",
    "# evaluating models\n",
    "from sklearn.model_selection import cross_val_score\n",
    "from sklearn.model_selection import cross_val_predict\n",
    "from sklearn.metrics import confusion_matrix\n",
    "from pandas.plotting import scatter_matrix\n",
    "from sklearn.metrics import mean_squared_error\n",
    "\n",
    "# regressors\n",
    "from sklearn.linear_model import LinearRegression\n",
    "from sklearn.tree import DecisionTreeRegressor\n",
    "from sklearn.ensemble import RandomForestRegressor\n",
    "from sklearn.svm import SVR\n",
    "from sklearn.linear_model import SGDRegressor\n",
    "from sklearn.neighbors import KNeighborsRegressor\n",
    "from sklearn.ensemble import GradientBoostingRegressor\n",
    "from sklearn.linear_model import BayesianRidge\n",
    "from sklearn.kernel_ridge import KernelRidge\n",
    "\n",
    "# optimising models and fine tuning\n",
    "from sklearn.model_selection import GridSearchCV\n",
    "from sklearn.model_selection import RandomizedSearchCV\n"
   ]
  },
  {
   "cell_type": "code",
   "execution_count": 14,
   "metadata": {},
   "outputs": [],
   "source": [
    "def get_train_test_init():\n",
    "    # load\n",
    "    df = pd.read_csv(\"star_classification.csv\")\n",
    "    # remove outliers\n",
    "    # select the row with u or z or g below 0 (should not be allowed)\n",
    "    outliers = df[(df[\"u\"] <= 0)  \n",
    "                | (df[\"z\"] <= 0) \n",
    "                | (df[\"g\"] <= 0)\n",
    "                | (df[\"redshift\"] <= 0)]\n",
    "                # GREAT improvement in predicting power when removing the >1 redshifts\n",
    "                #| (df[\"redshift\"] > 1)\n",
    "\n",
    "    # drop the row corresponding to the outlier\n",
    "    df = df.drop(outliers.index, axis=0)\n",
    "    \n",
    "    # WE ONLY DEAL WITH GALAXIES HERE (see SDSS - 4 for correlations)\n",
    "    df = df[df[\"class\"] == \"GALAXY\"]\n",
    "    \n",
    "    # we drop the data we are not interested in and which won't be useful\n",
    "    # expect isotropic universe -> could also drop position in sky\n",
    "    df = df.drop(\n",
    "        columns=[\"alpha\", \"delta\", \"obj_ID\", \"fiber_ID\", \"MJD\", \"plate\", \"spec_obj_ID\", \n",
    "                 \"field_ID\", \"cam_col\", \"rerun_ID\", \"run_ID\", \"class\"], axis=1)\n",
    "    \n",
    "    df = df.replace([np.inf, -np.inf], np.nan)\n",
    "    df = df.dropna(axis=0)\n",
    "        \n",
    "    return df\n",
    "\n",
    "# only keeps filters and redshift\n",
    "df = get_train_test_init()\n",
    "\n",
    "df = df.reset_index(drop = True)\n",
    "\n",
    "df[\"redshift_cat\"] = pd.cut(df[\"redshift\"],\n",
    "                            bins=[0., 0.15, 0.45, 0.6, 0.8, np.inf],\n",
    "                            labels=[1, 2, 3, 4, 5])\n",
    "\n",
    "# stratified split\n",
    "split = StratifiedShuffleSplit(n_splits=1, test_size=0.2, random_state=42)\n",
    "    \n",
    "for train_index, test_index in split.split(df, df[\"redshift_cat\"]):\n",
    "    strat_train_set = df.loc[train_index]\n",
    "    strat_test_set = df.loc[test_index]\n",
    "    \n",
    "# remove redshift category column\n",
    "for set_ in (strat_train_set, strat_test_set):\n",
    "    set_.drop(\"redshift_cat\", axis=1, inplace=True)\n",
    "\n",
    "x_train = strat_train_set.drop(\"redshift\", axis=1)\n",
    "x_train = x_train.reset_index(drop = True)\n",
    "x_test = strat_test_set.drop(\"redshift\", axis=1)\n",
    "x_test = x_test.reset_index(drop = True)\n",
    "\n",
    "y_train = strat_train_set[\"redshift\"]\n",
    "y_train = y_train.reset_index(drop = True)\n",
    "y_test = strat_test_set[\"redshift\"]\n",
    "y_test = y_test.reset_index(drop = True)\n",
    "\n",
    "x_train_scaled = StandardScaler().fit_transform(x_train)\n",
    "x_test_scaled = StandardScaler().fit_transform(x_test)"
   ]
  },
  {
   "cell_type": "code",
   "execution_count": 5,
   "metadata": {},
   "outputs": [],
   "source": [
    "def model_crossval_errors(model, cv, enable_scaler=True):\n",
    "    if enable_scaler:\n",
    "        scaler = StandardScaler()\n",
    "        x_train_scaled = scaler.fit_transform(x_train.astype(np.float64))\n",
    "        x_test_scaled = scaler.fit_transform(x_test.astype(np.float64))\n",
    "\n",
    "        scores = cross_val_score(model, x_train_scaled, y_train,\n",
    "                             scoring=\"neg_mean_squared_error\", cv=cv)\n",
    "        rmse_scores = np.sqrt(-scores)\n",
    "        \n",
    "    else:\n",
    "        scores = cross_val_score(model, x_train, y_train,\n",
    "                             scoring=\"neg_mean_squared_error\", cv=cv)\n",
    "        rmse_scores = np.sqrt(-scores)\n",
    "\n",
    "    return rmse_scores.mean(), rmse_scores.std();\n",
    "\n",
    "def model_fit_test(model, enable_scaler=True):\n",
    "    if enable_scaler:\n",
    "        scaler = StandardScaler()\n",
    "        x_train_scaled = scaler.fit_transform(x_train.astype(np.float64))\n",
    "        x_test_scaled = scaler.fit_transform(x_test.astype(np.float64))\n",
    "\n",
    "        model.fit(x_train_scaled, y_train)\n",
    "        x_test_scaled_pred = model.predict(x_test_scaled)\n",
    "        test_mse = mean_squared_error(y_test, x_test_scaled_pred)\n",
    "        test_rmse = np.sqrt(test_mse)\n",
    "    else:\n",
    "        model.fit(x_train, y_train)\n",
    "        x_test_pred = model.predict(x_test)\n",
    "        test_mse = mean_squared_error(y_test, x_test_pred)\n",
    "        test_rmse = np.sqrt(test_mse)\n",
    "    \n",
    "    return test_rmse;"
   ]
  },
  {
   "cell_type": "markdown",
   "metadata": {},
   "source": [
    "## 1. Linear Regression"
   ]
  },
  {
   "cell_type": "code",
   "execution_count": 52,
   "metadata": {},
   "outputs": [
    {
     "ename": "TypeError",
     "evalue": "__init__() got an unexpected keyword argument 'random_state'",
     "output_type": "error",
     "traceback": [
      "\u001b[1;31m---------------------------------------------------------------------------\u001b[0m",
      "\u001b[1;31mTypeError\u001b[0m                                 Traceback (most recent call last)",
      "\u001b[1;32m<ipython-input-52-f5d28d679439>\u001b[0m in \u001b[0;36m<module>\u001b[1;34m\u001b[0m\n\u001b[1;32m----> 1\u001b[1;33m \u001b[0mLR_test_rmse\u001b[0m \u001b[1;33m=\u001b[0m \u001b[0mmodel_fit_test\u001b[0m\u001b[1;33m(\u001b[0m\u001b[0mLinearRegression\u001b[0m\u001b[1;33m(\u001b[0m\u001b[0mrandom_state\u001b[0m\u001b[1;33m=\u001b[0m\u001b[1;36m42\u001b[0m\u001b[1;33m)\u001b[0m\u001b[1;33m)\u001b[0m\u001b[1;33m\u001b[0m\u001b[1;33m\u001b[0m\u001b[0m\n\u001b[0m\u001b[0;32m      2\u001b[0m \u001b[0mprint\u001b[0m\u001b[1;33m(\u001b[0m\u001b[1;34m\"RMSE on test set using Linear Regression:\"\u001b[0m\u001b[1;33m,\u001b[0m \u001b[0mLR_test_rmse\u001b[0m\u001b[1;33m)\u001b[0m\u001b[1;33m\u001b[0m\u001b[1;33m\u001b[0m\u001b[0m\n\u001b[0;32m      3\u001b[0m \u001b[1;31m# (if using also using redshifts greater than 1!) outputs: 0.13199335248802463\u001b[0m\u001b[1;33m\u001b[0m\u001b[1;33m\u001b[0m\u001b[1;33m\u001b[0m\u001b[0m\n\u001b[0;32m      4\u001b[0m \u001b[1;33m\u001b[0m\u001b[0m\n\u001b[0;32m      5\u001b[0m \u001b[0mLR_crossval_mean\u001b[0m\u001b[1;33m,\u001b[0m \u001b[0mLR_crossval_std\u001b[0m \u001b[1;33m=\u001b[0m \u001b[0mmodel_crossval_errors\u001b[0m\u001b[1;33m(\u001b[0m\u001b[0mLinearRegression\u001b[0m\u001b[1;33m(\u001b[0m\u001b[0mrandom_state\u001b[0m\u001b[1;33m=\u001b[0m\u001b[1;36m42\u001b[0m\u001b[1;33m)\u001b[0m\u001b[1;33m,\u001b[0m \u001b[1;36m5\u001b[0m\u001b[1;33m)\u001b[0m\u001b[1;33m\u001b[0m\u001b[1;33m\u001b[0m\u001b[0m\n",
      "\u001b[1;31mTypeError\u001b[0m: __init__() got an unexpected keyword argument 'random_state'"
     ]
    }
   ],
   "source": [
    "LR_test_rmse = model_fit_test(LinearRegression())\n",
    "print(\"RMSE on test set using Linear Regression:\", LR_test_rmse)\n",
    "# (if using also using redshifts greater than 1!) outputs: 0.13199335248802463\n",
    "\n",
    "LR_crossval_mean, LR_crossval_std = model_crossval_errors(LinearRegression(), 5)\n",
    "print(\"\\nAverage cross-validation RMSE using Linear Regression:\", LR_crossval_mean,\n",
    "     \"\\nwith standard deviation:\", LR_crossval_std)\n",
    "# (if using also using redshifts greater than 1!) outputs: Mean: 0.131637168966496 and Standard deviation: 0.003987750317217345"
   ]
  },
  {
   "cell_type": "markdown",
   "metadata": {},
   "source": [
    "## 2. Decision Tree Regressor"
   ]
  },
  {
   "cell_type": "code",
   "execution_count": 11,
   "metadata": {},
   "outputs": [
    {
     "name": "stdout",
     "output_type": "stream",
     "text": [
      "RMSE on test set using Decision Tree Regressor: 0.15146199196340882\n",
      "\n",
      "Average cross-validation RMSE using Decision Tree Regressor: 0.15047030418607615 \n",
      "with standard deviation: 0.005848782157957103\n"
     ]
    }
   ],
   "source": [
    "DT_test_rmse = model_fit_test(DecisionTreeRegressor(), True)\n",
    "print(\"RMSE on test set using Decision Tree Regressor:\", DT_test_rmse)\n",
    "# (if using also using redshifts greater than 1!) outputs: 0.1551177423918345\n",
    "\n",
    "DT_crossval_mean, DT_crossval_std = model_crossval_errors(DecisionTreeRegressor(), 5, True)\n",
    "print(\"\\nAverage cross-validation RMSE using Decision Tree Regressor:\", DT_crossval_mean,\n",
    "     \"\\nwith standard deviation:\", DT_crossval_std)\n",
    "# (if using also using redshifts greater than 1!) outputs: Mean: 0.15521002059552677 and Standard deviation: 0.004483723632878179"
   ]
  },
  {
   "cell_type": "markdown",
   "metadata": {},
   "source": [
    "## 3. Random Forest Regressor"
   ]
  },
  {
   "cell_type": "code",
   "execution_count": 53,
   "metadata": {},
   "outputs": [
    {
     "name": "stdout",
     "output_type": "stream",
     "text": [
      "RMSE on test set using Random Forest Regressor: 0.11779086161695848\n",
      "Average cross-validation RMSE using Random Forest Regressor: 0.11345477823273856 \n",
      "with standard deviation: 0.0024247009552460204\n"
     ]
    }
   ],
   "source": [
    "RF_test_rmse = model_fit_test(RandomForestRegressor(random_state=42))\n",
    "print(\"RMSE on test set using Random Forest Regressor:\", RF_test_rmse)\n",
    "# (if using also using redshifts greater than 1!) outputs: 0.11546493414941233\n",
    "\n",
    "RF_crossval_mean, RF_crossval_std = model_crossval_errors(RandomForestRegressor(random_state=42), 5)\n",
    "print(\"Average cross-validation RMSE using Random Forest Regressor:\", RF_crossval_mean,\n",
    "     \"\\nwith standard deviation:\", RF_crossval_std)\n",
    "# (if using also using redshifts greater than 1!) outputs: Mean: 0.11513129222451428 and Standard deviation: 0.0048830191850681316"
   ]
  },
  {
   "cell_type": "markdown",
   "metadata": {},
   "source": [
    "## 4. KNN Regressor"
   ]
  },
  {
   "cell_type": "code",
   "execution_count": 24,
   "metadata": {},
   "outputs": [
    {
     "name": "stdout",
     "output_type": "stream",
     "text": [
      "RMSE on test set using K-Nearest Neighbors Regressor: 0.12169595750543494\n",
      "Average cross-validation RMSE using K-Nearest Neighbors Regressor: 0.11559602726063911 \n",
      "with standard deviation: 0.0018698743364142954\n"
     ]
    }
   ],
   "source": [
    "KNN_test_rmse = model_fit_test(KNeighborsRegressor())\n",
    "print(\"RMSE on test set using K-Nearest Neighbors Regressor:\", KNN_test_rmse)\n",
    "\n",
    "KNN_crossval_mean, KNN_crossval_std = model_crossval_errors(KNeighborsRegressor(), 5)\n",
    "print(\"Average cross-validation RMSE using K-Nearest Neighbors Regressor:\", KNN_crossval_mean,\n",
    "     \"\\nwith standard deviation:\", KNN_crossval_std)"
   ]
  },
  {
   "cell_type": "code",
   "execution_count": null,
   "metadata": {},
   "outputs": [],
   "source": [
    "from sklearn.linear_model import LinearRegression\n",
    "from sklearn.tree import DecisionTreeRegressor\n",
    "from sklearn.ensemble import RandomForestRegressor\n",
    "from sklearn.svm import SVR\n",
    "from sklearn.linear_model import SGDRegressor\n",
    "from sklearn.neighbors import KNeighborsRegressor\n",
    "from sklearn.ensemble import GradientBoostingRegressor"
   ]
  },
  {
   "cell_type": "markdown",
   "metadata": {},
   "source": [
    "## 5. Support Vector Regressor"
   ]
  },
  {
   "cell_type": "code",
   "execution_count": 26,
   "metadata": {},
   "outputs": [
    {
     "name": "stdout",
     "output_type": "stream",
     "text": [
      "RMSE on test set using Support Vector Regressor: 0.12169595750543494\n",
      "Average cross-validation RMSE using Support Vector Regressor: 0.11119632796227889 \n",
      "with standard deviation: 0.0014322054924855666\n"
     ]
    }
   ],
   "source": [
    "SVR_test_rmse = model_fit_test(SVR())\n",
    "print(\"RMSE on test set using Support Vector Regressor:\", KNN_test_rmse)\n",
    "\n",
    "SVR_crossval_mean, SVR_crossval_std = model_crossval_errors(SVR(), 5)\n",
    "print(\"Average cross-validation RMSE using Support Vector Regressor:\", SVR_crossval_mean,\n",
    "     \"\\nwith standard deviation:\", SVR_crossval_std)"
   ]
  },
  {
   "cell_type": "markdown",
   "metadata": {},
   "source": [
    "## 6. Gradient Boosting Regressor"
   ]
  },
  {
   "cell_type": "code",
   "execution_count": 27,
   "metadata": {},
   "outputs": [
    {
     "name": "stdout",
     "output_type": "stream",
     "text": [
      "RMSE on test set using Gradient Boosting Regressor: 0.11821862107212823\n",
      "Average cross-validation RMSE using Gradient Boosting Regressor: 0.11379899655229479 \n",
      "with standard deviation: 0.0018674766128008555\n"
     ]
    }
   ],
   "source": [
    "GBR_test_rmse = model_fit_test(GradientBoostingRegressor())\n",
    "print(\"RMSE on test set using Gradient Boosting Regressor:\", GBR_test_rmse)\n",
    "\n",
    "GBR_crossval_mean, GBR_crossval_std = model_crossval_errors(GradientBoostingRegressor(), 5)\n",
    "print(\"Average cross-validation RMSE using Gradient Boosting Regressor:\", GBR_crossval_mean,\n",
    "     \"\\nwith standard deviation:\", GBR_crossval_std)"
   ]
  },
  {
   "cell_type": "markdown",
   "metadata": {},
   "source": [
    "## 7. Stochastic Gradient Descent Regressor"
   ]
  },
  {
   "cell_type": "code",
   "execution_count": 28,
   "metadata": {},
   "outputs": [
    {
     "name": "stdout",
     "output_type": "stream",
     "text": [
      "RMSE on test set using Stochastic Gradient Descent Regressor: 0.13474230379052013\n",
      "Average cross-validation RMSE using Stochastic Gradient Descent Regressor: 0.13114358338500087 \n",
      "with standard deviation: 0.0017745957773854135\n"
     ]
    }
   ],
   "source": [
    "SGD_test_rmse = model_fit_test(SGDRegressor())\n",
    "print(\"RMSE on test set using Stochastic Gradient Descent Regressor:\", SGD_test_rmse)\n",
    "\n",
    "SGD_crossval_mean, SGD_crossval_std = model_crossval_errors(SGDRegressor(), 5)\n",
    "print(\"Average cross-validation RMSE using Stochastic Gradient Descent Regressor:\", SGD_crossval_mean,\n",
    "     \"\\nwith standard deviation:\", SGD_crossval_std)"
   ]
  },
  {
   "cell_type": "markdown",
   "metadata": {},
   "source": [
    "## 8. Bayesian Ridge Regressor"
   ]
  },
  {
   "cell_type": "code",
   "execution_count": 47,
   "metadata": {},
   "outputs": [
    {
     "name": "stdout",
     "output_type": "stream",
     "text": [
      "RMSE on test set using Bayesian Ridge Regressor: 0.13462640595884015\n",
      "Average cross-validation RMSE using Bayesian Ridge Regressor: 0.13099426340844061 \n",
      "with standard deviation: 0.0016073305938551566\n"
     ]
    }
   ],
   "source": [
    "BRR_test_rmse = model_fit_test(BayesianRidge())\n",
    "print(\"RMSE on test set using Bayesian Ridge Regressor:\", BRR_test_rmse)\n",
    "\n",
    "BRR_crossval_mean, BRR_crossval_std = model_crossval_errors(BayesianRidge(), 5)\n",
    "print(\"Average cross-validation RMSE using Bayesian Ridge Regressor:\", BRR_crossval_mean,\n",
    "     \"\\nwith standard deviation:\", BRR_crossval_std)"
   ]
  },
  {
   "cell_type": "markdown",
   "metadata": {},
   "source": [
    "## Comparing the models"
   ]
  },
  {
   "cell_type": "code",
   "execution_count": 50,
   "metadata": {},
   "outputs": [
    {
     "data": {
      "text/plain": [
       "<matplotlib.legend.Legend at 0x23f1a247f88>"
      ]
     },
     "execution_count": 50,
     "metadata": {},
     "output_type": "execute_result"
    },
    {
     "data": {
      "image/png": "[encoded data removed]",
      "text/plain": [
       "<Figure size 432x288 with 1 Axes>"
      ]
     },
     "metadata": {
      "needs_background": "light"
     },
     "output_type": "display_data"
    }
   ],
   "source": [
    "models = [\"LR\", \"DT\", \"RF\", \"KNN\", \"SVR\", \"GBR\", \"SGD\", \"BRR\"]\n",
    "crossval_means = [LR_crossval_mean, DT_crossval_mean, RF_crossval_mean, KNN_crossval_mean, SVR_crossval_mean,\n",
    "                 GBR_crossval_mean, SGD_crossval_mean, BRR_crossval_mean]\n",
    "crossval_stds = [LR_crossval_std, DT_crossval_std, RF_crossval_std, KNN_crossval_std, SVR_crossval_std,\n",
    "                 GBR_crossval_std, SGD_crossval_std, BRR_crossval_std]\n",
    "test_rmses = [LR_test_rmse, DT_test_rmse, RF_test_rmse, KNN_test_rmse, SVR_test_rmse,\n",
    "              GBR_test_rmse, SGD_test_rmse, BRR_test_rmse]\n",
    "plt.errorbar(models, crossval_means, yerr=crossval_stds, fmt='.', label=\"Cross-val RMSE with cv=5\")\n",
    "plt.plot(models, test_rmses, '.', label=\"RMSE on test set\")\n",
    "plt.legend()"
   ]
  },
  {
   "cell_type": "markdown",
   "metadata": {},
   "source": [
    "Very slight improvement but bigger standard deviation. We would still have the tendency to take the scaled inputs.\n",
    "\n",
    "### 3. Random Forest B. Optimising hyperparameters\n",
    "\n",
    "Running multiple times, itially got best params: max_features = 2 and n_estimators = 30 (which was the max value) and trying th grid search multiple times, we reached: max_features = 2 and n_estimators = 135"
   ]
  },
  {
   "cell_type": "code",
   "execution_count": 29,
   "metadata": {
    "scrolled": true
   },
   "outputs": [
    {
     "data": {
      "text/plain": [
       "<ErrorbarContainer object of 3 artists>"
      ]
     },
     "execution_count": 29,
     "metadata": {},
     "output_type": "execute_result"
    },
    {
     "data": {
      "image/png": "[encoded data removed]",
      "text/plain": [
       "<Figure size 432x288 with 1 Axes>"
      ]
     },
     "metadata": {
      "needs_background": "light"
     },
     "output_type": "display_data"
    }
   ],
   "source": [
    "# USING SCALED VALUES\n",
    "n_est = np.array([5, 10, 15, 20, 25, 30, 40, 50, 75, 100, 125, 150])\n",
    "RF_crossval_rmse_mean = []\n",
    "RF_crossval_rmse_std = []\n",
    "for n in n_est:\n",
    "    mean, std = model_crossval_errors(RandomForestRegressor(max_features = 2, n_estimators = n, \n",
    "                                                            random_state=42), 10, \"scale\")\n",
    "\n",
    "    RF_crossval_rmse_mean = np.append(RF_crossval_rmse_mean, mean)\n",
    "    RF_crossval_rmse_std = np.append(RF_crossval_rmse_std, std)\n",
    "    \n",
    "plt.errorbar(n_est, RF_crossval_rmse_mean, yerr = RF_crossval_rmse_std, fmt='.')"
   ]
  },
  {
   "cell_type": "code",
   "execution_count": 30,
   "metadata": {},
   "outputs": [
    {
     "data": {
      "text/plain": [
       "<ErrorbarContainer object of 3 artists>"
      ]
     },
     "execution_count": 30,
     "metadata": {},
     "output_type": "execute_result"
    },
    {
     "data": {
      "image/png": "[encoded data removed]",
      "text/plain": [
       "<Figure size 432x288 with 1 Axes>"
      ]
     },
     "metadata": {
      "needs_background": "light"
     },
     "output_type": "display_data"
    }
   ],
   "source": [
    "# USING SCALED VALUES\n",
    "max_feat = np.array([1,2,3,4,5])\n",
    "RF_crossval_rmse_mean = []\n",
    "RF_crossval_rmse_std = []\n",
    "for n in max_feat:\n",
    "    mean, std = model_crossval_errors(RandomForestRegressor(max_features = n, n_estimators = 50,\n",
    "                                                           random_state=42), 10, \"scale\")\n",
    "\n",
    "    RF_crossval_rmse_mean = np.append(RF_crossval_rmse_mean, mean)\n",
    "    RF_crossval_rmse_std = np.append(RF_crossval_rmse_std, std)\n",
    "    \n",
    "plt.errorbar(max_feat, RF_crossval_rmse_mean, yerr = RF_crossval_rmse_std, fmt='.')"
   ]
  },
  {
   "cell_type": "markdown",
   "metadata": {},
   "source": [
    "On the scale of the standard deviations, the error from n_estimators = 50 is very close to the error from the larger n_estimators values. We will be choosing this value of n_estimators = 50 in the future to limit the number of steps and decrease processing time while having a fine-tuned model.\n",
    "\n",
    "### 3. Random Forest C. Importance of the different filters"
   ]
  },
  {
   "cell_type": "raw",
   "metadata": {},
   "source": [
    "# using max_features=2 and n_estimators=135\n",
    "feature_importances = grid_search.best_estimator_.feature_importances_\n",
    "feature_importances\n",
    "\n",
    "#in the order of the data frame: [\"u\", \"g\", \"r\", \"i\", \"z\"]\n",
    "# outputs: array([0.05477891, 0.32373483, 0.30416697, 0.22426235, 0.09305694])"
   ]
  },
  {
   "cell_type": "code",
   "execution_count": 109,
   "metadata": {},
   "outputs": [
    {
     "data": {
      "image/png": "[encoded data removed]",
      "text/plain": [
       "<Figure size 432x288 with 1 Axes>"
      ]
     },
     "metadata": {
      "needs_background": "light"
     },
     "output_type": "display_data"
    }
   ],
   "source": [
    "sorted_indices = np.argsort(feature_importances)[::-1]\n",
    "feature_importances = np.array([0.05477891, 0.32373483, 0.30416697, 0.22426235, 0.09305694])\n",
    "plt.title('Feature Importance')\n",
    "plt.bar(range(x_train.shape[1]), feature_importances[sorted_indices], align='center')\n",
    "plt.xticks(range(x_train.shape[1]), x_train.columns[sorted_indices], rotation=90)\n",
    "plt.tight_layout()\n",
    "plt.show()"
   ]
  },
  {
   "cell_type": "markdown",
   "metadata": {},
   "source": [
    "### 3. Random Forest D. Attempting to vary redshift (and minimum magnitude)"
   ]
  },
  {
   "cell_type": "code",
   "execution_count": 7,
   "metadata": {},
   "outputs": [
    {
     "data": {
      "text/plain": [
       "<ErrorbarContainer object of 3 artists>"
      ]
     },
     "execution_count": 7,
     "metadata": {},
     "output_type": "execute_result"
    },
    {
     "data": {
      "image/png": "[encoded data removed]",
      "text/plain": [
       "<Figure size 432x288 with 1 Axes>"
      ]
     },
     "metadata": {
      "needs_background": "light"
     },
     "output_type": "display_data"
    }
   ],
   "source": [
    "def model_crossval_errors(model, cv, x):\n",
    "    if x==\"scale\":\n",
    "        scaler = StandardScaler()\n",
    "        x_train_scaled = scaler.fit_transform(x_train.astype(np.float64))\n",
    "        x_test_scaled = scaler.fit_transform(x_test.astype(np.float64))\n",
    "\n",
    "        scores = cross_val_score(model, x_train_scaled, y_train,\n",
    "                             scoring=\"neg_mean_squared_error\", cv=cv)\n",
    "        rmse_scores = np.sqrt(-scores)\n",
    "        \n",
    "    else:\n",
    "        scores = cross_val_score(model, x_train, y_train,\n",
    "                             scoring=\"neg_mean_squared_error\", cv=cv)\n",
    "        rmse_scores = np.sqrt(-scores)\n",
    "\n",
    "    return rmse_scores.mean(), rmse_scores.std();\n",
    "\n",
    "redshift_values = [0.1, 0.2, 0.3, 0.4, 0.5, 0.6, 0.7, 0.8, 0.9, 1.0, 1.2, 1.4, 1.6, 1.8, 2.0]\n",
    "# just the maximum r value for now\n",
    "r_values = [30]\n",
    "RF_crossval_rmse_mean = []\n",
    "RF_crossval_rmse_std = []\n",
    "\n",
    "for max_redshift in redshift_values:\n",
    "    for max_r in r_values:\n",
    "        \n",
    "        def get_train_test(max_redshift, max_r):\n",
    "            # load\n",
    "            df = pd.read_csv(\"star_classification.csv\")\n",
    "            # remove outliers\n",
    "            # select the row with u or z or g below 0 (should not be allowed)\n",
    "            outliers = df[(df[\"u\"] <= 0)  \n",
    "                        | (df[\"z\"] <= 0) \n",
    "                        | (df[\"g\"] <= 0)\n",
    "                        | (df[\"redshift\"] <= 0)\n",
    "                        # GREAT improvement in predicting power when removing the >1 redshifts\n",
    "                        | (df[\"redshift\"] > max_redshift)\n",
    "                        | (df[\"r\"] > max_r)]\n",
    "\n",
    "            # drop the row corresponding to the outlier\n",
    "            df = df.drop(outliers.index, axis=0)\n",
    "\n",
    "            # WE ONLY DEAL WITH GALAXIES HERE (see SDSS - 4 for correlations)\n",
    "            df = df[df[\"class\"] == \"GALAXY\"]\n",
    "\n",
    "            # we drop the data we are not interested in and which won't be useful\n",
    "            # expect isotropic universe -> could also drop position in sky\n",
    "            df = df.drop(\n",
    "                columns=[\"alpha\", \"delta\", \"obj_ID\", \"fiber_ID\", \"MJD\", \"plate\", \"spec_obj_ID\", \n",
    "                         \"field_ID\", \"cam_col\", \"rerun_ID\", \"run_ID\", \"class\"], axis=1)\n",
    "\n",
    "            df = df.replace([np.inf, -np.inf], np.nan)\n",
    "            df = df.dropna(axis=0)\n",
    "\n",
    "            return df\n",
    "       \n",
    "        df = get_train_test(max_redshift, max_r)\n",
    "        df = df.reset_index(drop = True)\n",
    "\n",
    "        redshift_cat_bins = np.linspace(0, max_redshift, 11)\n",
    "        df[\"redshift_cat\"] = pd.cut(df[\"redshift\"],\n",
    "                                    bins=redshift_cat_bins,\n",
    "                                    labels=[1, 2, 3, 4, 5, 6, 7, 8, 9, 10])\n",
    "                                    # if only if redshift smaller than 1!\n",
    "                                    #bins=[0., 0.2, 0.4, 0.6, 0.8, 1.0],\n",
    "                                    #labels=[1, 2, 3, 4, 5])\n",
    "\n",
    "\n",
    "        # stratified split\n",
    "        split = StratifiedShuffleSplit(n_splits=1, test_size=0.2, random_state=42)\n",
    "\n",
    "        for train_index, test_index in split.split(df, df[\"redshift_cat\"]):\n",
    "            strat_train_set = df.loc[train_index]\n",
    "            strat_test_set = df.loc[test_index]\n",
    "\n",
    "        # remove redshift category column\n",
    "        for set_ in (strat_train_set, strat_test_set):\n",
    "            set_.drop(\"redshift_cat\", axis=1, inplace=True)\n",
    "\n",
    "        x_train = strat_train_set.drop(\"redshift\", axis=1)\n",
    "        x_train = x_train.reset_index(drop = True)\n",
    "        x_test = strat_test_set.drop(\"redshift\", axis=1)\n",
    "        x_test = x_test.reset_index(drop = True)\n",
    "\n",
    "        y_train = strat_train_set[\"redshift\"]\n",
    "        y_train = y_train.reset_index(drop = True)\n",
    "        y_test = strat_test_set[\"redshift\"]\n",
    "        y_test = y_test.reset_index(drop = True)\n",
    "        \n",
    "        mean, std = model_crossval_errors(RandomForestRegressor(max_features = 2, n_estimators = 50,\n",
    "                                                               random_state=42), 2, \"scale\")\n",
    "        RF_crossval_rmse_mean = np.append(RF_crossval_rmse_mean, mean)\n",
    "        RF_crossval_rmse_std = np.append(RF_crossval_rmse_std, std)\n",
    "        \n",
    "plt.errorbar(redshift_values, RF_crossval_rmse_mean, yerr = RF_crossval_rmse_std, fmt='.')"
   ]
  },
  {
   "cell_type": "markdown",
   "metadata": {},
   "source": [
    "<font color='red'>\n",
    "Things to do:\n",
    " \n",
    "1. random parameter search sur RF et comparer avec article\n",
    "   \n",
    "2. si differents, comparer les deux modeles sur mon dataset (voir si bonne generalisation sur DR17)\n",
    "    \n",
    "3. essayer peut-etre de manuellement (force brute) trouver parametres ideaux\n",
    "    \n",
    "4. similarily, essayer d'acceder DR12 et voir ma generalisation sur le dataset\n",
    "</font>\n",
    "\n",
    "### 3. Random Forest E. Random Hyperparameters Search "
   ]
  },
  {
   "cell_type": "code",
   "execution_count": 16,
   "metadata": {
    "collapsed": true,
    "jupyter": {
     "outputs_hidden": true
    }
   },
   "outputs": [
    {
     "name": "stdout",
     "output_type": "stream",
     "text": [
      "{'n_estimators': 66, 'min_weight_fraction_leaf': 0, 'min_samples_split': 73, 'min_samples_leaf': 64, 'max_features': 5}\n",
      "Time taken for random search with 10  iterations:  203.1249234676361\n",
      "{'n_estimators': 187, 'min_weight_fraction_leaf': 0, 'min_samples_split': 44, 'min_samples_leaf': 25, 'max_features': 3}\n",
      "Time taken for random search with 20  iterations:  483.2149384021759\n",
      "{'n_estimators': 89, 'min_weight_fraction_leaf': 0, 'min_samples_split': 22, 'min_samples_leaf': 38, 'max_features': 2}\n",
      "Time taken for random search with 30  iterations:  246.7203652858734\n"
     ]
    }
   ],
   "source": [
    "param_grid = {'n_estimators': np.linspace(1,200,200).astype(int), \n",
    "               'max_features': np.linspace(1,5,5).astype(int),\n",
    "               #'criterion': ['mse', 'mae'],\n",
    "               'min_samples_split': np.linspace(2,100,99).astype(int),\n",
    "               'min_samples_leaf': np.linspace(1,100,100).astype(int),\n",
    "               'min_weight_fraction_leaf': [0, 0.1, 0.2, 0.3, 0.4]}\n",
    "\n",
    "forest_reg = RandomForestRegressor(random_state=42)\n",
    "\n",
    "number_iterations = [10, 20, 30]\n",
    "\n",
    "for n in number_iterations:\n",
    "    start_time = time.time()\n",
    "    random_search = RandomizedSearchCV(forest_reg, param_distributions=param_grid,\n",
    "                                  cv = 3, n_iter = n)\n",
    "    random_search.fit(x_train_scaled, y_train)\n",
    "    print(random_search.best_params_)\n",
    "    print(\"Time taken for random search with\", n, \" iterations: \", time.time() - start_time)\n"
   ]
  },
  {
   "cell_type": "code",
   "execution_count": 20,
   "metadata": {},
   "outputs": [
    {
     "data": {
      "text/plain": [
       "{'max_features': 3,\n",
       " 'min_samples_leaf': 25,\n",
       " 'min_samples_split': 40,\n",
       " 'min_weight_fraction_leaf': 0,\n",
       " 'n_estimators': 50}"
      ]
     },
     "execution_count": 20,
     "metadata": {},
     "output_type": "execute_result"
    }
   ],
   "source": [
    "param_grid = {'n_estimators': [50], \n",
    "               'max_features': [3],\n",
    "               #'criterion': ['mse', 'mae'],\n",
    "               'min_samples_split': [30,40,50],\n",
    "               'min_samples_leaf': [25],\n",
    "               'min_weight_fraction_leaf': [0]}\n",
    "\n",
    "forest_reg = RandomForestRegressor(random_state=42)\n",
    "\n",
    "grid_search = GridSearchCV(forest_reg, param_grid, cv=3,\n",
    "                           scoring='neg_mean_squared_error',\n",
    "                           return_train_score=True)\n",
    "\n",
    "grid_search.fit(x_train_scaled, y_train)\n",
    "\n",
    "grid_search.best_params_"
   ]
  },
  {
   "cell_type": "markdown",
   "metadata": {},
   "source": [
    "## Testing optimised models\n",
    "\n",
    "## 1. Random Forest\n",
    "\n",
    "{'max_features': 3, 'min_samples_leaf': 25, 'min_samples_split': 40,'min_weight_fraction_leaf': 0,'n_estimators': 50}"
   ]
  },
  {
   "cell_type": "code",
   "execution_count": 54,
   "metadata": {},
   "outputs": [
    {
     "name": "stdout",
     "output_type": "stream",
     "text": [
      "RMSE on test set using fine tuned Random Forest Regressor: 0.11287084257818789\n",
      "Average cross-validation RMSE using Random Forest Regressor: 0.10865080355054094 \n",
      "with standard deviation: 0.00178082180985961\n"
     ]
    }
   ],
   "source": [
    "RF_test_rmse = model_fit_test(RandomForestRegressor(max_features=3, min_samples_leaf=25, min_samples_split=40,\n",
    "                                                    min_weight_fraction_leaf=0,n_estimators=50,random_state=42))\n",
    "print(\"RMSE on test set using fine tuned Random Forest Regressor:\", RF_test_rmse)\n",
    "\n",
    "RF_crossval_mean, RF_crossval_std = model_crossval_errors(RandomForestRegressor(max_features=3, \n",
    "                                                min_samples_leaf=25, min_samples_split=40,\n",
    "                                                min_weight_fraction_leaf=0,n_estimators=50,random_state=42),5)\n",
    "print(\"Average cross-validation RMSE using Random Forest Regressor:\", RF_crossval_mean,\n",
    "     \"\\nwith standard deviation:\", RF_crossval_std)"
   ]
  },
  {
   "cell_type": "markdown",
   "metadata": {},
   "source": [
    "## 2. K-Nearest Neighbors\n",
    "\n",
    "{'leaf_size': 1, 'n_neighbors': 20, 'p': 1}"
   ]
  },
  {
   "cell_type": "code",
   "execution_count": 64,
   "metadata": {
    "collapsed": true,
    "jupyter": {
     "outputs_hidden": true,
     "source_hidden": true
    }
   },
   "outputs": [
    {
     "data": {
      "text/plain": [
       "{'leaf_size': 1, 'n_neighbors': 20, 'p': 1}"
      ]
     },
     "execution_count": 64,
     "metadata": {},
     "output_type": "execute_result"
    }
   ],
   "source": [
    "param_grid = {'n_neighbors': [19,20,21],\n",
    "               'p': [1,2],\n",
    "               'leaf_size': [1]}\n",
    "\n",
    "neigh = KNeighborsRegressor()\n",
    "\n",
    "grid_search = GridSearchCV(neigh, param_grid, cv=3)\n",
    "\n",
    "grid_search.fit(x_train_scaled, y_train)\n",
    "\n",
    "grid_search.best_params_"
   ]
  },
  {
   "cell_type": "code",
   "execution_count": 65,
   "metadata": {},
   "outputs": [
    {
     "name": "stdout",
     "output_type": "stream",
     "text": [
      "RMSE on test set using fine tuned KNN Regressor: 0.11556844649185197\n",
      "Average cross-validation RMSE using KNN Regressor: 0.11160521448891958 \n",
      "with standard deviation: 0.001785329424830891\n"
     ]
    }
   ],
   "source": [
    "KNN_test_rmse = model_fit_test(KNeighborsRegressor(leaf_size=1, n_neighbors=20, p=1))\n",
    "print(\"RMSE on test set using fine tuned KNN Regressor:\", KNN_test_rmse)\n",
    "\n",
    "KNN_crossval_mean, KNN_crossval_std = model_crossval_errors(KNeighborsRegressor(leaf_size=1, n_neighbors=20, p=1)\n",
    "                                                          ,5)\n",
    "print(\"Average cross-validation RMSE using KNN Regressor:\", KNN_crossval_mean,\n",
    "     \"\\nwith standard deviation:\", KNN_crossval_std)"
   ]
  },
  {
   "cell_type": "markdown",
   "metadata": {},
   "source": [
    "## 3. Support Vector Regressor\n",
    "\n",
    "{'C': 1.5, 'cache_size': 200, 'degree': 2, 'epsilon': 0.1}"
   ]
  },
  {
   "cell_type": "code",
   "execution_count": 67,
   "metadata": {},
   "outputs": [
    {
     "data": {
      "text/plain": [
       "{'C': 1.5, 'cache_size': 200, 'degree': 2, 'epsilon': 0.1}"
      ]
     },
     "execution_count": 67,
     "metadata": {},
     "output_type": "execute_result"
    }
   ],
   "source": [
    "param_grid = {'degree': [2,3,4], \n",
    "               'C': [1,1.5,2],\n",
    "               'epsilon': [0.1],\n",
    "               'cache_size': [200,250]}\n",
    "\n",
    "sv_reg = SVR()\n",
    "\n",
    "grid_search = GridSearchCV(sv_reg, param_grid, cv=3)\n",
    "\n",
    "grid_search.fit(x_train_scaled, y_train)\n",
    "\n",
    "grid_search.best_params_"
   ]
  },
  {
   "cell_type": "code",
   "execution_count": 69,
   "metadata": {},
   "outputs": [
    {
     "name": "stdout",
     "output_type": "stream",
     "text": [
      "RMSE on test set using fine tuned Support Vector Regressor: 0.11506325495362807\n",
      "Average cross-validation RMSE using Support Vector Regressor: 0.11113890302966505 \n",
      "with standard deviation: 0.001448113319343848\n"
     ]
    }
   ],
   "source": [
    "SVR_test_rmse = model_fit_test(SVR(C=1.5, cache_size=200, degree=2, epsilon=0.1))\n",
    "print(\"RMSE on test set using fine tuned Support Vector Regressor:\", SVR_test_rmse)\n",
    "\n",
    "SVR_crossval_mean, SVR_crossval_std = model_crossval_errors(SVR(C=1.5, cache_size=200, degree=2, epsilon=0.1)\n",
    "                                                          ,5)\n",
    "print(\"Average cross-validation RMSE using Support Vector Regressor:\", SVR_crossval_mean,\n",
    "     \"\\nwith standard deviation:\", SVR_crossval_std)"
   ]
  },
  {
   "cell_type": "markdown",
   "metadata": {},
   "source": [
    "## 4. Gradient Boosting Regressor\n",
    "\n",
    "Gradient boosting is fairly robust to over-fitting so a large number usually results in better performance\n"
   ]
  },
  {
   "cell_type": "code",
   "execution_count": 80,
   "metadata": {},
   "outputs": [
    {
     "name": "stdout",
     "output_type": "stream",
     "text": [
      "{'subsample': 0.6, 'n_estimators': 200, 'min_weight_fraction_leaf': 0.1, 'min_samples_split': 100, 'min_samples_leaf': 1, 'max_features': 2, 'max_depth': 5, 'learning_rate': 0.3, 'alpha': 0.9}\n",
      "Time taken for random search with 10  iterations:  28.435109615325928\n",
      "{'subsample': 0.9, 'n_estimators': 100, 'min_weight_fraction_leaf': 0, 'min_samples_split': 25, 'min_samples_leaf': 100, 'max_features': 2, 'max_depth': 5, 'learning_rate': 0.2, 'alpha': 0.1}\n",
      "Time taken for random search with 20  iterations:  43.14496064186096\n",
      "{'subsample': 0.9, 'n_estimators': 150, 'min_weight_fraction_leaf': 0, 'min_samples_split': 50, 'min_samples_leaf': 1, 'max_features': 1, 'max_depth': 4, 'learning_rate': 0.2, 'alpha': 0.2}\n",
      "Time taken for random search with 30  iterations:  79.74619913101196\n"
     ]
    }
   ],
   "source": [
    "param_grid = {'n_estimators': [50,100,150,200], \n",
    "               'learning_rate': [0.1,0.2,0.3,0.4,0.5],\n",
    "               'min_samples_split': [2,25,50,75,100],\n",
    "               'min_samples_leaf': [1,25,50,75,100],\n",
    "               'min_weight_fraction_leaf': [0, 0.1, 0.2, 0.3, 0.4],\n",
    "               'subsample': [0.1,0.2,0.3,0.4,0.5,0.6,0.7,0.8,0.9,1],\n",
    "               'max_features': [1,2,3,4,5],\n",
    "               'alpha': [0.1,0.2,0.3,0.4,0.5,0.6,0.7,0.8,0.9],\n",
    "               'max_depth': [1,2,3,4,5]}\n",
    "\n",
    "GB_reg = GradientBoostingRegressor(random_state=42)\n",
    "\n",
    "number_iterations = [10, 20, 30]\n",
    "\n",
    "for n in number_iterations:\n",
    "    start_time = time.time()\n",
    "    random_search = RandomizedSearchCV(GB_reg, param_distributions=param_grid,\n",
    "                                  cv = 3, n_iter = n)\n",
    "    random_search.fit(x_train_scaled, y_train)\n",
    "    print(random_search.best_params_)\n",
    "    print(\"Time taken for random search with\", n, \" iterations: \", time.time() - start_time)"
   ]
  },
  {
   "cell_type": "code",
   "execution_count": 81,
   "metadata": {},
   "outputs": [
    {
     "name": "stdout",
     "output_type": "stream",
     "text": [
      "{'subsample': 0.8, 'n_estimators': 150, 'min_weight_fraction_leaf': 0, 'min_samples_split': 100, 'min_samples_leaf': 50, 'max_features': 2, 'max_depth': 4, 'learning_rate': 0.3, 'alpha': 0.3}\n",
      "Time taken for random search with 100  iterations:  1059.6256692409515\n",
      "{'subsample': 1, 'n_estimators': 100, 'min_weight_fraction_leaf': 0, 'min_samples_split': 75, 'min_samples_leaf': 25, 'max_features': 2, 'max_depth': 5, 'learning_rate': 0.1, 'alpha': 0.6}\n",
      "Time taken for random search with 200  iterations:  1742.9782285690308\n"
     ]
    }
   ],
   "source": [
    "{'subsample': 0.8, 'n_estimators': 150, 'min_weight_fraction_leaf': 0, \n",
    " 'min_samples_split': 100, 'min_samples_leaf': 50, 'max_features': 2, \n",
    " 'max_depth': 4, 'learning_rate': 0.3, 'alpha': 0.3}\n",
    "\n",
    "param_grid = {'n_estimators': [50,100,150,200], \n",
    "               'learning_rate': [0.1,0.2,0.3,0.4,0.5],\n",
    "               'min_samples_split': [2,25,50,75,100],\n",
    "               'min_samples_leaf': [1,25,50,75,100],\n",
    "               'min_weight_fraction_leaf': [0, 0.1, 0.2, 0.3, 0.4],\n",
    "               'subsample': [0.1,0.2,0.3,0.4,0.5,0.6,0.7,0.8,0.9,1],\n",
    "               'max_features': [1,2,3,4,5],\n",
    "               'alpha': [0.1,0.2,0.3,0.4,0.5,0.6,0.7,0.8,0.9],\n",
    "               'max_depth': [1,2,3,4,5]}\n",
    "\n",
    "GB_reg = GradientBoostingRegressor(random_state=42)\n",
    "\n",
    "number_iterations = [100, 200]\n",
    "\n",
    "for n in number_iterations:\n",
    "    start_time = time.time()\n",
    "    random_search = RandomizedSearchCV(GB_reg, param_distributions=param_grid,\n",
    "                                  cv = 3, n_iter = n)\n",
    "    random_search.fit(x_train_scaled, y_train)\n",
    "    print(random_search.best_params_)\n",
    "    print(\"Time taken for random search with\", n, \" iterations: \", time.time() - start_time)"
   ]
  },
  {
   "cell_type": "code",
   "execution_count": 82,
   "metadata": {},
   "outputs": [
    {
     "data": {
      "text/plain": [
       "{'alpha': 0.3,\n",
       " 'learning_rate': 0.2,\n",
       " 'max_depth': 5,\n",
       " 'max_features': 3,\n",
       " 'min_samples_leaf': 25,\n",
       " 'min_samples_split': 100,\n",
       " 'min_weight_fraction_leaf': 0,\n",
       " 'n_estimators': 50,\n",
       " 'subsample': 0.8}"
      ]
     },
     "execution_count": 82,
     "metadata": {},
     "output_type": "execute_result"
    }
   ],
   "source": [
    "param_grid = {'n_estimators': [50], \n",
    "               'learning_rate': [0.2,0.3],\n",
    "               'min_samples_split': [100],\n",
    "               'min_samples_leaf': [25,50],\n",
    "               'min_weight_fraction_leaf': [0],\n",
    "               'subsample': [0.8],\n",
    "               'max_features': [2,3],\n",
    "               'alpha': [0.3,0.5],\n",
    "               'max_depth': [4,5]}\n",
    "\n",
    "GB_reg = GradientBoostingRegressor(random_state=42)\n",
    "\n",
    "grid_search = GridSearchCV(GB_reg, param_grid, cv=3)\n",
    "\n",
    "grid_search.fit(x_train_scaled, y_train)\n",
    "\n",
    "grid_search.best_params_"
   ]
  },
  {
   "cell_type": "code",
   "execution_count": 85,
   "metadata": {},
   "outputs": [
    {
     "name": "stdout",
     "output_type": "stream",
     "text": [
      "RMSE on test set using fine tuned Gradient Boosting Regressor: 0.11489842371767413\n",
      "Average cross-validation RMSE using Gradient Boosted Regressor: 0.11085817260797477 \n",
      "with standard deviation: 0.001871698943159269\n"
     ]
    }
   ],
   "source": [
    "GBR_test_rmse = model_fit_test(GradientBoostingRegressor(alpha=0.3,learning_rate=0.2,max_depth=5,max_features=3,min_samples_leaf=25,min_samples_split=100,min_weight_fraction_leaf=0,n_estimators=50,subsample=0.8, random_state=42))\n",
    "print(\"RMSE on test set using fine tuned Gradient Boosting Regressor:\", GBR_test_rmse)\n",
    "\n",
    "GBR_crossval_mean, GBR_crossval_std = model_crossval_errors(GradientBoostingRegressor(alpha=0.3,learning_rate=0.2,max_depth=5,max_features=3,min_samples_leaf=25,min_samples_split=100,min_weight_fraction_leaf=0,n_estimators=50,subsample=0.8, random_state=42)\n",
    "                                                          ,5)\n",
    "print(\"Average cross-validation RMSE using Gradient Boosted Regressor:\", GBR_crossval_mean,\n",
    "     \"\\nwith standard deviation:\", GBR_crossval_std)"
   ]
  },
  {
   "cell_type": "markdown",
   "metadata": {},
   "source": [
    "**Trying baysian optimisation with optuna ... (FAIL)**"
   ]
  },
  {
   "cell_type": "markdown",
   "metadata": {
    "jupyter": {
     "outputs_hidden": true,
     "source_hidden": true
    }
   },
   "source": [
    "# !pip install --quiet optuna\n",
    "import optuna \n",
    "from optuna.samplers import TPESampler\n",
    "from sklearn.model_selection import cross_val_score\n",
    "\n",
    "def objective(trial):\n",
    "    \"\"\"return the f1-score\"\"\"\n",
    "\n",
    "    # search space\n",
    "    n_estimators =  trial.suggest_int('n_estimators', low=100, high=200, step=50)\n",
    "    criterion = trial.suggest_categorical('criterion', ['mse', 'mae'])\n",
    "    min_samples_split = trial.suggest_int('min_samples_split', low=2, high=4, step=1)\n",
    "    min_samples_leaf = trial.suggest_int('min_samples_leaf', low=1, high=5, step=1)\n",
    "    max_depth = trial.suggest_int('max_depth', low=5, high=7, step=1)\n",
    "    max_features = trial.suggest_categorical('max_features', ['auto', 'sqrt','log2'])\n",
    "\n",
    "    # random forest classifier object\n",
    "    rfc = RandomForestClassifier(n_estimators=n_estimators, \n",
    "                                 criterion=criterion,\n",
    "                                 min_samples_split=min_samples_split,\n",
    "                                 min_samples_leaf=min_samples_leaf,\n",
    "                                 max_depth=max_depth, \n",
    "                                 max_features=max_features,\n",
    "                                 random_state=42)\n",
    "    \n",
    "    score =  cross_val_score(estimator=rfc, \n",
    "                             X=x_train, \n",
    "                             y=y_train, \n",
    "                             scoring='f1_micro',\n",
    "                             cv=5,\n",
    "                             n_jobs=-1).mean()\n",
    "    \n",
    "    return score\n",
    "\n",
    "# create a study (aim to maximize score)\n",
    "study = optuna.create_study(sampler=TPESampler(), direction='maximize')\n",
    "\n",
    "# perform hyperparamter tuning\n",
    "study.optimize(objective, n_trials=100)\n",
    "\n",
    "# store result in a data frame \n",
    "values_bayesian = [study.best_trial.number, study.best_trial.value]"
   ]
  },
  {
   "cell_type": "code",
   "execution_count": null,
   "metadata": {},
   "outputs": [],
   "source": []
  }
 ],
 "metadata": {
  "kernelspec": {
   "display_name": "Python 3",
   "language": "python",
   "name": "python3"
  },
  "language_info": {
   "codemirror_mode": {
    "name": "ipython",
    "version": 3
   },
   "file_extension": ".py",
   "mimetype": "text/x-python",
   "name": "python",
   "nbconvert_exporter": "python",
   "pygments_lexer": "ipython3",
   "version": "3.7.4"
  }
 },
 "nbformat": 4,
 "nbformat_minor": 4
}

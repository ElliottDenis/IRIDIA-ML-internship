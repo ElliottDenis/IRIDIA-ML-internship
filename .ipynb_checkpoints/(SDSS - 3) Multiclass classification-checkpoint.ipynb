{
 "cells": [
  {
   "cell_type": "markdown",
   "metadata": {},
   "source": [
    "## Multiclass classification\n",
    "\n",
    "Note the next cell takes around 10 mins to run!\n",
    "\n",
    "This could be using the OvO strategy (One vs One classifier) where since there are 3 classes, it would train 3 binary classifiers and select the class which wins the most. Note that in this case, the OvR strategy (One vs Rest) was chosen by the model (can see in output). It would also need to train 3 binary classifiers so there's not much of a difference in performance. This quickly changes as we increase the number of classes!\n"
   ]
  },
  {
   "cell_type": "code",
   "execution_count": 5,
   "metadata": {},
   "outputs": [
    {
     "name": "stderr",
     "output_type": "stream",
     "text": [
      "C:\\Users\\ellio\\Anaconda3\\lib\\site-packages\\ipykernel_launcher.py:33: FutureWarning: \n",
      "Passing list-likes to .loc or [] with any missing label will raise\n",
      "KeyError in the future, you can use .reindex() as an alternative.\n",
      "\n",
      "See the documentation here:\n",
      "https://pandas.pydata.org/pandas-docs/stable/user_guide/indexing.html#deprecate-loc-reindex-listlike\n",
      "C:\\Users\\ellio\\Anaconda3\\lib\\site-packages\\ipykernel_launcher.py:33: FutureWarning: \n",
      "Passing list-likes to .loc or [] with any missing label will raise\n",
      "KeyError in the future, you can use .reindex() as an alternative.\n",
      "\n",
      "See the documentation here:\n",
      "https://pandas.pydata.org/pandas-docs/stable/user_guide/indexing.html#deprecate-loc-reindex-listlike\n"
     ]
    }
   ],
   "source": [
    "import pandas as pd\n",
    "import numpy as np\n",
    "from sklearn.model_selection import StratifiedShuffleSplit\n",
    "\n",
    "def get_train_test():\n",
    "    # load\n",
    "    df = pd.read_csv(\"star_classification.csv\")\n",
    "    # remove outliers\n",
    "    # select the row with u or z or g below 0 (should not be allowed)\n",
    "    outliers = df[(df[\"u\"] <= 0)  \n",
    "                | (df[\"z\"] <= 0) \n",
    "                | (df[\"g\"] <= 0)]\n",
    "\n",
    "    # drop the row corresponding to the outlier\n",
    "    df = df.drop(outliers.index, axis=0)\n",
    "    # we drop the data we are not interested in and which won't be useful\n",
    "    df = df.drop(\n",
    "        columns=[\"obj_ID\", \"fiber_ID\", \"MJD\", \"plate\", \"spec_obj_ID\", \n",
    "                 \"field_ID\", \"cam_col\", \"rerun_ID\", \"run_ID\"], axis=1)\n",
    "    \n",
    "    # replace all infinite values with NaN\n",
    "    #df = df.replace([np.inf, -np.inf], np.nan)\n",
    "    #df = df.dropna(axis=0)\n",
    "    \n",
    "    # replace star class with 1s and others with 0\n",
    "    #df.loc[df['class'] == \"STAR\", 'class'] = 1\n",
    "    #df.loc[df['class'] != \"STAR\", 'class'] = 0\n",
    "    \n",
    "    # stratified split\n",
    "    split = StratifiedShuffleSplit(n_splits=1, test_size=0.2, random_state=42)\n",
    "    \n",
    "    for train_index, test_index in split.split(df, df[\"class\"]):\n",
    "        strat_train_set = df.loc[train_index]\n",
    "        strat_test_set = df.loc[test_index]\n",
    "        \n",
    "    return strat_train_set, strat_test_set\n",
    "\n",
    "get_train_test()\n",
    "train, test = get_train_test()\n",
    "train = train.reset_index(drop=True)\n",
    "\n",
    "# seperate measurements (x) with class(y)\n",
    "x_train = train.drop(columns=[\"class\"], axis=1)\n",
    "y_train = train[\"class\"]\n",
    "\n",
    "# replace all infinite values with NaN\n",
    "x_train = x_train.replace([np.inf, -np.inf], np.nan)\n",
    "y_train = y_train.replace([np.inf, -np.inf], np.nan)\n",
    "\n",
    "# drop all the rows with NaN\n",
    "x_train = x_train.dropna(axis=0)\n",
    "y_train = y_train.dropna(axis=0)"
   ]
  },
  {
   "cell_type": "markdown",
   "metadata": {},
   "source": [
    "#### Trying with SVC"
   ]
  },
  {
   "cell_type": "code",
   "execution_count": 6,
   "metadata": {},
   "outputs": [
    {
     "name": "stderr",
     "output_type": "stream",
     "text": [
      "C:\\Users\\ellio\\Anaconda3\\lib\\site-packages\\sklearn\\svm\\base.py:193: FutureWarning: The default value of gamma will change from 'auto' to 'scale' in version 0.22 to account better for unscaled features. Set gamma explicitly to 'auto' or 'scale' to avoid this warning.\n",
      "  \"avoid this warning.\", FutureWarning)\n"
     ]
    },
    {
     "data": {
      "text/plain": [
       "SVC(C=1.0, cache_size=200, class_weight=None, coef0=0.0,\n",
       "    decision_function_shape='ovr', degree=3, gamma='auto_deprecated',\n",
       "    kernel='rbf', max_iter=-1, probability=False, random_state=None,\n",
       "    shrinking=True, tol=0.001, verbose=False)"
      ]
     },
     "execution_count": 6,
     "metadata": {},
     "output_type": "execute_result"
    }
   ],
   "source": [
    "from sklearn.svm import SVC\n",
    "svm_clf = SVC()\n",
    "svm_clf.fit(x_train, y_train) # y_train, not y_train_star\n",
    "#svm_clf.predict([some_object])\n",
    "# Takes around 10 minutes to run!!"
   ]
  },
  {
   "cell_type": "code",
   "execution_count": 8,
   "metadata": {},
   "outputs": [
    {
     "name": "stdout",
     "output_type": "stream",
     "text": [
      "The object has label: 1295    STAR\n",
      "Name: class, dtype: object in the dataset\n",
      "and the model predicts that it is a ['STAR']\n"
     ]
    }
   ],
   "source": [
    "# introduce new random object from training set\n",
    "import random\n",
    "rand_index = random.randint(0, len(x_train))\n",
    "some_object = x_train.loc[x_train.index == rand_index]\n",
    "print(\"The object has label:\", y_train.loc[x_train.index == rand_index], \"in the dataset\")\n",
    "print(\"and the model predicts that it is a\", svm_clf.predict(some_object))"
   ]
  },
  {
   "cell_type": "code",
   "execution_count": 9,
   "metadata": {},
   "outputs": [
    {
     "name": "stdout",
     "output_type": "stream",
     "text": [
      "The maximum score corresponds to: STAR\n",
      "The stored classes are: ['GALAXY' 'QSO' 'STAR'] with respective scores: [[ 1.06128058 -0.23297349  2.22567201]]\n"
     ]
    }
   ],
   "source": [
    "some_object_scores = svm_clf.decision_function(some_object)\n",
    "# shows that highest score corresponds to:\n",
    "# list of target classes stored in \"classes_\"\n",
    "print(\"The maximum score corresponds to:\", svm_clf.classes_[np.argmax(some_object_scores)])\n",
    "print(\"The stored classes are:\", svm_clf.classes_, \"with respective scores:\", some_object_scores)"
   ]
  },
  {
   "cell_type": "code",
   "execution_count": null,
   "metadata": {},
   "outputs": [
    {
     "name": "stderr",
     "output_type": "stream",
     "text": [
      "C:\\Users\\ellio\\Anaconda3\\lib\\site-packages\\sklearn\\svm\\base.py:193: FutureWarning: The default value of gamma will change from 'auto' to 'scale' in version 0.22 to account better for unscaled features. Set gamma explicitly to 'auto' or 'scale' to avoid this warning.\n",
      "  \"avoid this warning.\", FutureWarning)\n",
      "C:\\Users\\ellio\\Anaconda3\\lib\\site-packages\\sklearn\\svm\\base.py:193: FutureWarning: The default value of gamma will change from 'auto' to 'scale' in version 0.22 to account better for unscaled features. Set gamma explicitly to 'auto' or 'scale' to avoid this warning.\n",
      "  \"avoid this warning.\", FutureWarning)\n"
     ]
    }
   ],
   "source": [
    "# evaluating the performance of the model through cross validation\n",
    "from sklearn.model_selection import cross_val_score\n",
    "cross_val_score(svm_clf, x_train, y_train, cv=3, scoring=\"accuracy\")"
   ]
  },
  {
   "cell_type": "code",
   "execution_count": null,
   "metadata": {},
   "outputs": [],
   "source": [
    "from sklearn.preprocessing import StandardScaler\n",
    "scaler = StandardScaler()\n",
    "x_train_scaled = scaler.fit_transform(x_train.astype(np.float64))\n",
    "cross_val_score(svm_clf, x_train_scaled, y_train, cv=3, scoring=\"accuracy\")"
   ]
  },
  {
   "cell_type": "markdown",
   "metadata": {},
   "source": [
    "#### Trying with SGD\n",
    "\n",
    "we can also try it out with SGD. Note we train with the whole y_train and not only y_train_star -> it will run 3 binary classifiers using OvR strategy.\n",
    "\n",
    "Very quick to run (sub 1 minute)"
   ]
  },
  {
   "cell_type": "code",
   "execution_count": null,
   "metadata": {},
   "outputs": [],
   "source": [
    "from sklearn.linear_model import SGDClassifier\n",
    "sgd_clf = SGDClassifier(random_state=42)\n",
    "sgd_clf.fit(x_train, y_train)"
   ]
  },
  {
   "cell_type": "code",
   "execution_count": null,
   "metadata": {},
   "outputs": [],
   "source": [
    "print(\"Looking at decision function array below, the model predicts that the object\"\n",
    "     \"which was chosen is a\", svm_clf.classes_[np.argmax(some_object_scores)])\n",
    "sgd_clf.decision_function(some_object)"
   ]
  },
  {
   "cell_type": "code",
   "execution_count": null,
   "metadata": {},
   "outputs": [],
   "source": [
    "# evaluating the performance of the model through cross validation\n",
    "from sklearn.model_selection import cross_val_score\n",
    "cross_val_score(sgd_clf, x_train, y_train, cv=3, scoring=\"accuracy\")"
   ]
  },
  {
   "cell_type": "code",
   "execution_count": null,
   "metadata": {},
   "outputs": [],
   "source": [
    "from sklearn.preprocessing import StandardScaler\n",
    "scaler = StandardScaler()\n",
    "x_train_scaled = scaler.fit_transform(x_train.astype(np.float64))\n",
    "cross_val_score(sgd_clf, x_train_scaled, y_train, cv=3, scoring=\"accuracy\")"
   ]
  },
  {
   "cell_type": "markdown",
   "metadata": {},
   "source": [
    "Immediately improve to around 90% accuracy! Fine tuned the model!\n",
    "\n",
    "#### Trying with Random Forest"
   ]
  },
  {
   "cell_type": "code",
   "execution_count": null,
   "metadata": {},
   "outputs": [],
   "source": [
    "from sklearn.ensemble import RandomForestClassifier\n",
    "\n",
    "forest_clf = RandomForestClassifier(random_state=42)\n",
    "y_probas_forest = cross_val_predict(forest_clf, x_train, y_train, cv=3,\n",
    "                                    method=\"predict_proba\")\n",
    "y_scores_forest = y_probas_forest[:, 1]   # score = proba of positive class"
   ]
  },
  {
   "cell_type": "markdown",
   "metadata": {},
   "source": [
    "## 10. Error Analysis\n",
    "\n",
    "Maybe create a function that would automatically display confusion matrix so i can call it for every model?"
   ]
  },
  {
   "cell_type": "code",
   "execution_count": null,
   "metadata": {},
   "outputs": [],
   "source": []
  },
  {
   "cell_type": "markdown",
   "metadata": {},
   "source": [
    "#### A. For SGD"
   ]
  },
  {
   "cell_type": "code",
   "execution_count": null,
   "metadata": {},
   "outputs": [],
   "source": [
    "# sgd_clf.fit(x_train_scaled, y_train)\n",
    "#y_train_pred = sgd_clf.predict(x_train_scaled)\n",
    "\n",
    "# better to use cross-validate! -> will train model three times and test on 1/3 of trainingset\n",
    "# which is used as a test set! otherwise you would test on values you used to fit!\n",
    "y_train_pred = cross_val_predict(sgd_clf, x_train_scaled, y_train, cv=3)"
   ]
  },
  {
   "cell_type": "code",
   "execution_count": null,
   "metadata": {},
   "outputs": [],
   "source": [
    "conf_mx_SGD = confusion_matrix(y_train, y_train_pred)\n",
    "\n",
    "# obviously since its mainly galaxies, that's why it appears more white!\n",
    "plt.matshow(conf_mx_SGD, cmap=plt.cm.gray)\n",
    "\n",
    "conf_mx_SGD"
   ]
  },
  {
   "cell_type": "code",
   "execution_count": null,
   "metadata": {},
   "outputs": [],
   "source": [
    "# focusing on the ERRORS\n",
    "row_sums_SGD = conf_mx_SGD.sum(axis=1, keepdims=True)\n",
    "# divide each value by number of objects in that class -> compare error rates\n",
    "norm_conf_mx_SGD = conf_mx_SGD / row_sums_SGD\n",
    "# ignore diagonal -> zeroes\n",
    "np.fill_diagonal(norm_conf_mx_SGD, 0)\n",
    "plt.matshow(norm_conf_mx_SGD, cmap=plt.cm.gray)\n",
    "plt.show()\n",
    "\n",
    "norm_conf_mx_SGD"
   ]
  },
  {
   "cell_type": "markdown",
   "metadata": {},
   "source": [
    "The order is Galaxy, QSO, Stars so we notice that objects often get misclassified as galaxies, especially stars! However, galaxies most often get correclty classified (little errors on that row)\n",
    "\n",
    "#### B. For SVC"
   ]
  },
  {
   "cell_type": "code",
   "execution_count": null,
   "metadata": {},
   "outputs": [],
   "source": [
    "y_train_pred_SVC = cross_val_predict(svm_clf, x_train_scaled, y_train, cv=3)"
   ]
  },
  {
   "cell_type": "code",
   "execution_count": null,
   "metadata": {},
   "outputs": [],
   "source": [
    "conf_mx_SVC = confusion_matrix(y_train, y_train_pred_SVC)\n",
    "\n",
    "# obviously since its mainly galaxies, that's why it appears more white!\n",
    "plt.matshow(conf_mx_SVC, cmap=plt.cm.gray)\n",
    "plt.show()\n",
    "\n",
    "conf_mx_SVC"
   ]
  },
  {
   "cell_type": "code",
   "execution_count": null,
   "metadata": {},
   "outputs": [],
   "source": [
    "# focusing on the ERRORS\n",
    "row_sums_SVC = conf_mx_SVC.sum(axis=1, keepdims=True)\n",
    "# divide each value by number of objects in that class -> compare error rates\n",
    "norm_conf_mx_SVC = conf_mx_SVC / row_sums_SVC\n",
    "# ignore diagonal -> zeroes\n",
    "np.fill_diagonal(norm_conf_mx_SVC, 0)\n",
    "plt.matshow(norm_conf_mx_SVC, cmap=plt.cm.gray)\n",
    "plt.show()\n",
    "\n",
    "norm_conf_mx_SVC"
   ]
  },
  {
   "cell_type": "markdown",
   "metadata": {},
   "source": [
    "QSO often misclassified as Galaxies and galaxies occasionally misclassified as stars. Stars always well classified.\n",
    "\n",
    "#### C. Random Forest Classifier"
   ]
  },
  {
   "cell_type": "code",
   "execution_count": null,
   "metadata": {},
   "outputs": [],
   "source": []
  },
  {
   "cell_type": "markdown",
   "metadata": {},
   "source": [
    "### Comparing Random Forest, SGD and SVC"
   ]
  },
  {
   "cell_type": "code",
   "execution_count": null,
   "metadata": {},
   "outputs": [],
   "source": [
    "# comparing Random Forest, SGD and SVC\n",
    "# show confusion matrices side to side \n",
    "# show accuracy"
   ]
  }
 ],
 "metadata": {
  "kernelspec": {
   "display_name": "Python 3",
   "language": "python",
   "name": "python3"
  },
  "language_info": {
   "codemirror_mode": {
    "name": "ipython",
    "version": 3
   },
   "file_extension": ".py",
   "mimetype": "text/x-python",
   "name": "python",
   "nbconvert_exporter": "python",
   "pygments_lexer": "ipython3",
   "version": "3.7.4"
  }
 },
 "nbformat": 4,
 "nbformat_minor": 2
}

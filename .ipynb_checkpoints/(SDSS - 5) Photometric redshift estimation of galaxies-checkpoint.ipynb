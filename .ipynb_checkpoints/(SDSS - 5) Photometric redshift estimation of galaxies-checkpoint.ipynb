{
 "cells": [
  {
   "cell_type": "markdown",
   "metadata": {},
   "source": [
    "The data consists of 100,000 observations of space taken by the SDSS (Sloan Digital Sky Survey). Every observation is described by 17 feature columns and 1 class column which identifies it to be either a star, galaxy or quasar. (dataset reference: https://www.kaggle.com/datasets/fedesoriano/stellar-classification-dataset-sdss17?datasetId=1866141&sortBy=voteCount)\n",
    "\n",
    "Notice a much stronger correlation with redshift when compared to the other two types of objects! Might be due to more data points from further galaxies which contribute to the detection of this correlation (stars can't be detected as far as galaxies nor quasars).\n",
    "\n",
    "Potentially using data from i and r (g and z) find the redshift? Given a galaxy?\n",
    "\n",
    "Use redshift as y-value to be fitted! -> new jupyter notebook (SDSS - 5) Galaxies regression of the redshift using r and i filters.\n",
    "\n",
    "example here: https://iopscience.iop.org/article/10.1088/0004-637X/692/1/L5/meta\n",
    "\n",
    "here in the case of cosmology: https://iopscience.iop.org/article/10.1088/0004-637X/813/1/53/meta\n",
    "\n",
    "reference article for method: https://academic.oup.com/mnras/article/505/4/4847/6288434?login=true\n",
    "\n"
   ]
  },
  {
   "cell_type": "code",
   "execution_count": 1,
   "metadata": {},
   "outputs": [],
   "source": [
    "import pandas as pd\n",
    "import numpy as np\n",
    "from sklearn.model_selection import StratifiedShuffleSplit\n",
    "from sklearn.svm import SVC\n",
    "import random\n",
    "from sklearn.model_selection import cross_val_score\n",
    "from sklearn.preprocessing import StandardScaler\n",
    "from sklearn.linear_model import SGDClassifier\n",
    "from sklearn.model_selection import cross_val_score\n",
    "from sklearn.preprocessing import StandardScaler\n",
    "from sklearn.ensemble import RandomForestClassifier\n",
    "from sklearn.model_selection import cross_val_predict\n",
    "from sklearn.metrics import confusion_matrix\n",
    "import matplotlib as mpl\n",
    "import matplotlib.pyplot as plt\n",
    "import seaborn as sns\n",
    "from pandas.plotting import scatter_matrix"
   ]
  },
  {
   "cell_type": "code",
   "execution_count": 48,
   "metadata": {},
   "outputs": [
    {
     "name": "stdout",
     "output_type": "stream",
     "text": [
      "False\n"
     ]
    }
   ],
   "source": [
    "def get_train_test():\n",
    "    # load\n",
    "    df = pd.read_csv(\"star_classification.csv\")\n",
    "    # remove outliers\n",
    "    # select the row with u or z or g below 0 (should not be allowed)\n",
    "    outliers = df[(df[\"u\"] <= 0)  \n",
    "                | (df[\"z\"] <= 0) \n",
    "                | (df[\"g\"] <= 0)\n",
    "                | (df[\"redshift\"] <= 0)]\n",
    "\n",
    "    # drop the row corresponding to the outlier\n",
    "    df = df.drop(outliers.index, axis=0)\n",
    "    \n",
    "    # WE ONLY DEAL WITH GALAXIES HERE (see SDSS - 4 for correlations)\n",
    "    df = df[df[\"class\"] == \"GALAXY\"]\n",
    "    \n",
    "    # we drop the data we are not interested in and which won't be useful\n",
    "    # expect isotropic universe -> could also drop position in sky\n",
    "    df = df.drop(\n",
    "        columns=[\"alpha\", \"delta\", \"obj_ID\", \"fiber_ID\", \"MJD\", \"plate\", \"spec_obj_ID\", \n",
    "                 \"field_ID\", \"cam_col\", \"rerun_ID\", \"run_ID\", \"class\"], axis=1)\n",
    "    \n",
    "    df = df.replace([np.inf, -np.inf], np.nan)\n",
    "    df = df.dropna(axis=0)\n",
    "        \n",
    "    return df\n",
    "\n",
    "# only keeps filters and redshift\n",
    "df = get_train_test()\n",
    "# https://datatofish.com/check-nan-pandas-dataframe/\n",
    "# https://datatofish.com/rows-with-nan-pandas-dataframe/\n",
    "print(df.isnull().values.any())"
   ]
  },
  {
   "cell_type": "code",
   "execution_count": 55,
   "metadata": {},
   "outputs": [
    {
     "data": {
      "text/plain": [
       "1.995524"
      ]
     },
     "execution_count": 55,
     "metadata": {},
     "output_type": "execute_result"
    },
    {
     "data": {
      "image/png": "[encoded data removed]",
      "text/plain": [
       "<Figure size 720x144 with 1 Axes>"
      ]
     },
     "metadata": {
      "needs_background": "light"
     },
     "output_type": "display_data"
    }
   ],
   "source": [
    "df[\"redshift\"].hist(figsize=(10, 2));"
   ]
  },
  {
   "cell_type": "code",
   "execution_count": 85,
   "metadata": {},
   "outputs": [
    {
     "data": {
      "image/png": "[encoded data removed]",
      "text/plain": [
       "<Figure size 720x144 with 1 Axes>"
      ]
     },
     "metadata": {
      "needs_background": "light"
     },
     "output_type": "display_data"
    }
   ],
   "source": [
    "df[\"redshift_cat\"] = pd.cut(df[\"redshift\"],\n",
    "                            bins=[0., 0.15, 0.45, 0.6, 0.8, np.inf],\n",
    "                            labels=[1, 2, 3, 4, 5])\n",
    "df[\"redshift_cat\"].hist(figsize=(10, 2));"
   ]
  },
  {
   "cell_type": "code",
   "execution_count": 87,
   "metadata": {},
   "outputs": [
    {
     "name": "stderr",
     "output_type": "stream",
     "text": [
      "C:\\Users\\ellio\\Anaconda3\\lib\\site-packages\\ipykernel_launcher.py:5: FutureWarning: \n",
      "Passing list-likes to .loc or [] with any missing label will raise\n",
      "KeyError in the future, you can use .reindex() as an alternative.\n",
      "\n",
      "See the documentation here:\n",
      "https://pandas.pydata.org/pandas-docs/stable/user_guide/indexing.html#deprecate-loc-reindex-listlike\n",
      "  \"\"\"\n",
      "C:\\Users\\ellio\\Anaconda3\\lib\\site-packages\\ipykernel_launcher.py:6: FutureWarning: \n",
      "Passing list-likes to .loc or [] with any missing label will raise\n",
      "KeyError in the future, you can use .reindex() as an alternative.\n",
      "\n",
      "See the documentation here:\n",
      "https://pandas.pydata.org/pandas-docs/stable/user_guide/indexing.html#deprecate-loc-reindex-listlike\n",
      "  \n"
     ]
    },
    {
     "data": {
      "text/html": [
       "<div>\n",
       "<style scoped>\n",
       "    .dataframe tbody tr th:only-of-type {\n",
       "        vertical-align: middle;\n",
       "    }\n",
       "\n",
       "    .dataframe tbody tr th {\n",
       "        vertical-align: top;\n",
       "    }\n",
       "\n",
       "    .dataframe thead th {\n",
       "        text-align: right;\n",
       "    }\n",
       "</style>\n",
       "<table border=\"1\" class=\"dataframe\">\n",
       "  <thead>\n",
       "    <tr style=\"text-align: right;\">\n",
       "      <th></th>\n",
       "      <th>u</th>\n",
       "      <th>g</th>\n",
       "      <th>r</th>\n",
       "      <th>i</th>\n",
       "      <th>z</th>\n",
       "      <th>redshift</th>\n",
       "      <th>redshift_cat</th>\n",
       "    </tr>\n",
       "  </thead>\n",
       "  <tbody>\n",
       "    <tr>\n",
       "      <td>11559</td>\n",
       "      <td>NaN</td>\n",
       "      <td>NaN</td>\n",
       "      <td>NaN</td>\n",
       "      <td>NaN</td>\n",
       "      <td>NaN</td>\n",
       "      <td>NaN</td>\n",
       "      <td>NaN</td>\n",
       "    </tr>\n",
       "    <tr>\n",
       "      <td>11944</td>\n",
       "      <td>26.34951</td>\n",
       "      <td>21.85805</td>\n",
       "      <td>20.30235</td>\n",
       "      <td>19.31511</td>\n",
       "      <td>18.93399</td>\n",
       "      <td>0.514940</td>\n",
       "      <td>3</td>\n",
       "    </tr>\n",
       "    <tr>\n",
       "      <td>52976</td>\n",
       "      <td>23.28175</td>\n",
       "      <td>22.56847</td>\n",
       "      <td>20.88845</td>\n",
       "      <td>19.94134</td>\n",
       "      <td>19.25902</td>\n",
       "      <td>0.525947</td>\n",
       "      <td>3</td>\n",
       "    </tr>\n",
       "    <tr>\n",
       "      <td>39804</td>\n",
       "      <td>18.97529</td>\n",
       "      <td>16.87559</td>\n",
       "      <td>15.86866</td>\n",
       "      <td>15.38448</td>\n",
       "      <td>15.01671</td>\n",
       "      <td>0.075421</td>\n",
       "      <td>1</td>\n",
       "    </tr>\n",
       "    <tr>\n",
       "      <td>29786</td>\n",
       "      <td>NaN</td>\n",
       "      <td>NaN</td>\n",
       "      <td>NaN</td>\n",
       "      <td>NaN</td>\n",
       "      <td>NaN</td>\n",
       "      <td>NaN</td>\n",
       "      <td>NaN</td>\n",
       "    </tr>\n",
       "    <tr>\n",
       "      <td>...</td>\n",
       "      <td>...</td>\n",
       "      <td>...</td>\n",
       "      <td>...</td>\n",
       "      <td>...</td>\n",
       "      <td>...</td>\n",
       "      <td>...</td>\n",
       "      <td>...</td>\n",
       "    </tr>\n",
       "    <tr>\n",
       "      <td>41327</td>\n",
       "      <td>22.41580</td>\n",
       "      <td>20.18909</td>\n",
       "      <td>18.34374</td>\n",
       "      <td>17.75374</td>\n",
       "      <td>17.36593</td>\n",
       "      <td>0.348030</td>\n",
       "      <td>2</td>\n",
       "    </tr>\n",
       "    <tr>\n",
       "      <td>30675</td>\n",
       "      <td>27.19509</td>\n",
       "      <td>21.73223</td>\n",
       "      <td>20.45686</td>\n",
       "      <td>19.61238</td>\n",
       "      <td>19.26756</td>\n",
       "      <td>0.512165</td>\n",
       "      <td>3</td>\n",
       "    </tr>\n",
       "    <tr>\n",
       "      <td>23919</td>\n",
       "      <td>NaN</td>\n",
       "      <td>NaN</td>\n",
       "      <td>NaN</td>\n",
       "      <td>NaN</td>\n",
       "      <td>NaN</td>\n",
       "      <td>NaN</td>\n",
       "      <td>NaN</td>\n",
       "    </tr>\n",
       "    <tr>\n",
       "      <td>41046</td>\n",
       "      <td>NaN</td>\n",
       "      <td>NaN</td>\n",
       "      <td>NaN</td>\n",
       "      <td>NaN</td>\n",
       "      <td>NaN</td>\n",
       "      <td>NaN</td>\n",
       "      <td>NaN</td>\n",
       "    </tr>\n",
       "    <tr>\n",
       "      <td>43443</td>\n",
       "      <td>24.18521</td>\n",
       "      <td>21.96450</td>\n",
       "      <td>20.72861</td>\n",
       "      <td>19.76599</td>\n",
       "      <td>19.24856</td>\n",
       "      <td>0.615315</td>\n",
       "      <td>4</td>\n",
       "    </tr>\n",
       "  </tbody>\n",
       "</table>\n",
       "<p>47192 rows × 7 columns</p>\n",
       "</div>"
      ],
      "text/plain": [
       "              u         g         r         i         z  redshift redshift_cat\n",
       "11559       NaN       NaN       NaN       NaN       NaN       NaN          NaN\n",
       "11944  26.34951  21.85805  20.30235  19.31511  18.93399  0.514940            3\n",
       "52976  23.28175  22.56847  20.88845  19.94134  19.25902  0.525947            3\n",
       "39804  18.97529  16.87559  15.86866  15.38448  15.01671  0.075421            1\n",
       "29786       NaN       NaN       NaN       NaN       NaN       NaN          NaN\n",
       "...         ...       ...       ...       ...       ...       ...          ...\n",
       "41327  22.41580  20.18909  18.34374  17.75374  17.36593  0.348030            2\n",
       "30675  27.19509  21.73223  20.45686  19.61238  19.26756  0.512165            3\n",
       "23919       NaN       NaN       NaN       NaN       NaN       NaN          NaN\n",
       "41046       NaN       NaN       NaN       NaN       NaN       NaN          NaN\n",
       "43443  24.18521  21.96450  20.72861  19.76599  19.24856  0.615315            4\n",
       "\n",
       "[47192 rows x 7 columns]"
      ]
     },
     "execution_count": 87,
     "metadata": {},
     "output_type": "execute_result"
    }
   ],
   "source": [
    "# stratified split\n",
    "split = StratifiedShuffleSplit(n_splits=1, test_size=0.2, random_state=42)\n",
    "    \n",
    "for train_index, test_index in split.split(df, df[\"redshift_cat\"]):\n",
    "    strat_train_set = df.loc[train_index]\n",
    "    strat_test_set = df.loc[test_index]\n",
    "\n",
    "strat_train_set\n",
    "# will indicate the proportion of districts in each category\n",
    "#print(df[\"redshift_cat\"].value_counts() / len(df))\n",
    "#strat_test_set[\"redshift_cat\"].value_counts() / len(strat_test_set)"
   ]
  },
  {
   "cell_type": "code",
   "execution_count": null,
   "metadata": {},
   "outputs": [],
   "source": [
    "train = train.reset_index(drop=True)\n",
    "\n",
    "# seperate measurements (x) with class(y)\n",
    "x_train = train.drop(columns=[\"class\"], axis=1)\n",
    "y_train = train[\"class\"]\n",
    "\n",
    "# replace all infinite values with NaN\n",
    "x_train = x_train.replace([np.inf, -np.inf], np.nan)\n",
    "y_train = y_train.replace([np.inf, -np.inf], np.nan)\n",
    "\n",
    "# drop all the rows with NaN\n",
    "x_train = x_train.dropna(axis=0)\n",
    "y_train = y_train.dropna(axis=0)"
   ]
  }
 ],
 "metadata": {
  "kernelspec": {
   "display_name": "Python 3",
   "language": "python",
   "name": "python3"
  },
  "language_info": {
   "codemirror_mode": {
    "name": "ipython",
    "version": 3
   },
   "file_extension": ".py",
   "mimetype": "text/x-python",
   "name": "python",
   "nbconvert_exporter": "python",
   "pygments_lexer": "ipython3",
   "version": "3.7.4"
  }
 },
 "nbformat": 4,
 "nbformat_minor": 2
}

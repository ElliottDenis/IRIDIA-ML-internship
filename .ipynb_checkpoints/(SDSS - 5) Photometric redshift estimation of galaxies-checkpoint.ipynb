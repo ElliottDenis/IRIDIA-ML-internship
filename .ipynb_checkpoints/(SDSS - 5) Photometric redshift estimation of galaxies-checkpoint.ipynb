{
 "cells": [
  {
   "cell_type": "markdown",
   "metadata": {},
   "source": [
    "The data consists of 100,000 observations of space taken by the SDSS (Sloan Digital Sky Survey). Every observation is described by 17 feature columns and 1 class column which identifies it to be either a star, galaxy or quasar. (dataset reference: https://www.kaggle.com/datasets/fedesoriano/stellar-classification-dataset-sdss17?datasetId=1866141&sortBy=voteCount)\n",
    "\n",
    "Data taken from 17th data release (https://arxiv.org/abs/2112.02026) which can be found here: https://www.sdss.org/science/image-gallery/, as opposed to 12th data relsease of reference article below (https://academic.oup.com/mnras/article/505/4/4847/6288434?login=true)\n",
    "\n",
    "Notice a much stronger correlation with redshift when compared to the other two types of objects! Might be due to more data points from further galaxies which contribute to the detection of this correlation (stars can't be detected as far as galaxies nor quasars).\n",
    "\n",
    "Potentially using data from i and r (g and z) find the redshift? Given a galaxy?\n",
    "\n",
    "Use redshift as y-value to be fitted! -> new jupyter notebook (SDSS - 5) Galaxies regression of the redshift using r and i filters.\n",
    "\n",
    "example here: https://iopscience.iop.org/article/10.1088/0004-637X/692/1/L5/meta\n",
    "\n",
    "here in the case of cosmology: https://iopscience.iop.org/article/10.1088/0004-637X/813/1/53/meta\n",
    "\n",
    "reference article for method: https://academic.oup.com/mnras/article/505/4/4847/6288434?login=true\n",
    "\n",
    "- data used in that paper: https://www.sdss.org/dr12/\n",
    "\n",
    "REFERENCE ARTICLE ECRIT PAR PHD STUDENT (https://www.ucl.ac.uk/astrophysics/ben-henghes-phd-student) DE UCL SOUS SUPERVISION DE OFER LAHAV!!!!!!!!!!!!!\n",
    "\n",
    "POTENTIELLEMENT IDEES DE MEMOIRES QU'IL NA PAS LE TEMPS DE FAIRE SUR LEQUEL JE POURRAIS TRAVAILLER??? DATASETS AVAILABLE???\n",
    "-> email pour demander **how did you access dataset??**\n",
    "\n",
    "https://www.nature.com/articles/s41592-021-01205-4 page 2 as to what to include in paper!!\n",
    "\n",
    "**https://arxiv.org/pdf/2112.07811.pdf binary classifier to find outliers**\n",
    "\n",
    "https://www.connectedpapers.com/main/5b32c3a101686b7fa3148fb7be32213d332112eb/Benchmarking-and-scalability-of-machine%20learning-methods-for-photometric-redshift-estimation/graph connected papers!\n",
    "\n",
    "Three ways to optimise hyperparameters: https://towardsdatascience.com/grid-search-vs-random-search-vs-bayesian-optimization-2e68f57c3c46\n",
    "\n",
    "------------------\n",
    "\n",
    "Try to connect raspberry pi and make the code run on it (SSH connection)\n",
    "\n",
    "------------------\n",
    "\n",
    "could be interesting to look at processing time + varying the boundary redshift value and see how the predictive power changes!!"
   ]
  },
  {
   "cell_type": "code",
   "execution_count": 2,
   "metadata": {},
   "outputs": [],
   "source": [
    "# basics\n",
    "import pandas as pd\n",
    "import numpy as np\n",
    "import random\n",
    "import matplotlib as mpl\n",
    "import matplotlib.pyplot as plt\n",
    "import seaborn as sns\n",
    "import warnings\n",
    "warnings.simplefilter(action='ignore', category=FutureWarning)\n",
    "import time\n",
    "\n",
    "# creating train and test sets\n",
    "from sklearn.model_selection import StratifiedShuffleSplit\n",
    "from sklearn.preprocessing import StandardScaler\n",
    "\n",
    "# classifiers\n",
    "from sklearn.svm import SVC\n",
    "from sklearn.linear_model import SGDClassifier\n",
    "from sklearn.ensemble import RandomForestClassifier\n",
    "\n",
    "# evaluating models\n",
    "from sklearn.model_selection import cross_val_score\n",
    "from sklearn.model_selection import cross_val_predict\n",
    "from sklearn.metrics import confusion_matrix\n",
    "from pandas.plotting import scatter_matrix\n",
    "from sklearn.metrics import mean_squared_error\n",
    "\n",
    "# regressors\n",
    "from sklearn.linear_model import LinearRegression\n",
    "from sklearn.tree import DecisionTreeRegressor\n",
    "from sklearn.ensemble import RandomForestRegressor\n",
    "from sklearn.svm import SVR\n",
    "from sklearn.linear_model import SGDRegressor\n",
    "from sklearn.neighbors import KNeighborsRegressor\n",
    "from sklearn.ensemble import GradientBoostingRegressor\n",
    "from sklearn.linear_model import BayesianRidge\n",
    "from sklearn.kernel_ridge import KernelRidge\n",
    "\n",
    "# optimising models and fine tuning\n",
    "from sklearn.model_selection import GridSearchCV\n",
    "from sklearn.model_selection import RandomizedSearchCV\n"
   ]
  },
  {
   "cell_type": "code",
   "execution_count": 3,
   "metadata": {},
   "outputs": [],
   "source": [
    "def get_train_test_init():\n",
    "    \n",
    "    '''GET DATASET FROM CSV FILE, REMOVE OUTLIERS AND DROP USELESS COLUMNS,\n",
    "    ONLY KEEP FILTERS AND REDSHIFTS OF GALAXIES!! (IGNORE OTHER OBJECTS)'''\n",
    "    \n",
    "    # load\n",
    "    df = pd.read_csv(\"star_classification.csv\")\n",
    "    # remove outliers (we noticed some objects had values for u/z/g/redshift below zero)\n",
    "    outliers = df[(df[\"u\"] <= 0)  \n",
    "                | (df[\"z\"] <= 0) \n",
    "                | (df[\"g\"] <= 0)\n",
    "                | (df[\"redshift\"] <= 0)]\n",
    "\n",
    "    # drop the row corresponding to the outlier\n",
    "    df = df.drop(outliers.index, axis=0)\n",
    "    \n",
    "    # WE ONLY DEAL WITH GALAXIES HERE (see SDSS - 4 for correlations)\n",
    "    df = df[df[\"class\"] == \"GALAXY\"]\n",
    "    \n",
    "    # we drop the data we are not interested in and which won't be useful\n",
    "    # expect isotropic universe -> also drop position in sky\n",
    "    df = df.drop(\n",
    "        columns=[\"alpha\", \"delta\", \"obj_ID\", \"fiber_ID\", \"MJD\", \"plate\", \"spec_obj_ID\", \n",
    "                 \"field_ID\", \"cam_col\", \"rerun_ID\", \"run_ID\", \"class\"], axis=1)\n",
    "    \n",
    "    # replace and drop all NaN\n",
    "    df = df.replace([np.inf, -np.inf], np.nan)\n",
    "    df = df.dropna(axis=0)\n",
    "        \n",
    "    return df\n",
    "\n",
    "# only keeps filters and redshift\n",
    "df = get_train_test_init()\n",
    "# reset the index (since we only selected galaxies - reset as 0,1,2,3,4,5...)\n",
    "df = df.reset_index(drop = True)\n",
    "\n",
    "# creating categories for redshifts and prepare for splitting\n",
    "df[\"redshift_cat\"] = pd.cut(df[\"redshift\"],\n",
    "                            bins=[0., 0.15, 0.45, 0.6, 0.8, np.inf],\n",
    "                            labels=[1, 2, 3, 4, 5])\n",
    "\n",
    "# stratified split\n",
    "split = StratifiedShuffleSplit(n_splits=1, test_size=0.2, random_state=42)\n",
    "    \n",
    "# create stratified train and test sets\n",
    "for train_index, test_index in split.split(df, df[\"redshift_cat\"]):\n",
    "    strat_train_set = df.loc[train_index]\n",
    "    strat_test_set = df.loc[test_index]\n",
    "    \n",
    "# remove redshift category column\n",
    "for set_ in (strat_train_set, strat_test_set):\n",
    "    set_.drop(\"redshift_cat\", axis=1, inplace=True)\n",
    "\n",
    "# drop redshift for inputs and reset indices\n",
    "x_train = strat_train_set.drop(\"redshift\", axis=1)\n",
    "x_train = x_train.reset_index(drop = True)\n",
    "x_test = strat_test_set.drop(\"redshift\", axis=1)\n",
    "x_test = x_test.reset_index(drop = True)\n",
    "\n",
    "# only select reshifts for outputs and reset indices\n",
    "y_train = strat_train_set[\"redshift\"]\n",
    "y_train = y_train.reset_index(drop = True)\n",
    "y_test = strat_test_set[\"redshift\"]\n",
    "y_test = y_test.reset_index(drop = True)\n",
    "\n",
    "# scale inputs to check later if improves models\n",
    "x_train_scaled = StandardScaler().fit_transform(x_train)\n",
    "x_test_scaled = StandardScaler().fit_transform(x_test)"
   ]
  },
  {
   "cell_type": "code",
   "execution_count": 4,
   "metadata": {},
   "outputs": [],
   "source": [
    "def model_crossval_errors(model, cv, enable_scaler=True):\n",
    "    \n",
    "    '''TAKES A MODEL AS INPUT AND PERFORMS CROSS-VALIDATION ON THE TRAINING SET\n",
    "    TO CALCULATE THE AVERAGE RMSE GIVEN A NUMBER OF FOLDS'''\n",
    "    \n",
    "    # Default: use scaled inputs \n",
    "    if enable_scaler:\n",
    "        scores = cross_val_score(model, x_train_scaled, y_train,\n",
    "                             scoring=\"neg_mean_squared_error\", cv=cv)\n",
    "        rmse_scores = np.sqrt(-scores)\n",
    "    \n",
    "    # If something else is entered -> do not scale inputs\n",
    "    else:\n",
    "        scores = cross_val_score(model, x_train, y_train,\n",
    "                             scoring=\"neg_mean_squared_error\", cv=cv)\n",
    "        rmse_scores = np.sqrt(-scores)\n",
    "\n",
    "    # resturn the mean and standard deviation of rmse cross-validation calculations\n",
    "    return rmse_scores.mean(), rmse_scores.std();\n",
    "\n",
    "def model_fit_test(model, enable_scaler=True):\n",
    "    \n",
    "    '''TAKES A MODEL AS INPUT, FITS MODEL TO TRAINING DATA AND PREDICTS OUTPUTS FOR \n",
    "    TEST SET AS WELL AS CALCULATING RMSE ON TEST SET'''\n",
    "    \n",
    "    # Default: scale inputs\n",
    "    if enable_scaler:\n",
    "        # fit model to scaled values\n",
    "        model.fit(x_train_scaled, y_train)\n",
    "        # predict test values\n",
    "        x_test_scaled_pred = model.predict(x_test_scaled)\n",
    "        # calculate rmse\n",
    "        test_mse = mean_squared_error(y_test, x_test_scaled_pred)\n",
    "        test_rmse = np.sqrt(test_mse)\n",
    "        \n",
    "    # otherwise, do not scale inputs\n",
    "    else:\n",
    "        model.fit(x_train, y_train)\n",
    "        x_test_pred = model.predict(x_test)\n",
    "        test_mse = mean_squared_error(y_test, x_test_pred)\n",
    "        test_rmse = np.sqrt(test_mse)\n",
    "    \n",
    "    # return the rmse calculated using the predictions and given values\n",
    "    return test_rmse;"
   ]
  },
  {
   "cell_type": "markdown",
   "metadata": {},
   "source": [
    "## 1. Linear Regression"
   ]
  },
  {
   "cell_type": "code",
   "execution_count": 5,
   "metadata": {},
   "outputs": [
    {
     "name": "stdout",
     "output_type": "stream",
     "text": [
      "RMSE on test set using Linear Regression: 0.13462578543883852\n",
      "\n",
      "Average cross-validation RMSE using Linear Regression: 0.1309947637566325 \n",
      "with standard deviation: 0.0016050352262363702\n"
     ]
    }
   ],
   "source": [
    "LR_test_rmse = model_fit_test(LinearRegression())\n",
    "print(\"RMSE on test set using Linear Regression:\", LR_test_rmse)\n",
    "\n",
    "LR_crossval_mean, LR_crossval_std = model_crossval_errors(LinearRegression(), 5)\n",
    "print(\"\\nAverage cross-validation RMSE using Linear Regression:\", LR_crossval_mean,\n",
    "     \"\\nwith standard deviation:\", LR_crossval_std)"
   ]
  },
  {
   "cell_type": "markdown",
   "metadata": {},
   "source": [
    "## 2. Decision Tree Regressor"
   ]
  },
  {
   "cell_type": "code",
   "execution_count": 6,
   "metadata": {},
   "outputs": [
    {
     "name": "stdout",
     "output_type": "stream",
     "text": [
      "RMSE on test set using Decision Tree Regressor: 0.1536203582510355\n",
      "\n",
      "Average cross-validation RMSE using Decision Tree Regressor: 0.1500827280867423 \n",
      "with standard deviation: 0.005824008717948791\n"
     ]
    }
   ],
   "source": [
    "DT_test_rmse = model_fit_test(DecisionTreeRegressor())\n",
    "print(\"RMSE on test set using Decision Tree Regressor:\", DT_test_rmse)\n",
    "\n",
    "DT_crossval_mean, DT_crossval_std = model_crossval_errors(DecisionTreeRegressor(), 5)\n",
    "print(\"\\nAverage cross-validation RMSE using Decision Tree Regressor:\", DT_crossval_mean,\n",
    "     \"\\nwith standard deviation:\", DT_crossval_std)"
   ]
  },
  {
   "cell_type": "markdown",
   "metadata": {},
   "source": [
    "## 3. Random Forest Regressor"
   ]
  },
  {
   "cell_type": "code",
   "execution_count": 7,
   "metadata": {},
   "outputs": [
    {
     "name": "stdout",
     "output_type": "stream",
     "text": [
      "RMSE on test set using Random Forest Regressor: 0.11779086161695848\n",
      "Average cross-validation RMSE using Random Forest Regressor: 0.11345477823273856 \n",
      "with standard deviation: 0.0024247009552460204\n"
     ]
    }
   ],
   "source": [
    "RF_test_rmse = model_fit_test(RandomForestRegressor(random_state=42))\n",
    "print(\"RMSE on test set using Random Forest Regressor:\", RF_test_rmse)\n",
    "\n",
    "RF_crossval_mean, RF_crossval_std = model_crossval_errors(RandomForestRegressor(random_state=42), 5)\n",
    "print(\"Average cross-validation RMSE using Random Forest Regressor:\", RF_crossval_mean,\n",
    "     \"\\nwith standard deviation:\", RF_crossval_std)"
   ]
  },
  {
   "cell_type": "markdown",
   "metadata": {},
   "source": [
    "## 4. KNN Regressor"
   ]
  },
  {
   "cell_type": "code",
   "execution_count": 8,
   "metadata": {},
   "outputs": [
    {
     "name": "stdout",
     "output_type": "stream",
     "text": [
      "RMSE on test set using K-Nearest Neighbors Regressor: 0.12169595750543494\n",
      "Average cross-validation RMSE using K-Nearest Neighbors Regressor: 0.11559602726063911 \n",
      "with standard deviation: 0.0018698743364142954\n"
     ]
    }
   ],
   "source": [
    "KNN_test_rmse = model_fit_test(KNeighborsRegressor())\n",
    "print(\"RMSE on test set using K-Nearest Neighbors Regressor:\", KNN_test_rmse)\n",
    "\n",
    "KNN_crossval_mean, KNN_crossval_std = model_crossval_errors(KNeighborsRegressor(), 5)\n",
    "print(\"Average cross-validation RMSE using K-Nearest Neighbors Regressor:\", KNN_crossval_mean,\n",
    "     \"\\nwith standard deviation:\", KNN_crossval_std)"
   ]
  },
  {
   "cell_type": "markdown",
   "metadata": {},
   "source": [
    "## 5. Support Vector Regressor"
   ]
  },
  {
   "cell_type": "code",
   "execution_count": 9,
   "metadata": {},
   "outputs": [
    {
     "name": "stdout",
     "output_type": "stream",
     "text": [
      "RMSE on test set using Support Vector Regressor: 0.12169595750543494\n",
      "Average cross-validation RMSE using Support Vector Regressor: 0.11119632796227889 \n",
      "with standard deviation: 0.0014322054924855666\n"
     ]
    }
   ],
   "source": [
    "SVR_test_rmse = model_fit_test(SVR())\n",
    "print(\"RMSE on test set using Support Vector Regressor:\", KNN_test_rmse)\n",
    "\n",
    "SVR_crossval_mean, SVR_crossval_std = model_crossval_errors(SVR(), 5)\n",
    "print(\"Average cross-validation RMSE using Support Vector Regressor:\", SVR_crossval_mean,\n",
    "     \"\\nwith standard deviation:\", SVR_crossval_std)"
   ]
  },
  {
   "cell_type": "markdown",
   "metadata": {},
   "source": [
    "## 6. Gradient Boosting Regressor"
   ]
  },
  {
   "cell_type": "code",
   "execution_count": 11,
   "metadata": {},
   "outputs": [
    {
     "name": "stdout",
     "output_type": "stream",
     "text": [
      "RMSE on test set using Gradient Boosting Regressor: 0.11820851865244755\n",
      "Average cross-validation RMSE using Gradient Boosting Regressor: 0.11379668798910006 \n",
      "with standard deviation: 0.0018628873078075994\n"
     ]
    }
   ],
   "source": [
    "GBR_test_rmse = model_fit_test(GradientBoostingRegressor())\n",
    "print(\"RMSE on test set using Gradient Boosting Regressor:\", GBR_test_rmse)\n",
    "\n",
    "GBR_crossval_mean, GBR_crossval_std = model_crossval_errors(GradientBoostingRegressor(), 5)\n",
    "print(\"Average cross-validation RMSE using Gradient Boosting Regressor:\", GBR_crossval_mean,\n",
    "     \"\\nwith standard deviation:\", GBR_crossval_std)"
   ]
  },
  {
   "cell_type": "markdown",
   "metadata": {},
   "source": [
    "## 7. Stochastic Gradient Descent Regressor"
   ]
  },
  {
   "cell_type": "code",
   "execution_count": 12,
   "metadata": {},
   "outputs": [
    {
     "name": "stdout",
     "output_type": "stream",
     "text": [
      "RMSE on test set using Stochastic Gradient Descent Regressor: 0.13480942428915751\n",
      "Average cross-validation RMSE using Stochastic Gradient Descent Regressor: 0.13117575690079153 \n",
      "with standard deviation: 0.002020836022402694\n"
     ]
    }
   ],
   "source": [
    "SGD_test_rmse = model_fit_test(SGDRegressor())\n",
    "print(\"RMSE on test set using Stochastic Gradient Descent Regressor:\", SGD_test_rmse)\n",
    "\n",
    "SGD_crossval_mean, SGD_crossval_std = model_crossval_errors(SGDRegressor(), 5)\n",
    "print(\"Average cross-validation RMSE using Stochastic Gradient Descent Regressor:\", SGD_crossval_mean,\n",
    "     \"\\nwith standard deviation:\", SGD_crossval_std)"
   ]
  },
  {
   "cell_type": "markdown",
   "metadata": {},
   "source": [
    "## 8. Bayesian Ridge Regressor"
   ]
  },
  {
   "cell_type": "code",
   "execution_count": 13,
   "metadata": {},
   "outputs": [
    {
     "name": "stdout",
     "output_type": "stream",
     "text": [
      "RMSE on test set using Bayesian Ridge Regressor: 0.13462640595884015\n",
      "Average cross-validation RMSE using Bayesian Ridge Regressor: 0.13099426340844061 \n",
      "with standard deviation: 0.0016073305938551566\n"
     ]
    }
   ],
   "source": [
    "BRR_test_rmse = model_fit_test(BayesianRidge())\n",
    "print(\"RMSE on test set using Bayesian Ridge Regressor:\", BRR_test_rmse)\n",
    "\n",
    "BRR_crossval_mean, BRR_crossval_std = model_crossval_errors(BayesianRidge(), 5)\n",
    "print(\"Average cross-validation RMSE using Bayesian Ridge Regressor:\", BRR_crossval_mean,\n",
    "     \"\\nwith standard deviation:\", BRR_crossval_std)"
   ]
  },
  {
   "cell_type": "markdown",
   "metadata": {},
   "source": [
    "## Comparing the models\n",
    "\n",
    "Using default hyper parameters (models are NOT fine tuned)"
   ]
  },
  {
   "cell_type": "code",
   "execution_count": 13,
   "metadata": {},
   "outputs": [
    {
     "data": {
      "text/plain": [
       "<matplotlib.legend.Legend at 0x2b46d631b08>"
      ]
     },
     "execution_count": 13,
     "metadata": {},
     "output_type": "execute_result"
    },
    {
     "data": {
      "image/png": "[encoded data removed]",
      "text/plain": [
       "<Figure size 432x288 with 1 Axes>"
      ]
     },
     "metadata": {
      "needs_background": "light"
     },
     "output_type": "display_data"
    }
   ],
   "source": [
    "# 8 models we are evaluating here (see above)\n",
    "models = [\"LR\", \"DT\", \"RF\", \"KNN\", \"SVR\", \"GBR\", \"SGD\", \"BRR\"]\n",
    "# cross-validation means calculated above for each model\n",
    "crossval_means = [LR_crossval_mean, DT_crossval_mean, RF_crossval_mean, KNN_crossval_mean, SVR_crossval_mean,\n",
    "                 GBR_crossval_mean, SGD_crossval_mean, BRR_crossval_mean]\n",
    "# cross-validation std calculated above for each model\n",
    "crossval_stds = [LR_crossval_std, DT_crossval_std, RF_crossval_std, KNN_crossval_std, SVR_crossval_std,\n",
    "                 GBR_crossval_std, SGD_crossval_std, BRR_crossval_std]\n",
    "# test set rmse calculated above for each model\n",
    "test_rmses = [LR_test_rmse, DT_test_rmse, RF_test_rmse, KNN_test_rmse, SVR_test_rmse,\n",
    "              GBR_test_rmse, SGD_test_rmse, BRR_test_rmse]\n",
    "\n",
    "# plot rmse for each model and plot error bars using the standard deviation\n",
    "plt.errorbar(models, crossval_means, yerr=crossval_stds, fmt='.', label=\"Cross-val RMSE with cv=5\")\n",
    "plt.plot(models, test_rmses, '.', label=\"RMSE on test set\")\n",
    "plt.legend()"
   ]
  },
  {
   "cell_type": "markdown",
   "metadata": {},
   "source": [
    "Very slight improvement but bigger standard deviation. We would still have the tendency to take the scaled inputs.\n",
    "\n",
    "### Example of Optimising hyperparameters using Random Forest\n",
    "\n",
    "Running multiple times, itially got best params: max_features = 2 and n_estimators = 30 (which was the max value) and trying th grid search multiple times, we reached: max_features = 2 and n_estimators = 135"
   ]
  },
  {
   "cell_type": "code",
   "execution_count": 38,
   "metadata": {
    "scrolled": true
   },
   "outputs": [
    {
     "data": {
      "text/plain": [
       "<ErrorbarContainer object of 3 artists>"
      ]
     },
     "execution_count": 38,
     "metadata": {},
     "output_type": "execute_result"
    },
    {
     "data": {
      "image/png": "[encoded data removed]",
      "text/plain": [
       "<Figure size 432x288 with 1 Axes>"
      ]
     },
     "metadata": {
      "needs_background": "light"
     },
     "output_type": "display_data"
    }
   ],
   "source": [
    "# Doing rough testing, we notice that RF regressor works better with scaled values\n",
    "# Let's see how changing the n_estimator parameter affects the RMSE\n",
    "n_est = np.array([5, 10, 15, 20, 25, 30, 40, 50, 75, 100, 125, 150])\n",
    "# Creating arrays to store the cross-val RMSE for each n_estimator value\n",
    "RF_crossval_rmse_mean = []\n",
    "RF_crossval_rmse_std = []\n",
    "\n",
    "for n in n_est:\n",
    "    # calculate mean and std rmse using function defined above and scaled values!\n",
    "    mean, std = model_crossval_errors(RandomForestRegressor(n_estimators = n, random_state=42),5)\n",
    "\n",
    "    # add values to arrays\n",
    "    RF_crossval_rmse_mean = np.append(RF_crossval_rmse_mean, mean)\n",
    "    RF_crossval_rmse_std = np.append(RF_crossval_rmse_std, std)\n",
    "\n",
    "# plot rmse as function of n_estimators with error bars\n",
    "plt.errorbar(n_est, RF_crossval_rmse_mean, yerr = RF_crossval_rmse_std, fmt='.')"
   ]
  },
  {
   "cell_type": "code",
   "execution_count": 39,
   "metadata": {},
   "outputs": [
    {
     "data": {
      "text/plain": [
       "<ErrorbarContainer object of 3 artists>"
      ]
     },
     "execution_count": 39,
     "metadata": {},
     "output_type": "execute_result"
    },
    {
     "data": {
      "image/png": "[encoded data removed]",
      "text/plain": [
       "<Figure size 432x288 with 1 Axes>"
      ]
     },
     "metadata": {
      "needs_background": "light"
     },
     "output_type": "display_data"
    }
   ],
   "source": [
    "# Let's see how changing the ma_feature parameter affects the RMSE\n",
    "max_feat = np.array([1,2,3,4,5])\n",
    "# Creating arrays to store the cross-val RMSE for each max_feature value\n",
    "RF_crossval_rmse_mean = []\n",
    "RF_crossval_rmse_std = []\n",
    "\n",
    "for n in max_feat:\n",
    "    # calculate mean and std rmse using function defined above and scaled values!\n",
    "    mean, std = model_crossval_errors(RandomForestRegressor(max_features = n, n_estimators = 50,\n",
    "                                                           random_state=42), 5)\n",
    "\n",
    "    # add values to arrays\n",
    "    RF_crossval_rmse_mean = np.append(RF_crossval_rmse_mean, mean)\n",
    "    RF_crossval_rmse_std = np.append(RF_crossval_rmse_std, std)\n",
    "    \n",
    "# plot rmse as function of max_feature with error bars\n",
    "plt.errorbar(max_feat, RF_crossval_rmse_mean, yerr = RF_crossval_rmse_std, fmt='.')"
   ]
  },
  {
   "cell_type": "markdown",
   "metadata": {},
   "source": [
    "On the scale of the standard deviations, the error from n_estimators = 50 is very close to the error from the larger n_estimators values. We will be choosing this value of n_estimators = 50 in the future to limit the number of steps and decrease processing time while having a fine-tuned model.\n",
    "\n",
    "#### Importance of the different filters for Random Forest \n",
    "\n",
    "Lookind at histogram below, we see why max_feature is around 2/3. "
   ]
  },
  {
   "cell_type": "code",
   "execution_count": 109,
   "metadata": {},
   "outputs": [
    {
     "data": {
      "image/png": "[encoded data removed]",
      "text/plain": [
       "<Figure size 432x288 with 1 Axes>"
      ]
     },
     "metadata": {
      "needs_background": "light"
     },
     "output_type": "display_data"
    }
   ],
   "source": [
    "# using max_features=2 and n_estimators=135\n",
    "feature_importances = grid_search.best_estimator_.feature_importances_\n",
    "# outputs: np.array([0.05477891, 0.32373483, 0.30416697, 0.22426235, 0.09305694])\n",
    "\n",
    "\n",
    "#in the order of the data frame: [\"u\", \"g\", \"r\", \"i\", \"z\"]\n",
    "#outputs: array([0.05477891, 0.32373483, 0.30416697, 0.22426235, 0.09305694])\n",
    "\n",
    "# sorting by importance\n",
    "sorted_indices = np.argsort(feature_importances)[::-1]\n",
    "plt.title('Feature Importance')\n",
    "plt.bar(range(x_train.shape[1]), feature_importances[sorted_indices], align='center')\n",
    "plt.xticks(range(x_train.shape[1]), x_train.columns[sorted_indices], rotation=90)\n",
    "plt.tight_layout()\n",
    "plt.show()"
   ]
  },
  {
   "cell_type": "markdown",
   "metadata": {},
   "source": [
    "#### Attempting to vary the maximum redshift with random forest\n",
    "\n",
    "Seeing how the RMSE is affected by the maximum redshift we consider (if we put a limit on the maximum value of redshift we consider)."
   ]
  },
  {
   "cell_type": "code",
   "execution_count": 37,
   "metadata": {},
   "outputs": [
    {
     "data": {
      "text/plain": [
       "<ErrorbarContainer object of 3 artists>"
      ]
     },
     "execution_count": 37,
     "metadata": {},
     "output_type": "execute_result"
    },
    {
     "data": {
      "image/png": "[encoded data removed]",
      "text/plain": [
       "<Figure size 432x288 with 1 Axes>"
      ]
     },
     "metadata": {
      "needs_background": "light"
     },
     "output_type": "display_data"
    }
   ],
   "source": [
    "# define a few possible maximum redshift values\n",
    "redshift_values = [0.1, 0.2, 0.3, 0.4, 0.5, 0.6, 0.7, 0.8, 0.9, 1.0, 1.2, 1.4, 1.6, 1.8, 2.0]\n",
    "# introduce arrays to store cross-validation RMSE for the different maximum redshift values\n",
    "RF_crossval_rmse_mean_red = []\n",
    "RF_crossval_rmse_std_red = []\n",
    "\n",
    "# go through each redshift value\n",
    "for max_redshift in redshift_values:\n",
    "    # load data by REMOVING all values above max_redshift\n",
    "    def get_train_test(max_red):\n",
    "        \n",
    "        '''GET DATASET FROM CSV FILE, REMOVE OUTLIERS AND DROP USELESS COLUMNS,\n",
    "        ONLY KEEP FILTERS AND REDSHIFTS (BELOW THE THRESHOLD VALUE)'''\n",
    "        \n",
    "        # load\n",
    "        df = pd.read_csv(\"star_classification.csv\")\n",
    "        \n",
    "        # WE ONLY DEAL WITH GALAXIES HERE (see SDSS - 4 for correlations)\n",
    "        df = df[df[\"class\"] == \"GALAXY\"]\n",
    "        \n",
    "        # remove outliers\n",
    "        # select the row with u or z or g below 0 (should not be allowed)\n",
    "        outliers = df[(df[\"u\"] <= 0)  \n",
    "                    | (df[\"z\"] <= 0) \n",
    "                    | (df[\"g\"] <= 0)\n",
    "                    | (df[\"redshift\"] <= 0)\n",
    "                    | (df[\"redshift\"] > max_red)]\n",
    "\n",
    "        # drop the row corresponding to the outlier\n",
    "        df = df.drop(outliers.index, axis=0)\n",
    "\n",
    "        # we drop the data we are not interested in and which won't be useful\n",
    "        # expect isotropic universe -> could also drop position in sky\n",
    "        df = df.drop(\n",
    "            columns=[\"alpha\", \"delta\", \"obj_ID\", \"fiber_ID\", \"MJD\", \"plate\", \"spec_obj_ID\", \n",
    "                     \"field_ID\", \"cam_col\", \"rerun_ID\", \"run_ID\", \"class\"], axis=1)\n",
    "\n",
    "        df = df.replace([np.inf, -np.inf], np.nan)\n",
    "        df = df.dropna(axis=0)\n",
    "\n",
    "        return df\n",
    "       \n",
    "    # get the GALAXY dataset with all galaxies with redshift below threshold\n",
    "    df = get_train_test(max_redshift)\n",
    "    df = df.reset_index(drop = True)\n",
    "\n",
    "    # introduce redshift categories (enough to describe distribution well, here 10)\n",
    "    redshift_cat_bins = np.linspace(0, max_redshift, 11)\n",
    "    df[\"redshift_cat\"] = pd.cut(df[\"redshift\"],\n",
    "                                bins=redshift_cat_bins,\n",
    "                                labels=[1, 2, 3, 4, 5, 6, 7, 8, 9, 10])\n",
    "\n",
    "    # stratified split\n",
    "    split = StratifiedShuffleSplit(n_splits=1, test_size=0.2, random_state=42)\n",
    "    for train_index, test_index in split.split(df, df[\"redshift_cat\"]):\n",
    "        strat_train_set = df.loc[train_index]\n",
    "        strat_test_set = df.loc[test_index]\n",
    "\n",
    "    # remove redshift category column\n",
    "    for set_ in (strat_train_set, strat_test_set):\n",
    "        set_.drop(\"redshift_cat\", axis=1, inplace=True)\n",
    "\n",
    "    x_train_red = strat_train_set.drop(\"redshift\", axis=1)\n",
    "    x_train_red = x_train_red.reset_index(drop = True)\n",
    "    x_test_red = strat_test_set.drop(\"redshift\", axis=1)\n",
    "    x_test_red = x_test_red.reset_index(drop = True)\n",
    "\n",
    "    y_train_red = strat_train_set[\"redshift\"]\n",
    "    y_train_red = y_train_red.reset_index(drop = True)\n",
    "    y_test_red = strat_test_set[\"redshift\"]\n",
    "    y_test_red = y_test_red.reset_index(drop = True)\n",
    "\n",
    "    # calculate cross-validation rmse scores\n",
    "    scores = cross_val_score(RandomForestRegressor(max_features = 2, n_estimators = 50, random_state=42), \n",
    "                             x_train_red, y_train_red, scoring=\"neg_mean_squared_error\", cv=3)\n",
    "    rmse_scores = np.sqrt(-scores)\n",
    "\n",
    "    # add mean and standard deviation to arrays\n",
    "    RF_crossval_rmse_mean_red = np.append(RF_crossval_rmse_mean_red, rmse_scores.mean())\n",
    "    RF_crossval_rmse_std_red = np.append(RF_crossval_rmse_std_red, rmse_scores.std())\n",
    "\n",
    "# plot rmse score as function of threshold redshift value\n",
    "plt.errorbar(redshift_values, RF_crossval_rmse_mean_red, yerr = RF_crossval_rmse_std_red, fmt='.')"
   ]
  },
  {
   "cell_type": "markdown",
   "metadata": {},
   "source": [
    "#### Random Hyperparameters Search (Random Forest)"
   ]
  },
  {
   "cell_type": "code",
   "execution_count": 16,
   "metadata": {
    "collapsed": true,
    "jupyter": {
     "outputs_hidden": true,
     "source_hidden": true
    }
   },
   "outputs": [
    {
     "name": "stdout",
     "output_type": "stream",
     "text": [
      "{'n_estimators': 66, 'min_weight_fraction_leaf': 0, 'min_samples_split': 73, 'min_samples_leaf': 64, 'max_features': 5}\n",
      "Time taken for random search with 10  iterations:  203.1249234676361\n",
      "{'n_estimators': 187, 'min_weight_fraction_leaf': 0, 'min_samples_split': 44, 'min_samples_leaf': 25, 'max_features': 3}\n",
      "Time taken for random search with 20  iterations:  483.2149384021759\n",
      "{'n_estimators': 89, 'min_weight_fraction_leaf': 0, 'min_samples_split': 22, 'min_samples_leaf': 38, 'max_features': 2}\n",
      "Time taken for random search with 30  iterations:  246.7203652858734\n"
     ]
    }
   ],
   "source": [
    "param_grid = {'n_estimators': np.linspace(1,200,200).astype(int), \n",
    "               'max_features': np.linspace(1,5,5).astype(int),\n",
    "               #'criterion': ['mse', 'mae'],\n",
    "               'min_samples_split': np.linspace(2,100,99).astype(int),\n",
    "               'min_samples_leaf': np.linspace(1,100,100).astype(int),\n",
    "               'min_weight_fraction_leaf': [0, 0.1, 0.2, 0.3, 0.4]}\n",
    "\n",
    "forest_reg = RandomForestRegressor(random_state=42)\n",
    "\n",
    "number_iterations = [10, 20, 30]\n",
    "\n",
    "for n in number_iterations:\n",
    "    start_time = time.time()\n",
    "    random_search = RandomizedSearchCV(forest_reg, param_distributions=param_grid,\n",
    "                                  cv = 3, n_iter = n)\n",
    "    random_search.fit(x_train_scaled, y_train)\n",
    "    print(random_search.best_params_)\n",
    "    print(\"Time taken for random search with\", n, \" iterations: \", time.time() - start_time)\n"
   ]
  },
  {
   "cell_type": "code",
   "execution_count": 20,
   "metadata": {
    "jupyter": {
     "source_hidden": true
    }
   },
   "outputs": [
    {
     "data": {
      "text/plain": [
       "{'max_features': 3,\n",
       " 'min_samples_leaf': 25,\n",
       " 'min_samples_split': 40,\n",
       " 'min_weight_fraction_leaf': 0,\n",
       " 'n_estimators': 50}"
      ]
     },
     "execution_count": 20,
     "metadata": {},
     "output_type": "execute_result"
    }
   ],
   "source": [
    "param_grid = {'n_estimators': [50], \n",
    "               'max_features': [3],\n",
    "               #'criterion': ['mse', 'mae'],\n",
    "               'min_samples_split': [30,40,50],\n",
    "               'min_samples_leaf': [25],\n",
    "               'min_weight_fraction_leaf': [0]}\n",
    "\n",
    "forest_reg = RandomForestRegressor(random_state=42)\n",
    "\n",
    "grid_search = GridSearchCV(forest_reg, param_grid, cv=3,\n",
    "                           scoring='neg_mean_squared_error',\n",
    "                           return_train_score=True)\n",
    "\n",
    "grid_search.fit(x_train_scaled, y_train)\n",
    "\n",
    "grid_search.best_params_"
   ]
  },
  {
   "cell_type": "markdown",
   "metadata": {},
   "source": [
    "## Testing optimised models\n",
    "\n",
    "## 1. Random Forest\n",
    "\n",
    "{'max_features': 3, 'min_samples_leaf': 25, 'min_samples_split': 40,'min_weight_fraction_leaf': 0,'n_estimators': 50}"
   ]
  },
  {
   "cell_type": "code",
   "execution_count": 14,
   "metadata": {},
   "outputs": [
    {
     "name": "stdout",
     "output_type": "stream",
     "text": [
      "RMSE on test set using fine tuned Random Forest Regressor: 0.11287084257818789\n",
      "Average cross-validation RMSE using Random Forest Regressor: 0.10865080355054094 \n",
      "with standard deviation: 0.00178082180985961\n"
     ]
    }
   ],
   "source": [
    "RF_test_rmse_fine = model_fit_test(RandomForestRegressor(max_features=3, min_samples_leaf=25, min_samples_split=40,\n",
    "                                                    min_weight_fraction_leaf=0,n_estimators=50,random_state=42))\n",
    "print(\"RMSE on test set using fine tuned Random Forest Regressor:\", RF_test_rmse_fine)\n",
    "\n",
    "RF_crossval_mean_fine, RF_crossval_std_fine = model_crossval_errors(RandomForestRegressor(max_features=3, \n",
    "                                                min_samples_leaf=25, min_samples_split=40,\n",
    "                                                min_weight_fraction_leaf=0,n_estimators=50,random_state=42),5)\n",
    "print(\"Average cross-validation RMSE using Random Forest Regressor:\", RF_crossval_mean_fine,\n",
    "     \"\\nwith standard deviation:\", RF_crossval_std_fine)"
   ]
  },
  {
   "cell_type": "markdown",
   "metadata": {},
   "source": [
    "## 2. K-Nearest Neighbors\n",
    "\n",
    "{'leaf_size': 1, 'n_neighbors': 19, 'p': 1}"
   ]
  },
  {
   "cell_type": "code",
   "execution_count": null,
   "metadata": {
    "jupyter": {
     "source_hidden": true
    }
   },
   "outputs": [],
   "source": [
    "param_grid = {'n_neighbors': [20,21,22,23],\n",
    "               'p': [1],\n",
    "               'leaf_size': [1]}\n",
    "\n",
    "neigh = KNeighborsRegressor()\n",
    "\n",
    "grid_search = GridSearchCV(neigh, param_grid, cv=5)\n",
    "\n",
    "grid_search.fit(x_train_scaled, y_train)\n",
    "\n",
    "grid_search.best_params_"
   ]
  },
  {
   "cell_type": "code",
   "execution_count": 22,
   "metadata": {
    "jupyter": {
     "source_hidden": true
    }
   },
   "outputs": [
    {
     "data": {
      "image/png": "[encoded data removed]",
      "text/plain": [
       "<Figure size 432x288 with 1 Axes>"
      ]
     },
     "metadata": {
      "needs_background": "light"
     },
     "output_type": "display_data"
    }
   ],
   "source": [
    "neighbours = range(1,31)\n",
    "rmse_crossval_KNN_mean = []\n",
    "rmse_crossval_KNN_std = []\n",
    "\n",
    "# analyse how the cross-val rmse varies with different number of neighbors\n",
    "for n in neighbours:\n",
    "    # import fine-tuned model\n",
    "    neigh = KNeighborsRegressor(p=1, leaf_size=1, n_neighbors=n)\n",
    "    # cross-val mean and std\n",
    "    mean, std  = model_crossval_errors(\n",
    "        KNeighborsRegressor(leaf_size=1, n_neighbors=n, p=1),5)    \n",
    "    # store values in array\n",
    "    rmse_crossval_KNN_mean = np.append(rmse_crossval_KNN_mean, mean)\n",
    "    rmse_crossval_KNN_std = np.append(rmse_crossval_KNN_std, std)\n",
    "    \n",
    "# plot rmse as function of n_neighbors \n",
    "plt.errorbar(neighbours, rmse_crossval_KNN_mean, yerr=rmse_crossval_KNN_std, fmt='.');"
   ]
  },
  {
   "cell_type": "code",
   "execution_count": 15,
   "metadata": {},
   "outputs": [
    {
     "name": "stdout",
     "output_type": "stream",
     "text": [
      "RMSE on test set using fine tuned KNN Regressor: 0.11581033678032172\n",
      "Average cross-validation RMSE using KNN Regressor: 0.11157222228880344 \n",
      "with standard deviation: 0.0017855581806078336\n"
     ]
    }
   ],
   "source": [
    "KNN_test_rmse_fine = model_fit_test(KNeighborsRegressor(leaf_size=1, n_neighbors=19, p=1))\n",
    "print(\"RMSE on test set using fine tuned KNN Regressor:\", KNN_test_rmse_fine)\n",
    "\n",
    "KNN_crossval_mean_fine, KNN_crossval_std_fine = model_crossval_errors(KNeighborsRegressor(leaf_size=1, \n",
    "                                                        n_neighbors=19, p=1),5)\n",
    "print(\"Average cross-validation RMSE using KNN Regressor:\", KNN_crossval_mean_fine,\n",
    "     \"\\nwith standard deviation:\", KNN_crossval_std_fine)"
   ]
  },
  {
   "cell_type": "markdown",
   "metadata": {},
   "source": [
    "## 3. Support Vector Regressor\n",
    "\n",
    "{'C': 1.5, 'cache_size': 200, 'degree': 2, 'epsilon': 0.1}"
   ]
  },
  {
   "cell_type": "code",
   "execution_count": 67,
   "metadata": {
    "collapsed": true,
    "jupyter": {
     "outputs_hidden": true,
     "source_hidden": true
    }
   },
   "outputs": [
    {
     "data": {
      "text/plain": [
       "{'C': 1.5, 'cache_size': 200, 'degree': 2, 'epsilon': 0.1}"
      ]
     },
     "execution_count": 67,
     "metadata": {},
     "output_type": "execute_result"
    }
   ],
   "source": [
    "param_grid = {'degree': [2,3,4], \n",
    "               'C': [1,1.5,2],\n",
    "               'epsilon': [0.1],\n",
    "               'cache_size': [200,250]}\n",
    "\n",
    "sv_reg = SVR()\n",
    "\n",
    "grid_search = GridSearchCV(sv_reg, param_grid, cv=3)\n",
    "\n",
    "grid_search.fit(x_train_scaled, y_train)\n",
    "\n",
    "grid_search.best_params_"
   ]
  },
  {
   "cell_type": "code",
   "execution_count": 16,
   "metadata": {},
   "outputs": [
    {
     "name": "stdout",
     "output_type": "stream",
     "text": [
      "RMSE on test set using fine tuned Support Vector Regressor: 0.11506325495362807\n",
      "Average cross-validation RMSE using Support Vector Regressor: 0.11113890302966505 \n",
      "with standard deviation: 0.001448113319343848\n"
     ]
    }
   ],
   "source": [
    "SVR_test_rmse_fine = model_fit_test(SVR(C=1.5, cache_size=200, degree=2, epsilon=0.1))\n",
    "print(\"RMSE on test set using fine tuned Support Vector Regressor:\", SVR_test_rmse_fine)\n",
    "\n",
    "SVR_crossval_mean_fine, SVR_crossval_std_fine = model_crossval_errors(SVR(C=1.5, cache_size=200, degree=2, epsilon=0.1)\n",
    "                                                          ,5)\n",
    "print(\"Average cross-validation RMSE using Support Vector Regressor:\", SVR_crossval_mean_fine,\n",
    "     \"\\nwith standard deviation:\", SVR_crossval_std_fine)"
   ]
  },
  {
   "cell_type": "markdown",
   "metadata": {},
   "source": [
    "## 4. Gradient Boosting Regressor\n",
    "\n",
    "Gradient boosting is fairly robust to over-fitting so a large number usually results in better performance\n",
    "\n",
    "alpha=0.3,learning_rate=0.2,max_depth=5,max_features=3,min_samples_leaf=25,min_samples_split=100,min_weight_fraction_leaf=0,n_estimators=50,subsample=0.8"
   ]
  },
  {
   "cell_type": "code",
   "execution_count": 81,
   "metadata": {
    "collapsed": true,
    "jupyter": {
     "outputs_hidden": true,
     "source_hidden": true
    }
   },
   "outputs": [
    {
     "name": "stdout",
     "output_type": "stream",
     "text": [
      "{'subsample': 0.8, 'n_estimators': 150, 'min_weight_fraction_leaf': 0, 'min_samples_split': 100, 'min_samples_leaf': 50, 'max_features': 2, 'max_depth': 4, 'learning_rate': 0.3, 'alpha': 0.3}\n",
      "Time taken for random search with 100  iterations:  1059.6256692409515\n",
      "{'subsample': 1, 'n_estimators': 100, 'min_weight_fraction_leaf': 0, 'min_samples_split': 75, 'min_samples_leaf': 25, 'max_features': 2, 'max_depth': 5, 'learning_rate': 0.1, 'alpha': 0.6}\n",
      "Time taken for random search with 200  iterations:  1742.9782285690308\n"
     ]
    }
   ],
   "source": [
    "{'subsample': 0.8, 'n_estimators': 150, 'min_weight_fraction_leaf': 0, \n",
    " 'min_samples_split': 100, 'min_samples_leaf': 50, 'max_features': 2, \n",
    " 'max_depth': 4, 'learning_rate': 0.3, 'alpha': 0.3}\n",
    "\n",
    "param_grid = {'n_estimators': [50,100,150,200], \n",
    "               'learning_rate': [0.1,0.2,0.3,0.4,0.5],\n",
    "               'min_samples_split': [2,25,50,75,100],\n",
    "               'min_samples_leaf': [1,25,50,75,100],\n",
    "               'min_weight_fraction_leaf': [0, 0.1, 0.2, 0.3, 0.4],\n",
    "               'subsample': [0.1,0.2,0.3,0.4,0.5,0.6,0.7,0.8,0.9,1],\n",
    "               'max_features': [1,2,3,4,5],\n",
    "               'alpha': [0.1,0.2,0.3,0.4,0.5,0.6,0.7,0.8,0.9],\n",
    "               'max_depth': [1,2,3,4,5]}\n",
    "\n",
    "GB_reg = GradientBoostingRegressor(random_state=42)\n",
    "\n",
    "number_iterations = [100, 200]\n",
    "\n",
    "for n in number_iterations:\n",
    "    start_time = time.time()\n",
    "    random_search = RandomizedSearchCV(GB_reg, param_distributions=param_grid,\n",
    "                                  cv = 3, n_iter = n)\n",
    "    random_search.fit(x_train_scaled, y_train)\n",
    "    print(random_search.best_params_)\n",
    "    print(\"Time taken for random search with\", n, \" iterations: \", time.time() - start_time)"
   ]
  },
  {
   "cell_type": "code",
   "execution_count": 82,
   "metadata": {
    "jupyter": {
     "source_hidden": true
    }
   },
   "outputs": [
    {
     "data": {
      "text/plain": [
       "{'alpha': 0.3,\n",
       " 'learning_rate': 0.2,\n",
       " 'max_depth': 5,\n",
       " 'max_features': 3,\n",
       " 'min_samples_leaf': 25,\n",
       " 'min_samples_split': 100,\n",
       " 'min_weight_fraction_leaf': 0,\n",
       " 'n_estimators': 50,\n",
       " 'subsample': 0.8}"
      ]
     },
     "execution_count": 82,
     "metadata": {},
     "output_type": "execute_result"
    }
   ],
   "source": [
    "param_grid = {'n_estimators': [50], \n",
    "               'learning_rate': [0.2,0.3],\n",
    "               'min_samples_split': [100],\n",
    "               'min_samples_leaf': [25,50],\n",
    "               'min_weight_fraction_leaf': [0],\n",
    "               'subsample': [0.8],\n",
    "               'max_features': [2,3],\n",
    "               'alpha': [0.3,0.5],\n",
    "               'max_depth': [4,5]}\n",
    "\n",
    "GB_reg = GradientBoostingRegressor(random_state=42)\n",
    "\n",
    "grid_search = GridSearchCV(GB_reg, param_grid, cv=3)\n",
    "\n",
    "grid_search.fit(x_train_scaled, y_train)\n",
    "\n",
    "grid_search.best_params_"
   ]
  },
  {
   "cell_type": "code",
   "execution_count": 17,
   "metadata": {},
   "outputs": [
    {
     "name": "stdout",
     "output_type": "stream",
     "text": [
      "RMSE on test set using fine tuned Gradient Boosting Regressor: 0.11489842371767413\n",
      "Average cross-validation RMSE using Gradient Boosted Regressor: 0.11085817260797477 \n",
      "with standard deviation: 0.001871698943159269\n"
     ]
    }
   ],
   "source": [
    "GBR_test_rmse_fine = model_fit_test(GradientBoostingRegressor(alpha=0.3,learning_rate=0.2,max_depth=5,max_features=3,min_samples_leaf=25,\n",
    "                                                              min_samples_split=100,min_weight_fraction_leaf=0,n_estimators=50,subsample=0.8, random_state=42))\n",
    "print(\"RMSE on test set using fine tuned Gradient Boosting Regressor:\", GBR_test_rmse_fine)\n",
    "\n",
    "GBR_crossval_mean_fine, GBR_crossval_std_fine = model_crossval_errors(GradientBoostingRegressor(alpha=0.3,learning_rate=0.2,max_depth=5,max_features=3,\n",
    "                                                                                                min_samples_leaf=25,min_samples_split=100,min_weight_fraction_leaf=0,\n",
    "                                                                                                n_estimators=50,subsample=0.8, random_state=42),5)\n",
    "print(\"Average cross-validation RMSE using Gradient Boosted Regressor:\", GBR_crossval_mean_fine,\n",
    "     \"\\nwith standard deviation:\", GBR_crossval_std_fine)"
   ]
  },
  {
   "cell_type": "markdown",
   "metadata": {},
   "source": [
    "## Fine tuned models vs Default models (on test set and cross-validation)"
   ]
  },
  {
   "cell_type": "code",
   "execution_count": 36,
   "metadata": {},
   "outputs": [
    {
     "data": {
      "text/plain": [
       "<matplotlib.legend.Legend at 0x2295d4eda88>"
      ]
     },
     "execution_count": 36,
     "metadata": {},
     "output_type": "execute_result"
    },
    {
     "data": {
      "image/png": "[encoded data removed]",
      "text/plain": [
       "<Figure size 432x288 with 1 Axes>"
      ]
     },
     "metadata": {
      "needs_background": "light"
     },
     "output_type": "display_data"
    }
   ],
   "source": [
    "models = [\"RF\", \"KNN\", \"SVR\", \"GBR\"]\n",
    "\n",
    "# for default models found at the start\n",
    "crossval_means = [RF_crossval_mean, KNN_crossval_mean, SVR_crossval_mean,\n",
    "                 GBR_crossval_mean]\n",
    "crossval_stds = [RF_crossval_std, KNN_crossval_std, SVR_crossval_std,\n",
    "                 GBR_crossval_std]\n",
    "test_rmses = [RF_test_rmse, KNN_test_rmse, SVR_test_rmse,\n",
    "              GBR_test_rmse]\n",
    "\n",
    "# for fine-tuned models found after hyperparameter optimisation\n",
    "crossval_means_fine = [RF_crossval_mean_fine, KNN_crossval_mean_fine, SVR_crossval_mean_fine,\n",
    "                 GBR_crossval_mean_fine]\n",
    "crossval_stds_fine = [RF_crossval_std_fine, KNN_crossval_std_fine, SVR_crossval_std_fine,\n",
    "                 GBR_crossval_std_fine]\n",
    "test_rmses_fine = [RF_test_rmse_fine, KNN_test_rmse_fine, SVR_test_rmse_fine,\n",
    "              GBR_test_rmse_fine]\n",
    "\n",
    "# plot cross-val rmse and test rmse for all models and default/fine-tuned models\n",
    "plt.errorbar(models, crossval_means, yerr=crossval_stds,fmt='.', label=\"Cross-val RMSE\")\n",
    "plt.errorbar(models, crossval_means_fine, yerr=crossval_stds_fine, fmt='.', label=\"Fine tuned cross-val RMSE\")\n",
    "plt.plot(models, test_rmses, '.', label=\"RMSE on test set\")\n",
    "plt.plot(models, test_rmses_fine, '.', label=\"Fine tuned RMSE on test set\")\n",
    "plt.legend(loc='center left', bbox_to_anchor=(1, 0.5))"
   ]
  },
  {
   "cell_type": "markdown",
   "metadata": {},
   "source": [
    "**Trying baysian optimisation with optuna ... (FAIL)**"
   ]
  },
  {
   "cell_type": "markdown",
   "metadata": {},
   "source": [
    "-------------------\n",
    "\n",
    "## Importing the FP and FN outliers from the SDSS-2 Jupyter Notebook\n",
    "\n",
    "For each outlier, predict redshift value using filters and compare to \"true\" redshift. If \"true\" redshift outside 3 standard deviations, label it as outlier and remove it from training set? How do we define the standard deviation? using cross-validation rmse? if so, how many cv?\n",
    "\n",
    "### A. False Negative outliers"
   ]
  },
  {
   "cell_type": "code",
   "execution_count": 18,
   "metadata": {},
   "outputs": [],
   "source": [
    "# array of False Negative outliers where all three chosen classifier models were wrong in their classification\n",
    "%store -r FN_outliers\n",
    "\n",
    "# seperate datafrae into input and output\n",
    "x_FN_outliers = FN_outliers.drop(columns=\"redshift\")\n",
    "# scale input\n",
    "x_FN_outliers_scaled = StandardScaler().fit_transform(x_FN_outliers)\n",
    "y_FN_outliers = FN_outliers[\"redshift\"]"
   ]
  },
  {
   "cell_type": "code",
   "execution_count": 19,
   "metadata": {},
   "outputs": [],
   "source": [
    "# importing all fine tuned models\n",
    "RF_reg = RandomForestRegressor(max_features=3, min_samples_leaf=25, min_samples_split=40,\n",
    "                                min_weight_fraction_leaf=0,n_estimators=50,random_state=42)\n",
    "KNN_reg = KNeighborsRegressor(leaf_size=1, n_neighbors=19, p=1)\n",
    "SV_reg = SVR(C=1.5, cache_size=200, degree=2, epsilon=0.1)\n",
    "GB_reg = GradientBoostingRegressor(alpha=0.3,learning_rate=0.2,max_depth=5,max_features=3,\n",
    "                                   min_samples_leaf=25,min_samples_split=100,\n",
    "                                   min_weight_fraction_leaf=0,n_estimators=50,subsample=0.8, \n",
    "                                   random_state=42)\n",
    "\n",
    "# fitting each model to the training data as we did above\n",
    "RF_reg.fit(x_train_scaled, y_train)\n",
    "KNN_reg.fit(x_train_scaled, y_train)\n",
    "SV_reg.fit(x_train_scaled, y_train)\n",
    "GB_reg.fit(x_train_scaled, y_train);"
   ]
  },
  {
   "cell_type": "code",
   "execution_count": 20,
   "metadata": {},
   "outputs": [],
   "source": [
    "# redshift predictions of outliers for each model\n",
    "x_FN_outliers_predRF = RF_reg.predict(x_FN_outliers_scaled)\n",
    "x_FN_outliers_predKNN = KNN_reg.predict(x_FN_outliers_scaled)\n",
    "x_FN_outliers_predSV = SV_reg.predict(x_FN_outliers_scaled)\n",
    "x_FN_outliers_predGB = GB_reg.predict(x_FN_outliers_scaled)"
   ]
  },
  {
   "cell_type": "code",
   "execution_count": 22,
   "metadata": {},
   "outputs": [],
   "source": [
    "# turn redshifts into an array\n",
    "y_FN_outliers_array = np.array(y_FN_outliers)\n",
    "# reset index (0,1,2,3...) so that we can easily go through them\n",
    "x_FN_outliers_reset = x_FN_outliers.reset_index()\n",
    "# defining empty dataframe\n",
    "confirmed_FN_outliers = pd.DataFrame([])\n",
    "\n",
    "# go through all FN outliers\n",
    "for n in range(0,len(x_FN_outliers_predRF)):\n",
    "    # if their predicted redshift is more than 3std away from the \"real\" value for ALL four regression models\n",
    "    # confirm it as an outlier\n",
    "    if ((x_FN_outliers_predRF[n] - y_FN_outliers_array[n] > 3*RF_crossval_std_fine) \n",
    "        & (x_FN_outliers_predKNN[n] - y_FN_outliers_array[n] > 3*KNN_crossval_std_fine) \n",
    "        & (x_FN_outliers_predGB[n] - y_FN_outliers_array[n] > 3*GBR_crossval_std_fine) \n",
    "        & (x_FN_outliers_predSV[n] - y_FN_outliers_array[n] > 3*SVR_crossval_std_fine)):\n",
    "        \n",
    "        # add to the confirmed outlier array\n",
    "        confirmed_FN_outliers = confirmed_FN_outliers.append(x_FN_outliers_reset[x_FN_outliers_reset.index == n])\n",
    "    \n",
    "    # otherwise, pass that object and move on to next one (do nothing)\n",
    "    else:\n",
    "        pass"
   ]
  },
  {
   "cell_type": "code",
   "execution_count": 40,
   "metadata": {},
   "outputs": [
    {
     "name": "stdout",
     "output_type": "stream",
     "text": [
      "There are 24 confirmed galaxy outliers.\n"
     ]
    },
    {
     "data": {
      "text/html": [
       "<div>\n",
       "<style scoped>\n",
       "    .dataframe tbody tr th:only-of-type {\n",
       "        vertical-align: middle;\n",
       "    }\n",
       "\n",
       "    .dataframe tbody tr th {\n",
       "        vertical-align: top;\n",
       "    }\n",
       "\n",
       "    .dataframe thead th {\n",
       "        text-align: right;\n",
       "    }\n",
       "</style>\n",
       "<table border=\"1\" class=\"dataframe\">\n",
       "  <thead>\n",
       "    <tr style=\"text-align: right;\">\n",
       "      <th></th>\n",
       "      <th>index</th>\n",
       "      <th>u</th>\n",
       "      <th>g</th>\n",
       "      <th>r</th>\n",
       "      <th>i</th>\n",
       "      <th>z</th>\n",
       "    </tr>\n",
       "  </thead>\n",
       "  <tbody>\n",
       "    <tr>\n",
       "      <td>2</td>\n",
       "      <td>886</td>\n",
       "      <td>23.08599</td>\n",
       "      <td>21.38049</td>\n",
       "      <td>20.50813</td>\n",
       "      <td>20.12010</td>\n",
       "      <td>19.84985</td>\n",
       "    </tr>\n",
       "    <tr>\n",
       "      <td>16</td>\n",
       "      <td>2887</td>\n",
       "      <td>21.73831</td>\n",
       "      <td>21.11256</td>\n",
       "      <td>20.61874</td>\n",
       "      <td>20.63627</td>\n",
       "      <td>20.42044</td>\n",
       "    </tr>\n",
       "    <tr>\n",
       "      <td>20</td>\n",
       "      <td>3738</td>\n",
       "      <td>20.55432</td>\n",
       "      <td>20.06602</td>\n",
       "      <td>19.91875</td>\n",
       "      <td>19.83882</td>\n",
       "      <td>19.83541</td>\n",
       "    </tr>\n",
       "    <tr>\n",
       "      <td>34</td>\n",
       "      <td>5215</td>\n",
       "      <td>21.87877</td>\n",
       "      <td>19.01674</td>\n",
       "      <td>17.09904</td>\n",
       "      <td>16.04382</td>\n",
       "      <td>15.29287</td>\n",
       "    </tr>\n",
       "    <tr>\n",
       "      <td>40</td>\n",
       "      <td>5808</td>\n",
       "      <td>21.32007</td>\n",
       "      <td>19.89066</td>\n",
       "      <td>19.18891</td>\n",
       "      <td>18.74771</td>\n",
       "      <td>18.39008</td>\n",
       "    </tr>\n",
       "    <tr>\n",
       "      <td>45</td>\n",
       "      <td>7364</td>\n",
       "      <td>22.92426</td>\n",
       "      <td>20.84595</td>\n",
       "      <td>19.09433</td>\n",
       "      <td>18.06660</td>\n",
       "      <td>17.28015</td>\n",
       "    </tr>\n",
       "    <tr>\n",
       "      <td>54</td>\n",
       "      <td>8619</td>\n",
       "      <td>25.00248</td>\n",
       "      <td>25.11438</td>\n",
       "      <td>22.05079</td>\n",
       "      <td>20.36306</td>\n",
       "      <td>18.54421</td>\n",
       "    </tr>\n",
       "    <tr>\n",
       "      <td>57</td>\n",
       "      <td>9064</td>\n",
       "      <td>20.66753</td>\n",
       "      <td>19.52406</td>\n",
       "      <td>19.12230</td>\n",
       "      <td>18.95292</td>\n",
       "      <td>18.82279</td>\n",
       "    </tr>\n",
       "    <tr>\n",
       "      <td>95</td>\n",
       "      <td>15080</td>\n",
       "      <td>21.96685</td>\n",
       "      <td>21.89731</td>\n",
       "      <td>21.78845</td>\n",
       "      <td>21.72284</td>\n",
       "      <td>21.15170</td>\n",
       "    </tr>\n",
       "    <tr>\n",
       "      <td>96</td>\n",
       "      <td>15293</td>\n",
       "      <td>22.53473</td>\n",
       "      <td>21.70621</td>\n",
       "      <td>21.91383</td>\n",
       "      <td>21.71417</td>\n",
       "      <td>21.71736</td>\n",
       "    </tr>\n",
       "    <tr>\n",
       "      <td>116</td>\n",
       "      <td>19472</td>\n",
       "      <td>21.23417</td>\n",
       "      <td>20.83912</td>\n",
       "      <td>20.44231</td>\n",
       "      <td>20.52193</td>\n",
       "      <td>20.20470</td>\n",
       "    </tr>\n",
       "    <tr>\n",
       "      <td>129</td>\n",
       "      <td>22675</td>\n",
       "      <td>17.60830</td>\n",
       "      <td>16.58812</td>\n",
       "      <td>16.38152</td>\n",
       "      <td>16.31552</td>\n",
       "      <td>16.24990</td>\n",
       "    </tr>\n",
       "    <tr>\n",
       "      <td>194</td>\n",
       "      <td>30221</td>\n",
       "      <td>25.79014</td>\n",
       "      <td>22.48599</td>\n",
       "      <td>21.63917</td>\n",
       "      <td>21.40896</td>\n",
       "      <td>21.19727</td>\n",
       "    </tr>\n",
       "    <tr>\n",
       "      <td>196</td>\n",
       "      <td>30540</td>\n",
       "      <td>18.49976</td>\n",
       "      <td>17.66340</td>\n",
       "      <td>17.31023</td>\n",
       "      <td>17.16737</td>\n",
       "      <td>17.14023</td>\n",
       "    </tr>\n",
       "    <tr>\n",
       "      <td>199</td>\n",
       "      <td>30880</td>\n",
       "      <td>24.63466</td>\n",
       "      <td>21.94040</td>\n",
       "      <td>20.98380</td>\n",
       "      <td>20.03023</td>\n",
       "      <td>21.78583</td>\n",
       "    </tr>\n",
       "    <tr>\n",
       "      <td>243</td>\n",
       "      <td>38847</td>\n",
       "      <td>22.95066</td>\n",
       "      <td>21.76226</td>\n",
       "      <td>21.20094</td>\n",
       "      <td>20.72611</td>\n",
       "      <td>20.32747</td>\n",
       "    </tr>\n",
       "    <tr>\n",
       "      <td>287</td>\n",
       "      <td>45716</td>\n",
       "      <td>22.93275</td>\n",
       "      <td>21.63866</td>\n",
       "      <td>21.03373</td>\n",
       "      <td>20.84996</td>\n",
       "      <td>20.04110</td>\n",
       "    </tr>\n",
       "    <tr>\n",
       "      <td>289</td>\n",
       "      <td>46048</td>\n",
       "      <td>23.25398</td>\n",
       "      <td>22.04872</td>\n",
       "      <td>21.84251</td>\n",
       "      <td>21.66598</td>\n",
       "      <td>21.25882</td>\n",
       "    </tr>\n",
       "    <tr>\n",
       "      <td>301</td>\n",
       "      <td>48129</td>\n",
       "      <td>23.38017</td>\n",
       "      <td>21.89897</td>\n",
       "      <td>22.00346</td>\n",
       "      <td>21.79574</td>\n",
       "      <td>22.42511</td>\n",
       "    </tr>\n",
       "    <tr>\n",
       "      <td>308</td>\n",
       "      <td>48882</td>\n",
       "      <td>24.27498</td>\n",
       "      <td>22.10401</td>\n",
       "      <td>21.41984</td>\n",
       "      <td>21.14886</td>\n",
       "      <td>21.21213</td>\n",
       "    </tr>\n",
       "    <tr>\n",
       "      <td>332</td>\n",
       "      <td>51768</td>\n",
       "      <td>22.61095</td>\n",
       "      <td>20.79625</td>\n",
       "      <td>19.81483</td>\n",
       "      <td>18.75145</td>\n",
       "      <td>17.79778</td>\n",
       "    </tr>\n",
       "    <tr>\n",
       "      <td>345</td>\n",
       "      <td>54451</td>\n",
       "      <td>22.37866</td>\n",
       "      <td>21.16018</td>\n",
       "      <td>21.74342</td>\n",
       "      <td>21.03468</td>\n",
       "      <td>20.22576</td>\n",
       "    </tr>\n",
       "    <tr>\n",
       "      <td>352</td>\n",
       "      <td>55378</td>\n",
       "      <td>21.43289</td>\n",
       "      <td>19.61163</td>\n",
       "      <td>19.27519</td>\n",
       "      <td>18.91073</td>\n",
       "      <td>19.18312</td>\n",
       "    </tr>\n",
       "    <tr>\n",
       "      <td>361</td>\n",
       "      <td>58891</td>\n",
       "      <td>24.94052</td>\n",
       "      <td>21.66670</td>\n",
       "      <td>21.91110</td>\n",
       "      <td>22.08364</td>\n",
       "      <td>21.87749</td>\n",
       "    </tr>\n",
       "  </tbody>\n",
       "</table>\n",
       "</div>"
      ],
      "text/plain": [
       "     index         u         g         r         i         z\n",
       "2      886  23.08599  21.38049  20.50813  20.12010  19.84985\n",
       "16    2887  21.73831  21.11256  20.61874  20.63627  20.42044\n",
       "20    3738  20.55432  20.06602  19.91875  19.83882  19.83541\n",
       "34    5215  21.87877  19.01674  17.09904  16.04382  15.29287\n",
       "40    5808  21.32007  19.89066  19.18891  18.74771  18.39008\n",
       "45    7364  22.92426  20.84595  19.09433  18.06660  17.28015\n",
       "54    8619  25.00248  25.11438  22.05079  20.36306  18.54421\n",
       "57    9064  20.66753  19.52406  19.12230  18.95292  18.82279\n",
       "95   15080  21.96685  21.89731  21.78845  21.72284  21.15170\n",
       "96   15293  22.53473  21.70621  21.91383  21.71417  21.71736\n",
       "116  19472  21.23417  20.83912  20.44231  20.52193  20.20470\n",
       "129  22675  17.60830  16.58812  16.38152  16.31552  16.24990\n",
       "194  30221  25.79014  22.48599  21.63917  21.40896  21.19727\n",
       "196  30540  18.49976  17.66340  17.31023  17.16737  17.14023\n",
       "199  30880  24.63466  21.94040  20.98380  20.03023  21.78583\n",
       "243  38847  22.95066  21.76226  21.20094  20.72611  20.32747\n",
       "287  45716  22.93275  21.63866  21.03373  20.84996  20.04110\n",
       "289  46048  23.25398  22.04872  21.84251  21.66598  21.25882\n",
       "301  48129  23.38017  21.89897  22.00346  21.79574  22.42511\n",
       "308  48882  24.27498  22.10401  21.41984  21.14886  21.21213\n",
       "332  51768  22.61095  20.79625  19.81483  18.75145  17.79778\n",
       "345  54451  22.37866  21.16018  21.74342  21.03468  20.22576\n",
       "352  55378  21.43289  19.61163  19.27519  18.91073  19.18312\n",
       "361  58891  24.94052  21.66670  21.91110  22.08364  21.87749"
      ]
     },
     "execution_count": 40,
     "metadata": {},
     "output_type": "execute_result"
    }
   ],
   "source": [
    "print(\"There are\",len(confirmed_FN_outliers),\"confirmed galaxy outliers.\")\n",
    "confirmed_FN_outliers"
   ]
  },
  {
   "cell_type": "code",
   "execution_count": 34,
   "metadata": {},
   "outputs": [
    {
     "name": "stdout",
     "output_type": "stream",
     "text": [
      "47155\n",
      "47192\n",
      "24\n"
     ]
    }
   ],
   "source": [
    "# select two filters to use to select the data\n",
    "confirmed_FN_outliers_u = np.array(confirmed_FN_outliers[\"u\"])\n",
    "confirmed_FN_outliers_z = np.array(confirmed_FN_outliers[\"z\"])\n",
    "confirmed_FN_outliers_g = np.array(confirmed_FN_outliers[\"g\"])\n",
    "confirmed_FN_outliers_r = np.array(confirmed_FN_outliers[\"r\"])\n",
    "confirmed_FN_outliers_i = np.array(confirmed_FN_outliers[\"i\"])\n",
    "\n",
    "# remove all labelled galaxies that have the filter values of the outliers\n",
    "x_train_noFN = x_train[(~x_train[\"u\"].isin(confirmed_FN_outliers_u)) \n",
    "                      & (~x_train[\"z\"].isin(confirmed_FN_outliers_z))\n",
    "                      & (~x_train[\"g\"].isin(confirmed_FN_outliers_g))\n",
    "                      & (~x_train[\"r\"].isin(confirmed_FN_outliers_r))\n",
    "                      & (~x_train[\"i\"].isin(confirmed_FN_outliers_i))]\n",
    "\n",
    "# why are they different? maybe there are doubles???\n",
    "print(len(x_train_noFN))\n",
    "print(len(x_train))\n",
    "print(len(confirmed_FN_outliers_u))"
   ]
  },
  {
   "cell_type": "markdown",
   "metadata": {},
   "source": [
    "### B. False Positive outliers"
   ]
  },
  {
   "cell_type": "code",
   "execution_count": 51,
   "metadata": {},
   "outputs": [],
   "source": [
    "%store -r FP_outliers "
   ]
  },
  {
   "cell_type": "code",
   "execution_count": null,
   "metadata": {},
   "outputs": [],
   "source": []
  }
 ],
 "metadata": {
  "kernelspec": {
   "display_name": "Python 3",
   "language": "python",
   "name": "python3"
  },
  "language_info": {
   "codemirror_mode": {
    "name": "ipython",
    "version": 3
   },
   "file_extension": ".py",
   "mimetype": "text/x-python",
   "name": "python",
   "nbconvert_exporter": "python",
   "pygments_lexer": "ipython3",
   "version": "3.7.4"
  }
 },
 "nbformat": 4,
 "nbformat_minor": 4
}
